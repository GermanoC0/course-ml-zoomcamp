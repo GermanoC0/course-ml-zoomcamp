{
 "cells": [
  {
   "cell_type": "markdown",
   "id": "b03439c2",
   "metadata": {},
   "source": [
    "<H1>1. Problem Description</H1>"
   ]
  },
  {
   "cell_type": "markdown",
   "id": "5cd4c3ef",
   "metadata": {},
   "source": [
    "Dataset of Pizza Price\n",
    "\n",
    "This dataset for beginners for practice\n",
    "\n",
    "https://www.kaggle.com/alyeasin/predict-pizza-price\n",
    "\n",
    "The model could be used for pizza price prediction.\n"
   ]
  },
  {
   "cell_type": "code",
   "execution_count": null,
   "id": "6e09b00e",
   "metadata": {},
   "outputs": [],
   "source": []
  },
  {
   "cell_type": "code",
   "execution_count": 152,
   "id": "d0979d93",
   "metadata": {},
   "outputs": [],
   "source": [
    "import pandas as pd\n",
    "import numpy as np\n",
    "\n",
    "import matplotlib.pyplot as plt\n",
    "import seaborn as sns\n",
    "import math as mathf\n",
    "\n",
    "%matplotlib inline"
   ]
  },
  {
   "cell_type": "code",
   "execution_count": null,
   "id": "c59881ff",
   "metadata": {},
   "outputs": [],
   "source": []
  },
  {
   "cell_type": "code",
   "execution_count": 153,
   "id": "4acc233e",
   "metadata": {},
   "outputs": [
    {
     "data": {
      "text/html": [
       "<div>\n",
       "<style scoped>\n",
       "    .dataframe tbody tr th:only-of-type {\n",
       "        vertical-align: middle;\n",
       "    }\n",
       "\n",
       "    .dataframe tbody tr th {\n",
       "        vertical-align: top;\n",
       "    }\n",
       "\n",
       "    .dataframe thead th {\n",
       "        text-align: right;\n",
       "    }\n",
       "</style>\n",
       "<table border=\"1\" class=\"dataframe\">\n",
       "  <thead>\n",
       "    <tr style=\"text-align: right;\">\n",
       "      <th></th>\n",
       "      <th>Restaurant</th>\n",
       "      <th>Extra Cheeze</th>\n",
       "      <th>Extra Mushroom</th>\n",
       "      <th>Size by Inch</th>\n",
       "      <th>Extra Spicy</th>\n",
       "      <th>Price</th>\n",
       "    </tr>\n",
       "  </thead>\n",
       "  <tbody>\n",
       "    <tr>\n",
       "      <th>0</th>\n",
       "      <td>A</td>\n",
       "      <td>yes</td>\n",
       "      <td>yes</td>\n",
       "      <td>12</td>\n",
       "      <td>no</td>\n",
       "      <td>650</td>\n",
       "    </tr>\n",
       "    <tr>\n",
       "      <th>1</th>\n",
       "      <td>B</td>\n",
       "      <td>no</td>\n",
       "      <td>yes</td>\n",
       "      <td>15</td>\n",
       "      <td>yes</td>\n",
       "      <td>800</td>\n",
       "    </tr>\n",
       "    <tr>\n",
       "      <th>2</th>\n",
       "      <td>C</td>\n",
       "      <td>no</td>\n",
       "      <td>no</td>\n",
       "      <td>9</td>\n",
       "      <td>no</td>\n",
       "      <td>500</td>\n",
       "    </tr>\n",
       "    <tr>\n",
       "      <th>3</th>\n",
       "      <td>D</td>\n",
       "      <td>yes</td>\n",
       "      <td>no</td>\n",
       "      <td>12</td>\n",
       "      <td>yes</td>\n",
       "      <td>700</td>\n",
       "    </tr>\n",
       "    <tr>\n",
       "      <th>4</th>\n",
       "      <td>E</td>\n",
       "      <td>yes</td>\n",
       "      <td>no</td>\n",
       "      <td>12</td>\n",
       "      <td>yes</td>\n",
       "      <td>750</td>\n",
       "    </tr>\n",
       "  </tbody>\n",
       "</table>\n",
       "</div>"
      ],
      "text/plain": [
       "  Restaurant Extra Cheeze Extra Mushroom   Size by Inch Extra Spicy  Price\n",
       "0          A          yes            yes             12          no    650\n",
       "1          B           no            yes             15         yes    800\n",
       "2          C           no             no              9          no    500\n",
       "3          D          yes             no             12         yes    700\n",
       "4          E          yes             no             12         yes    750"
      ]
     },
     "execution_count": 153,
     "metadata": {},
     "output_type": "execute_result"
    }
   ],
   "source": [
    "df = pd.read_csv('Pizza-Price.csv')\n",
    "df.head()"
   ]
  },
  {
   "cell_type": "code",
   "execution_count": null,
   "id": "e5ce1e14",
   "metadata": {},
   "outputs": [],
   "source": []
  },
  {
   "cell_type": "markdown",
   "id": "f6e0008b",
   "metadata": {},
   "source": [
    "<h1>2. EDA</h1>"
   ]
  },
  {
   "cell_type": "markdown",
   "id": "47f5a4af",
   "metadata": {},
   "source": [
    "<b>Fields Type</b>"
   ]
  },
  {
   "cell_type": "code",
   "execution_count": 154,
   "id": "8a5f57df",
   "metadata": {},
   "outputs": [
    {
     "data": {
      "text/plain": [
       "Restaurant        object\n",
       "Extra Cheeze      object\n",
       "Extra Mushroom    object\n",
       " Size by Inch      int64\n",
       "Extra Spicy       object\n",
       "Price              int64\n",
       "dtype: object"
      ]
     },
     "execution_count": 154,
     "metadata": {},
     "output_type": "execute_result"
    }
   ],
   "source": [
    "df.dtypes"
   ]
  },
  {
   "cell_type": "markdown",
   "id": "b675fd48",
   "metadata": {},
   "source": [
    "<b>Check nulls, duplicates and Nuniques</b>"
   ]
  },
  {
   "cell_type": "code",
   "execution_count": 155,
   "id": "79f3f35e",
   "metadata": {},
   "outputs": [
    {
     "data": {
      "text/plain": [
       "Restaurant        0\n",
       "Extra Cheeze      0\n",
       "Extra Mushroom    0\n",
       " Size by Inch     0\n",
       "Extra Spicy       0\n",
       "Price             0\n",
       "dtype: int64"
      ]
     },
     "execution_count": 155,
     "metadata": {},
     "output_type": "execute_result"
    }
   ],
   "source": [
    "df.isnull().sum()"
   ]
  },
  {
   "cell_type": "code",
   "execution_count": 156,
   "id": "50de93e8",
   "metadata": {},
   "outputs": [
    {
     "data": {
      "text/plain": [
       "0"
      ]
     },
     "execution_count": 156,
     "metadata": {},
     "output_type": "execute_result"
    }
   ],
   "source": [
    "df.duplicated().sum()"
   ]
  },
  {
   "cell_type": "code",
   "execution_count": 157,
   "id": "be8bb6e0",
   "metadata": {},
   "outputs": [
    {
     "data": {
      "text/plain": [
       "Restaurant        20\n",
       "Extra Cheeze       2\n",
       "Extra Mushroom     2\n",
       " Size by Inch      4\n",
       "Extra Spicy        2\n",
       "Price             10\n",
       "dtype: int64"
      ]
     },
     "execution_count": 157,
     "metadata": {},
     "output_type": "execute_result"
    }
   ],
   "source": [
    "df.nunique()"
   ]
  },
  {
   "cell_type": "markdown",
   "id": "15a0e60f",
   "metadata": {},
   "source": [
    "<b>Clean columns from spaces</b>"
   ]
  },
  {
   "cell_type": "code",
   "execution_count": 158,
   "id": "a7497c23",
   "metadata": {},
   "outputs": [],
   "source": [
    "df.columns = df.columns.str.lower().str.replace(' ', '_')\n",
    "df.columns = ['restaurant', 'extra_cheeze', 'extra_mushroom', 'size_by_inch',\n",
    "       'extra_spicy', 'price']"
   ]
  },
  {
   "cell_type": "markdown",
   "id": "f37eee14",
   "metadata": {},
   "source": [
    "<b>Convert the Price target variable from Taka to Euro (1 Taka == 0.010 Euro)</b>"
   ]
  },
  {
   "cell_type": "code",
   "execution_count": 159,
   "id": "8614ed83",
   "metadata": {},
   "outputs": [
    {
     "data": {
      "text/html": [
       "<div>\n",
       "<style scoped>\n",
       "    .dataframe tbody tr th:only-of-type {\n",
       "        vertical-align: middle;\n",
       "    }\n",
       "\n",
       "    .dataframe tbody tr th {\n",
       "        vertical-align: top;\n",
       "    }\n",
       "\n",
       "    .dataframe thead th {\n",
       "        text-align: right;\n",
       "    }\n",
       "</style>\n",
       "<table border=\"1\" class=\"dataframe\">\n",
       "  <thead>\n",
       "    <tr style=\"text-align: right;\">\n",
       "      <th></th>\n",
       "      <th>restaurant</th>\n",
       "      <th>extra_cheeze</th>\n",
       "      <th>extra_mushroom</th>\n",
       "      <th>size_by_inch</th>\n",
       "      <th>extra_spicy</th>\n",
       "      <th>price</th>\n",
       "    </tr>\n",
       "  </thead>\n",
       "  <tbody>\n",
       "    <tr>\n",
       "      <th>0</th>\n",
       "      <td>A</td>\n",
       "      <td>yes</td>\n",
       "      <td>yes</td>\n",
       "      <td>12</td>\n",
       "      <td>no</td>\n",
       "      <td>6.5</td>\n",
       "    </tr>\n",
       "    <tr>\n",
       "      <th>1</th>\n",
       "      <td>B</td>\n",
       "      <td>no</td>\n",
       "      <td>yes</td>\n",
       "      <td>15</td>\n",
       "      <td>yes</td>\n",
       "      <td>8.0</td>\n",
       "    </tr>\n",
       "    <tr>\n",
       "      <th>2</th>\n",
       "      <td>C</td>\n",
       "      <td>no</td>\n",
       "      <td>no</td>\n",
       "      <td>9</td>\n",
       "      <td>no</td>\n",
       "      <td>5.0</td>\n",
       "    </tr>\n",
       "    <tr>\n",
       "      <th>3</th>\n",
       "      <td>D</td>\n",
       "      <td>yes</td>\n",
       "      <td>no</td>\n",
       "      <td>12</td>\n",
       "      <td>yes</td>\n",
       "      <td>7.0</td>\n",
       "    </tr>\n",
       "    <tr>\n",
       "      <th>4</th>\n",
       "      <td>E</td>\n",
       "      <td>yes</td>\n",
       "      <td>no</td>\n",
       "      <td>12</td>\n",
       "      <td>yes</td>\n",
       "      <td>7.5</td>\n",
       "    </tr>\n",
       "  </tbody>\n",
       "</table>\n",
       "</div>"
      ],
      "text/plain": [
       "  restaurant extra_cheeze extra_mushroom  size_by_inch extra_spicy  price\n",
       "0          A          yes            yes            12          no    6.5\n",
       "1          B           no            yes            15         yes    8.0\n",
       "2          C           no             no             9          no    5.0\n",
       "3          D          yes             no            12         yes    7.0\n",
       "4          E          yes             no            12         yes    7.5"
      ]
     },
     "execution_count": 159,
     "metadata": {},
     "output_type": "execute_result"
    }
   ],
   "source": [
    "df['price'] = df['price'].astype('float32')\n",
    "df['price'] = df['price'] * 0.010\n",
    "\n",
    "df.head()"
   ]
  },
  {
   "cell_type": "code",
   "execution_count": 160,
   "id": "224df965",
   "metadata": {},
   "outputs": [],
   "source": [
    "numerical = ['size_by_inch', 'price']\n",
    "categorical = ['restaurant', 'extra_cheeze', 'extra_mushroom', 'extra_spicy']"
   ]
  },
  {
   "cell_type": "code",
   "execution_count": null,
   "id": "69bedd60",
   "metadata": {},
   "outputs": [],
   "source": []
  },
  {
   "cell_type": "markdown",
   "id": "047443e0",
   "metadata": {},
   "source": [
    "<b>FEATURES CORRELATION (numerical)</b>"
   ]
  },
  {
   "cell_type": "code",
   "execution_count": 161,
   "id": "67f10b85",
   "metadata": {},
   "outputs": [
    {
     "data": {
      "text/plain": [
       "restaurant\n",
       "A     6.5\n",
       "B     8.0\n",
       "C     5.0\n",
       "D     7.0\n",
       "E     7.5\n",
       "F     9.0\n",
       "G     6.0\n",
       "H     7.0\n",
       "I     7.5\n",
       "J     7.0\n",
       "K     6.0\n",
       "L     7.0\n",
       "M     5.5\n",
       "N     9.0\n",
       "O     7.0\n",
       "P     7.5\n",
       "Q    10.0\n",
       "R     6.5\n",
       "S     9.5\n",
       "T     7.0\n",
       "Name: price, dtype: float32"
      ]
     },
     "execution_count": 161,
     "metadata": {},
     "output_type": "execute_result"
    }
   ],
   "source": [
    "df.groupby('restaurant').price.mean()"
   ]
  },
  {
   "cell_type": "code",
   "execution_count": 162,
   "id": "73efa924",
   "metadata": {},
   "outputs": [
    {
     "data": {
      "text/html": [
       "<div>\n",
       "<style scoped>\n",
       "    .dataframe tbody tr th:only-of-type {\n",
       "        vertical-align: middle;\n",
       "    }\n",
       "\n",
       "    .dataframe tbody tr th {\n",
       "        vertical-align: top;\n",
       "    }\n",
       "\n",
       "    .dataframe thead th {\n",
       "        text-align: right;\n",
       "    }\n",
       "</style>\n",
       "<table border=\"1\" class=\"dataframe\">\n",
       "  <thead>\n",
       "    <tr style=\"text-align: right;\">\n",
       "      <th></th>\n",
       "      <th>mean</th>\n",
       "      <th>count</th>\n",
       "    </tr>\n",
       "    <tr>\n",
       "      <th>extra_cheeze</th>\n",
       "      <th></th>\n",
       "      <th></th>\n",
       "    </tr>\n",
       "  </thead>\n",
       "  <tbody>\n",
       "    <tr>\n",
       "      <th>no</th>\n",
       "      <td>7.500</td>\n",
       "      <td>8</td>\n",
       "    </tr>\n",
       "    <tr>\n",
       "      <th>yes</th>\n",
       "      <td>7.125</td>\n",
       "      <td>12</td>\n",
       "    </tr>\n",
       "  </tbody>\n",
       "</table>\n",
       "</div>"
      ],
      "text/plain": [
       "               mean  count\n",
       "extra_cheeze              \n",
       "no            7.500      8\n",
       "yes           7.125     12"
      ]
     },
     "execution_count": 162,
     "metadata": {},
     "output_type": "execute_result"
    }
   ],
   "source": [
    "df.groupby('extra_cheeze').price.agg(['mean','count'])"
   ]
  },
  {
   "cell_type": "code",
   "execution_count": 163,
   "id": "def5eecc",
   "metadata": {},
   "outputs": [
    {
     "data": {
      "text/html": [
       "<div>\n",
       "<style scoped>\n",
       "    .dataframe tbody tr th:only-of-type {\n",
       "        vertical-align: middle;\n",
       "    }\n",
       "\n",
       "    .dataframe tbody tr th {\n",
       "        vertical-align: top;\n",
       "    }\n",
       "\n",
       "    .dataframe thead th {\n",
       "        text-align: right;\n",
       "    }\n",
       "</style>\n",
       "<table border=\"1\" class=\"dataframe\">\n",
       "  <thead>\n",
       "    <tr style=\"text-align: right;\">\n",
       "      <th></th>\n",
       "      <th>mean</th>\n",
       "      <th>count</th>\n",
       "    </tr>\n",
       "    <tr>\n",
       "      <th>extra_mushroom</th>\n",
       "      <th></th>\n",
       "      <th></th>\n",
       "    </tr>\n",
       "  </thead>\n",
       "  <tbody>\n",
       "    <tr>\n",
       "      <th>no</th>\n",
       "      <td>6.666667</td>\n",
       "      <td>9</td>\n",
       "    </tr>\n",
       "    <tr>\n",
       "      <th>yes</th>\n",
       "      <td>7.772727</td>\n",
       "      <td>11</td>\n",
       "    </tr>\n",
       "  </tbody>\n",
       "</table>\n",
       "</div>"
      ],
      "text/plain": [
       "                    mean  count\n",
       "extra_mushroom                 \n",
       "no              6.666667      9\n",
       "yes             7.772727     11"
      ]
     },
     "execution_count": 163,
     "metadata": {},
     "output_type": "execute_result"
    }
   ],
   "source": [
    "df.groupby('extra_mushroom').price.agg(['mean','count'])"
   ]
  },
  {
   "cell_type": "code",
   "execution_count": 164,
   "id": "4b33d058",
   "metadata": {},
   "outputs": [
    {
     "data": {
      "text/html": [
       "<div>\n",
       "<style scoped>\n",
       "    .dataframe tbody tr th:only-of-type {\n",
       "        vertical-align: middle;\n",
       "    }\n",
       "\n",
       "    .dataframe tbody tr th {\n",
       "        vertical-align: top;\n",
       "    }\n",
       "\n",
       "    .dataframe thead th {\n",
       "        text-align: right;\n",
       "    }\n",
       "</style>\n",
       "<table border=\"1\" class=\"dataframe\">\n",
       "  <thead>\n",
       "    <tr style=\"text-align: right;\">\n",
       "      <th></th>\n",
       "      <th>mean</th>\n",
       "      <th>count</th>\n",
       "    </tr>\n",
       "    <tr>\n",
       "      <th>extra_spicy</th>\n",
       "      <th></th>\n",
       "      <th></th>\n",
       "    </tr>\n",
       "  </thead>\n",
       "  <tbody>\n",
       "    <tr>\n",
       "      <th>no</th>\n",
       "      <td>6.500000</td>\n",
       "      <td>11</td>\n",
       "    </tr>\n",
       "    <tr>\n",
       "      <th>yes</th>\n",
       "      <td>8.222222</td>\n",
       "      <td>9</td>\n",
       "    </tr>\n",
       "  </tbody>\n",
       "</table>\n",
       "</div>"
      ],
      "text/plain": [
       "                 mean  count\n",
       "extra_spicy                 \n",
       "no           6.500000     11\n",
       "yes          8.222222      9"
      ]
     },
     "execution_count": 164,
     "metadata": {},
     "output_type": "execute_result"
    }
   ],
   "source": [
    "df.groupby('extra_spicy').price.agg(['mean','count'])"
   ]
  },
  {
   "cell_type": "code",
   "execution_count": 165,
   "id": "507b6c2b",
   "metadata": {},
   "outputs": [
    {
     "data": {
      "text/plain": [
       "size_by_inch    0.681904\n",
       "price           1.000000\n",
       "dtype: float64"
      ]
     },
     "execution_count": 165,
     "metadata": {},
     "output_type": "execute_result"
    }
   ],
   "source": [
    "df[numerical].corrwith(df['price'])"
   ]
  },
  {
   "cell_type": "code",
   "execution_count": 166,
   "id": "caaaef13",
   "metadata": {},
   "outputs": [
    {
     "data": {
      "text/plain": [
       "Text(0.5, 1.0, 'Variable Correlation')"
      ]
     },
     "execution_count": 166,
     "metadata": {},
     "output_type": "execute_result"
    },
    {
     "data": {
      "image/png": "[encoded data removed]",
      "text/plain": [
       "<Figure size 432x288 with 2 Axes>"
      ]
     },
     "metadata": {
      "needs_background": "light"
     },
     "output_type": "display_data"
    }
   ],
   "source": [
    "ax = sns.heatmap(df.corr(),annot=True, linewidths=.5, cmap=plt.cm.Blues)\n",
    "plt.title('Variable Correlation')"
   ]
  },
  {
   "cell_type": "markdown",
   "id": "232dce20",
   "metadata": {},
   "source": [
    "<b>Price distribution</b>"
   ]
  },
  {
   "cell_type": "code",
   "execution_count": 167,
   "id": "2db9b9cb",
   "metadata": {},
   "outputs": [
    {
     "data": {
      "text/plain": [
       "<AxesSubplot:xlabel='price', ylabel='Count'>"
      ]
     },
     "execution_count": 167,
     "metadata": {},
     "output_type": "execute_result"
    },
    {
     "data": {
      "image/png": "[encoded data removed]",
      "text/plain": [
       "<Figure size 432x288 with 1 Axes>"
      ]
     },
     "metadata": {
      "needs_background": "light"
     },
     "output_type": "display_data"
    }
   ],
   "source": [
    "sns.histplot(df.price, bins=10)"
   ]
  },
  {
   "cell_type": "code",
   "execution_count": null,
   "id": "bd320bc6",
   "metadata": {},
   "outputs": [],
   "source": []
  },
  {
   "cell_type": "markdown",
   "id": "48d1720a",
   "metadata": {},
   "source": [
    "<b>Mutual_info_score for categorical features</b>"
   ]
  },
  {
   "cell_type": "markdown",
   "id": "e9f0246e",
   "metadata": {},
   "source": [
    "<b>Make Price categorical</b>"
   ]
  },
  {
   "cell_type": "code",
   "execution_count": 168,
   "id": "1bdd97b2",
   "metadata": {},
   "outputs": [
    {
     "data": {
      "text/plain": [
       "(6.5, 7.0]      6\n",
       "(7.0, 7.5]      3\n",
       "(4.995, 5.5]    2\n",
       "(5.5, 6.0]      2\n",
       "(6.0, 6.5]      2\n",
       "(8.5, 9.0]      2\n",
       "(7.5, 8.0]      1\n",
       "(9.0, 9.5]      1\n",
       "(9.5, 10.0]     1\n",
       "(8.0, 8.5]      0\n",
       "Name: price, dtype: int64"
      ]
     },
     "execution_count": 168,
     "metadata": {},
     "output_type": "execute_result"
    }
   ],
   "source": [
    "pd.cut(df.price, bins=10).value_counts()"
   ]
  },
  {
   "cell_type": "code",
   "execution_count": 169,
   "id": "acaa7f81",
   "metadata": {},
   "outputs": [],
   "source": [
    "cprice = pd.cut(df.price, bins=10)"
   ]
  },
  {
   "cell_type": "code",
   "execution_count": null,
   "id": "1ccb8983",
   "metadata": {},
   "outputs": [],
   "source": []
  },
  {
   "cell_type": "code",
   "execution_count": 170,
   "id": "5b0d9734",
   "metadata": {},
   "outputs": [
    {
     "data": {
      "text/plain": [
       "restaurant        2.016154\n",
       "extra_spicy       0.384718\n",
       "extra_mushroom    0.249549\n",
       "extra_cheeze      0.178636\n",
       "dtype: float64"
      ]
     },
     "execution_count": 170,
     "metadata": {},
     "output_type": "execute_result"
    }
   ],
   "source": [
    "from sklearn.metrics import mutual_info_score\n",
    "\n",
    "def mutual_info_price_score(series):\n",
    "    return mutual_info_score(cprice, series)\n",
    "\n",
    "mi = df[categorical].apply(mutual_info_price_score)\n",
    "mi.sort_values(ascending=False)\n"
   ]
  },
  {
   "cell_type": "code",
   "execution_count": null,
   "id": "73ab7a7d",
   "metadata": {},
   "outputs": [],
   "source": []
  },
  {
   "cell_type": "markdown",
   "id": "7069e912",
   "metadata": {},
   "source": [
    "<h1>3. Model Training</h1>"
   ]
  },
  {
   "cell_type": "code",
   "execution_count": null,
   "id": "22cc8dbd",
   "metadata": {},
   "outputs": [],
   "source": []
  },
  {
   "cell_type": "code",
   "execution_count": 171,
   "id": "0e49b628",
   "metadata": {},
   "outputs": [],
   "source": [
    "from sklearn.model_selection import train_test_split\n",
    "from sklearn.feature_extraction import DictVectorizer\n",
    "from sklearn.metrics import mean_squared_error"
   ]
  },
  {
   "cell_type": "code",
   "execution_count": 172,
   "id": "8f52305a",
   "metadata": {},
   "outputs": [],
   "source": [
    "numerical = ['size_by_inch']\n",
    "categorical = ['restaurant', 'extra_cheeze', 'extra_mushroom', 'extra_spicy']"
   ]
  },
  {
   "cell_type": "markdown",
   "id": "e95c6a1c",
   "metadata": {},
   "source": [
    "<b>Dataset subdivision (60-20-20)</b>"
   ]
  },
  {
   "cell_type": "code",
   "execution_count": 173,
   "id": "8ff44545",
   "metadata": {},
   "outputs": [],
   "source": [
    "df_full_train, df_test = train_test_split(df, test_size=0.2, random_state=42)\n",
    "df_train, df_val = train_test_split(df_full_train, test_size=0.25, random_state=42)"
   ]
  },
  {
   "cell_type": "code",
   "execution_count": 174,
   "id": "11be4fbd",
   "metadata": {},
   "outputs": [],
   "source": [
    "df_train = df_train.reset_index(drop=True)\n",
    "df_full_train = df_full_train.reset_index(drop=True)\n",
    "df_val = df_val.reset_index(drop=True)\n",
    "df_test = df_test.reset_index(drop=True)\n",
    "\n",
    "y_train = df_train.price.values\n",
    "y_full_train = df_full_train.price.values\n",
    "y_val = df_val.price.values\n",
    "y_test = df_test.price.values\n",
    "\n",
    "del df_train['price']\n",
    "del df_val['price']\n",
    "del df_full_train['price']\n",
    "del df_test['price']"
   ]
  },
  {
   "cell_type": "code",
   "execution_count": 175,
   "id": "cbecabb2",
   "metadata": {},
   "outputs": [],
   "source": [
    "train_dicts = df_train[categorical + numerical].to_dict(orient='records')\n",
    "full_train_dicts = df_full_train[categorical + numerical].to_dict(orient='records')\n",
    "val_dicts = df_val[categorical + numerical].to_dict(orient='records')\n",
    "test_dicts = df_test[categorical + numerical].to_dict(orient='records')\n",
    "\n",
    "dv = DictVectorizer(sparse=False)\n",
    "\n",
    "X_train = dv.fit_transform(train_dicts)\n",
    "X_full_train = dv.transform(full_train_dicts)\n",
    "X_val = dv.transform(val_dicts)\n",
    "X_test = dv.transform(test_dicts)"
   ]
  },
  {
   "cell_type": "code",
   "execution_count": null,
   "id": "b5f0ddf8",
   "metadata": {},
   "outputs": [],
   "source": []
  },
  {
   "cell_type": "code",
   "execution_count": 176,
   "id": "15091df3",
   "metadata": {},
   "outputs": [
    {
     "data": {
      "text/plain": [
       "['extra_cheeze=no',\n",
       " 'extra_cheeze=yes',\n",
       " 'extra_mushroom=no',\n",
       " 'extra_mushroom=yes',\n",
       " 'extra_spicy=no',\n",
       " 'extra_spicy=yes',\n",
       " 'restaurant=C',\n",
       " 'restaurant=D',\n",
       " 'restaurant=E',\n",
       " 'restaurant=G',\n",
       " 'restaurant=H',\n",
       " 'restaurant=J',\n",
       " 'restaurant=K',\n",
       " 'restaurant=L',\n",
       " 'restaurant=M',\n",
       " 'restaurant=N',\n",
       " 'restaurant=S',\n",
       " 'restaurant=T',\n",
       " 'size_by_inch']"
      ]
     },
     "execution_count": 176,
     "metadata": {},
     "output_type": "execute_result"
    }
   ],
   "source": [
    "dv.get_feature_names()"
   ]
  },
  {
   "cell_type": "code",
   "execution_count": null,
   "id": "ed96530d",
   "metadata": {},
   "outputs": [],
   "source": []
  },
  {
   "cell_type": "markdown",
   "id": "86aacdb4",
   "metadata": {},
   "source": [
    "<b>Test multiple models and check RMSE best value</b>"
   ]
  },
  {
   "cell_type": "code",
   "execution_count": 177,
   "id": "6e1ecf9a",
   "metadata": {},
   "outputs": [],
   "source": [
    "model_RMSE_scores = {}"
   ]
  },
  {
   "cell_type": "code",
   "execution_count": null,
   "id": "78c4642c",
   "metadata": {},
   "outputs": [],
   "source": []
  },
  {
   "cell_type": "markdown",
   "id": "fdcbf5e9",
   "metadata": {},
   "source": [
    "<b>LINEAR REGRESSION<b/>"
   ]
  },
  {
   "cell_type": "code",
   "execution_count": 178,
   "id": "a3abc136",
   "metadata": {},
   "outputs": [],
   "source": [
    "from sklearn.linear_model import LinearRegression"
   ]
  },
  {
   "cell_type": "code",
   "execution_count": 179,
   "id": "673532e0",
   "metadata": {},
   "outputs": [
    {
     "name": "stdout",
     "output_type": "stream",
     "text": [
      "RMSE: 0.8717005362328303\n"
     ]
    }
   ],
   "source": [
    "list_RMSE = []\n",
    "\n",
    "model = LinearRegression(normalize=True)\n",
    "model.fit(X_full_train, y_full_train)\n",
    "y_pred = model.predict(X_test)\n",
    "RMSE = mean_squared_error(y_test, y_pred, squared=False)\n",
    "print(f'RMSE: {RMSE}')"
   ]
  },
  {
   "cell_type": "code",
   "execution_count": 180,
   "id": "7c944207",
   "metadata": {},
   "outputs": [
    {
     "data": {
      "text/plain": [
       "dict_keys(['Linear Regression RMSE='])"
      ]
     },
     "execution_count": 180,
     "metadata": {},
     "output_type": "execute_result"
    }
   ],
   "source": [
    "key = 'Linear Regression RMSE='\n",
    "model_RMSE_scores[key] = RMSE\n",
    "model_RMSE_scores.keys()"
   ]
  },
  {
   "cell_type": "code",
   "execution_count": 181,
   "id": "e7e9e967",
   "metadata": {},
   "outputs": [
    {
     "data": {
      "text/plain": [
       "LinearRegression(normalize=True)"
      ]
     },
     "execution_count": 181,
     "metadata": {},
     "output_type": "execute_result"
    }
   ],
   "source": [
    "model = LinearRegression(normalize=True)\n",
    "model.fit(X_full_train, y_full_train)"
   ]
  },
  {
   "cell_type": "code",
   "execution_count": 182,
   "id": "abb8575a",
   "metadata": {},
   "outputs": [
    {
     "data": {
      "text/plain": [
       "{'restaurant': 'B',\n",
       " 'extra_cheeze': 'no',\n",
       " 'extra_mushroom': 'yes',\n",
       " 'size_by_inch': 15,\n",
       " 'extra_spicy': 'yes'}"
      ]
     },
     "execution_count": 182,
     "metadata": {},
     "output_type": "execute_result"
    }
   ],
   "source": [
    "record = df_test.iloc[3].to_dict()\n",
    "X = dv.transform([record])\n",
    "record"
   ]
  },
  {
   "cell_type": "code",
   "execution_count": 183,
   "id": "65c196aa",
   "metadata": {},
   "outputs": [
    {
     "data": {
      "text/plain": [
       "(8.0, 9.499999999999998)"
      ]
     },
     "execution_count": 183,
     "metadata": {},
     "output_type": "execute_result"
    }
   ],
   "source": [
    "y_pred = model.predict(X)\n",
    "\n",
    "\n",
    "original_price = y_test[3]\n",
    "pred = y_pred\n",
    "\n",
    "\n",
    "original_price, pred[0]"
   ]
  },
  {
   "cell_type": "code",
   "execution_count": null,
   "id": "c836f8a4",
   "metadata": {},
   "outputs": [],
   "source": []
  },
  {
   "cell_type": "markdown",
   "id": "c29fc46f",
   "metadata": {},
   "source": [
    "<b>RIDGE REGRESSION with alpha tuning<b/>"
   ]
  },
  {
   "cell_type": "code",
   "execution_count": 184,
   "id": "2cee308f",
   "metadata": {},
   "outputs": [],
   "source": [
    "from sklearn.linear_model import Ridge"
   ]
  },
  {
   "cell_type": "code",
   "execution_count": 185,
   "id": "feecc412",
   "metadata": {},
   "outputs": [
    {
     "name": "stdout",
     "output_type": "stream",
     "text": [
      "RMSE with alpha=0.0001: 0.8714843022984912\n",
      "RMSE with alpha=0.001: 0.8695614449339311\n",
      "RMSE with alpha=0.01: 0.8523248063656141\n",
      "RMSE with alpha=0.05: 0.8005448688991524\n",
      "RMSE with alpha=0.1: 0.7593342804313911\n",
      "RMSE with alpha=0.2: 0.702854428399507\n",
      "RMSE with alpha=0.3: 0.6613486032353071\n",
      "RMSE with alpha=0.4: 0.6280181919457227\n",
      "RMSE with alpha=0.5: 0.600236553662482\n",
      "RMSE with alpha=0.6: 0.576606753626137\n",
      "RMSE with alpha=0.7: 0.5562576619885544\n",
      "RMSE with alpha=1: 0.509682335192667\n",
      "RMSE with alpha=2: 0.4400793696235886\n",
      "RMSE with alpha=3: 0.42788947701054103\n",
      "RMSE with alpha=5: 0.4489044549603441\n",
      "RMSE with alpha=10: 0.5138463543966755\n"
     ]
    },
    {
     "data": {
      "image/png": "[encoded data removed]",
      "text/plain": [
       "<Figure size 432x288 with 1 Axes>"
      ]
     },
     "metadata": {
      "needs_background": "light"
     },
     "output_type": "display_data"
    }
   ],
   "source": [
    "list_alpha = [0.0001, 0.001, 0.01, 0.05, 0.1, 0.2, 0.3, 0.4, 0.5, 0.6, 0.7, 1, 2, 3, 5, 10]\n",
    "list_RMSE = []\n",
    "\n",
    "for i in list_alpha:\n",
    "    model = Ridge(alpha=i, normalize=True, random_state=42)\n",
    "    model.fit(X_full_train, y_full_train)\n",
    "    y_pred = model.predict(X_test)\n",
    "    RMSE = mean_squared_error(y_test, y_pred, squared=False)\n",
    "    list_RMSE.append(RMSE)\n",
    "    print(f'RMSE with alpha={i}: {RMSE}')\n",
    "    \n",
    "plt.plot(list_alpha,list_RMSE)\n",
    "plt.xlabel('Alpha')\n",
    "plt.ylabel('RMSE')\n",
    "plt.show()\n"
   ]
  },
  {
   "cell_type": "code",
   "execution_count": 186,
   "id": "56bdc5d0",
   "metadata": {},
   "outputs": [
    {
     "data": {
      "text/plain": [
       "dict_keys(['Linear Regression RMSE=', 'Ridge Regression (alpha 3) RMSE='])"
      ]
     },
     "execution_count": 186,
     "metadata": {},
     "output_type": "execute_result"
    }
   ],
   "source": [
    "key = 'Ridge Regression (alpha 3) RMSE='\n",
    "model_RMSE_scores[key] = RMSE\n",
    "model_RMSE_scores.keys()"
   ]
  },
  {
   "cell_type": "code",
   "execution_count": 187,
   "id": "78eb613e",
   "metadata": {},
   "outputs": [
    {
     "data": {
      "text/plain": [
       "Ridge(alpha=3, normalize=True, random_state=42)"
      ]
     },
     "execution_count": 187,
     "metadata": {},
     "output_type": "execute_result"
    }
   ],
   "source": [
    "model = Ridge(alpha=3, normalize=True, random_state=42)\n",
    "model.fit(X_full_train, y_full_train)"
   ]
  },
  {
   "cell_type": "code",
   "execution_count": 188,
   "id": "fe73c493",
   "metadata": {},
   "outputs": [
    {
     "data": {
      "text/plain": [
       "{'restaurant': 'B',\n",
       " 'extra_cheeze': 'no',\n",
       " 'extra_mushroom': 'yes',\n",
       " 'size_by_inch': 15,\n",
       " 'extra_spicy': 'yes'}"
      ]
     },
     "execution_count": 188,
     "metadata": {},
     "output_type": "execute_result"
    }
   ],
   "source": [
    "record = df_test.iloc[3].to_dict()\n",
    "X = dv.transform([record])\n",
    "record"
   ]
  },
  {
   "cell_type": "code",
   "execution_count": 189,
   "id": "e27d5b3b",
   "metadata": {},
   "outputs": [
    {
     "data": {
      "text/plain": [
       "(8.0, 8.16432471887485)"
      ]
     },
     "execution_count": 189,
     "metadata": {},
     "output_type": "execute_result"
    }
   ],
   "source": [
    "y_pred = model.predict(X)\n",
    "\n",
    "\n",
    "original_price = y_test[3]\n",
    "pred = y_pred\n",
    "\n",
    "\n",
    "original_price, pred[0]"
   ]
  },
  {
   "cell_type": "code",
   "execution_count": null,
   "id": "2e0d72e4",
   "metadata": {},
   "outputs": [],
   "source": []
  },
  {
   "cell_type": "markdown",
   "id": "d8dfa89a",
   "metadata": {},
   "source": [
    "<b>SGD REGRESSION<b/>"
   ]
  },
  {
   "cell_type": "code",
   "execution_count": 190,
   "id": "fb03c32a",
   "metadata": {},
   "outputs": [],
   "source": [
    "from sklearn.linear_model import SGDRegressor"
   ]
  },
  {
   "cell_type": "code",
   "execution_count": 191,
   "id": "4723607f",
   "metadata": {},
   "outputs": [
    {
     "name": "stdout",
     "output_type": "stream",
     "text": [
      "RMSE: 1.1782828316062282\n"
     ]
    }
   ],
   "source": [
    "model = SGDRegressor(random_state=42)\n",
    "\n",
    "model.fit(X_full_train, y_full_train)\n",
    "y_pred = model.predict(X_val)\n",
    "\n",
    "RMSE = mean_squared_error(y_val, y_pred, squared=False)\n",
    "print(f'RMSE: {RMSE}')\n"
   ]
  },
  {
   "cell_type": "code",
   "execution_count": 192,
   "id": "b93c5587",
   "metadata": {},
   "outputs": [
    {
     "data": {
      "text/plain": [
       "dict_keys(['Linear Regression RMSE=', 'Ridge Regression (alpha 3) RMSE=', 'SGDRegressor RMSE='])"
      ]
     },
     "execution_count": 192,
     "metadata": {},
     "output_type": "execute_result"
    }
   ],
   "source": [
    "key = 'SGDRegressor RMSE='\n",
    "model_RMSE_scores[key] = RMSE\n",
    "model_RMSE_scores.keys()"
   ]
  },
  {
   "cell_type": "code",
   "execution_count": 193,
   "id": "afb36f7f",
   "metadata": {},
   "outputs": [
    {
     "data": {
      "text/plain": [
       "{'restaurant': 'B',\n",
       " 'extra_cheeze': 'no',\n",
       " 'extra_mushroom': 'yes',\n",
       " 'size_by_inch': 15,\n",
       " 'extra_spicy': 'yes'}"
      ]
     },
     "execution_count": 193,
     "metadata": {},
     "output_type": "execute_result"
    }
   ],
   "source": [
    "record = df_test.iloc[3].to_dict()\n",
    "X = dv.transform([record])\n",
    "record"
   ]
  },
  {
   "cell_type": "code",
   "execution_count": 194,
   "id": "119c16df",
   "metadata": {},
   "outputs": [
    {
     "data": {
      "text/plain": [
       "(8.0, 9.793121806374959)"
      ]
     },
     "execution_count": 194,
     "metadata": {},
     "output_type": "execute_result"
    }
   ],
   "source": [
    "y_pred = model.predict(X)\n",
    "\n",
    "\n",
    "original_price = y_test[3]\n",
    "pred = y_pred\n",
    "\n",
    "\n",
    "original_price, pred[0]"
   ]
  },
  {
   "cell_type": "code",
   "execution_count": null,
   "id": "02416a91",
   "metadata": {},
   "outputs": [],
   "source": []
  },
  {
   "cell_type": "markdown",
   "id": "8eba31a0",
   "metadata": {},
   "source": [
    "<b>SVR REGRESSION<b/>"
   ]
  },
  {
   "cell_type": "code",
   "execution_count": 195,
   "id": "c3aa9a27",
   "metadata": {},
   "outputs": [],
   "source": [
    "from sklearn.svm import SVR"
   ]
  },
  {
   "cell_type": "code",
   "execution_count": 196,
   "id": "c271fbb4",
   "metadata": {},
   "outputs": [
    {
     "name": "stdout",
     "output_type": "stream",
     "text": [
      "RMSE: 0.4238536795607311\n"
     ]
    }
   ],
   "source": [
    "clf_svr = SVR()\n",
    "clf_svr.fit(X_full_train, y_full_train)\n",
    "y_pred = clf_svr.predict(X_test)\n",
    "\n",
    "RMSE = mean_squared_error(y_test, y_pred, squared=False)\n",
    "print(f'RMSE: {RMSE}')\n",
    "\n"
   ]
  },
  {
   "cell_type": "code",
   "execution_count": 197,
   "id": "ead57beb",
   "metadata": {},
   "outputs": [
    {
     "data": {
      "text/plain": [
       "dict_keys(['Linear Regression RMSE=', 'Ridge Regression (alpha 3) RMSE=', 'SGDRegressor RMSE=', 'SVR RMSE='])"
      ]
     },
     "execution_count": 197,
     "metadata": {},
     "output_type": "execute_result"
    }
   ],
   "source": [
    "key = 'SVR RMSE='\n",
    "model_RMSE_scores[key] = RMSE\n",
    "model_RMSE_scores.keys()"
   ]
  },
  {
   "cell_type": "code",
   "execution_count": 198,
   "id": "6372e107",
   "metadata": {},
   "outputs": [
    {
     "data": {
      "text/plain": [
       "{'restaurant': 'B',\n",
       " 'extra_cheeze': 'no',\n",
       " 'extra_mushroom': 'yes',\n",
       " 'size_by_inch': 15,\n",
       " 'extra_spicy': 'yes'}"
      ]
     },
     "execution_count": 198,
     "metadata": {},
     "output_type": "execute_result"
    }
   ],
   "source": [
    "record = df_test.iloc[3].to_dict()\n",
    "X = dv.transform([record])\n",
    "record"
   ]
  },
  {
   "cell_type": "code",
   "execution_count": 199,
   "id": "ec861924",
   "metadata": {},
   "outputs": [
    {
     "data": {
      "text/plain": [
       "(8.0, 7.56547247224912)"
      ]
     },
     "execution_count": 199,
     "metadata": {},
     "output_type": "execute_result"
    }
   ],
   "source": [
    "y_pred = clf_svr.predict(X)\n",
    "\n",
    "\n",
    "original_price = y_test[3]\n",
    "pred = y_pred\n",
    "\n",
    "\n",
    "original_price, pred[0]"
   ]
  },
  {
   "cell_type": "code",
   "execution_count": null,
   "id": "9367e290",
   "metadata": {},
   "outputs": [],
   "source": []
  },
  {
   "cell_type": "markdown",
   "id": "841b52f4",
   "metadata": {},
   "source": [
    "<b>RANDOM FOREST REGRESSION<b/>"
   ]
  },
  {
   "cell_type": "code",
   "execution_count": 200,
   "id": "26a0221b",
   "metadata": {},
   "outputs": [],
   "source": [
    "from sklearn.ensemble import RandomForestRegressor"
   ]
  },
  {
   "cell_type": "code",
   "execution_count": 201,
   "id": "ecb1071d",
   "metadata": {},
   "outputs": [
    {
     "name": "stdout",
     "output_type": "stream",
     "text": [
      "RMSE: 0.769604971722506\n"
     ]
    }
   ],
   "source": [
    "rf = RandomForestRegressor(random_state=42)\n",
    "rf.fit(X_full_train,y_full_train)\n",
    "y_pred = rf.predict(X_test)\n",
    "\n",
    "RMSE = mean_squared_error(y_test, y_pred, squared=False)\n",
    "print(f'RMSE: {RMSE}')\n"
   ]
  },
  {
   "cell_type": "code",
   "execution_count": 202,
   "id": "dc866d38",
   "metadata": {},
   "outputs": [
    {
     "data": {
      "text/plain": [
       "dict_keys(['Linear Regression RMSE=', 'Ridge Regression (alpha 3) RMSE=', 'SGDRegressor RMSE=', 'SVR RMSE=', 'RandomForestRegressor RMSE='])"
      ]
     },
     "execution_count": 202,
     "metadata": {},
     "output_type": "execute_result"
    }
   ],
   "source": [
    "key = 'RandomForestRegressor RMSE='\n",
    "model_RMSE_scores[key] = RMSE\n",
    "model_RMSE_scores.keys()"
   ]
  },
  {
   "cell_type": "code",
   "execution_count": 203,
   "id": "36108aae",
   "metadata": {},
   "outputs": [
    {
     "data": {
      "text/plain": [
       "{'restaurant': 'B',\n",
       " 'extra_cheeze': 'no',\n",
       " 'extra_mushroom': 'yes',\n",
       " 'size_by_inch': 15,\n",
       " 'extra_spicy': 'yes'}"
      ]
     },
     "execution_count": 203,
     "metadata": {},
     "output_type": "execute_result"
    }
   ],
   "source": [
    "record = df_test.iloc[3].to_dict()\n",
    "X = dv.transform([record])\n",
    "record"
   ]
  },
  {
   "cell_type": "code",
   "execution_count": 204,
   "id": "75122bcd",
   "metadata": {},
   "outputs": [
    {
     "data": {
      "text/plain": [
       "(8.0, 9.218499999999999)"
      ]
     },
     "execution_count": 204,
     "metadata": {},
     "output_type": "execute_result"
    }
   ],
   "source": [
    "y_pred = rf.predict(X)\n",
    "\n",
    "\n",
    "original_price = y_test[3]\n",
    "pred = y_pred\n",
    "\n",
    "\n",
    "original_price, pred[0]"
   ]
  },
  {
   "cell_type": "code",
   "execution_count": null,
   "id": "4574970e",
   "metadata": {},
   "outputs": [],
   "source": []
  },
  {
   "cell_type": "markdown",
   "id": "98545337",
   "metadata": {},
   "source": [
    "<b>DECISION TREE REGRESSION<b/>"
   ]
  },
  {
   "cell_type": "code",
   "execution_count": 205,
   "id": "3a093426",
   "metadata": {},
   "outputs": [],
   "source": [
    "from sklearn.tree import DecisionTreeRegressor"
   ]
  },
  {
   "cell_type": "code",
   "execution_count": 206,
   "id": "30510c56",
   "metadata": {},
   "outputs": [
    {
     "name": "stdout",
     "output_type": "stream",
     "text": [
      "RMSE: 0.769604971722506\n"
     ]
    }
   ],
   "source": [
    "dt = DecisionTreeRegressor(random_state=42)\n",
    "dt.fit(X_full_train,y_full_train)\n",
    "y_pred = rf.predict(X_test)\n",
    "\n",
    "RMSE = mean_squared_error(y_test, y_pred, squared=False)\n",
    "print(f'RMSE: {RMSE}')"
   ]
  },
  {
   "cell_type": "code",
   "execution_count": 207,
   "id": "b33f0f09",
   "metadata": {},
   "outputs": [
    {
     "data": {
      "text/plain": [
       "dict_keys(['Linear Regression RMSE=', 'Ridge Regression (alpha 3) RMSE=', 'SGDRegressor RMSE=', 'SVR RMSE=', 'RandomForestRegressor RMSE=', 'DecisionTreeRegressor RMSE='])"
      ]
     },
     "execution_count": 207,
     "metadata": {},
     "output_type": "execute_result"
    }
   ],
   "source": [
    "key = 'DecisionTreeRegressor RMSE='\n",
    "model_RMSE_scores[key] = RMSE\n",
    "model_RMSE_scores.keys()"
   ]
  },
  {
   "cell_type": "code",
   "execution_count": 208,
   "id": "e8d673a6",
   "metadata": {},
   "outputs": [
    {
     "data": {
      "text/plain": [
       "{'restaurant': 'B',\n",
       " 'extra_cheeze': 'no',\n",
       " 'extra_mushroom': 'yes',\n",
       " 'size_by_inch': 15,\n",
       " 'extra_spicy': 'yes'}"
      ]
     },
     "execution_count": 208,
     "metadata": {},
     "output_type": "execute_result"
    }
   ],
   "source": [
    "record = df_test.iloc[3].to_dict()\n",
    "X = dv.transform([record])\n",
    "record"
   ]
  },
  {
   "cell_type": "code",
   "execution_count": 209,
   "id": "0e287870",
   "metadata": {},
   "outputs": [
    {
     "data": {
      "text/plain": [
       "(8.0, 9.5)"
      ]
     },
     "execution_count": 209,
     "metadata": {},
     "output_type": "execute_result"
    }
   ],
   "source": [
    "y_pred = dt.predict(X)\n",
    "\n",
    "\n",
    "original_price = y_test[3]\n",
    "pred = y_pred\n",
    "\n",
    "\n",
    "original_price, pred[0]"
   ]
  },
  {
   "cell_type": "code",
   "execution_count": null,
   "id": "fef1d65f",
   "metadata": {},
   "outputs": [],
   "source": []
  },
  {
   "cell_type": "markdown",
   "id": "745a75ac",
   "metadata": {},
   "source": [
    "<b>XgBOOST REGRESSION with eta, max_depth, max_child_weight TUNING<b/>"
   ]
  },
  {
   "cell_type": "code",
   "execution_count": 210,
   "id": "071e188e",
   "metadata": {},
   "outputs": [],
   "source": [
    "import xgboost as xgb"
   ]
  },
  {
   "cell_type": "code",
   "execution_count": 211,
   "id": "a506896f",
   "metadata": {},
   "outputs": [
    {
     "data": {
      "text/plain": [
       "['extra_cheeze=no',\n",
       " 'extra_cheeze=yes',\n",
       " 'extra_mushroom=no',\n",
       " 'extra_mushroom=yes',\n",
       " 'extra_spicy=no',\n",
       " 'extra_spicy=yes',\n",
       " 'restaurant=C',\n",
       " 'restaurant=D',\n",
       " 'restaurant=E',\n",
       " 'restaurant=G',\n",
       " 'restaurant=H',\n",
       " 'restaurant=J',\n",
       " 'restaurant=K',\n",
       " 'restaurant=L',\n",
       " 'restaurant=M',\n",
       " 'restaurant=N',\n",
       " 'restaurant=S',\n",
       " 'restaurant=T',\n",
       " 'size_by_inch']"
      ]
     },
     "execution_count": 211,
     "metadata": {},
     "output_type": "execute_result"
    }
   ],
   "source": [
    "features = dv.get_feature_names()\n",
    "features"
   ]
  },
  {
   "cell_type": "code",
   "execution_count": 212,
   "id": "affa4196",
   "metadata": {},
   "outputs": [],
   "source": [
    "dtrain = xgb.DMatrix(X_train, label=y_train, feature_names=features)\n",
    "dfulltrain = xgb.DMatrix(X_full_train, label=y_full_train, feature_names=features)\n",
    "dval = xgb.DMatrix(X_val, label=y_val, feature_names=features)\n",
    "dtest = xgb.DMatrix(X_test, label=y_test, feature_names=features)"
   ]
  },
  {
   "cell_type": "code",
   "execution_count": 213,
   "id": "a947c4c6",
   "metadata": {},
   "outputs": [],
   "source": [
    "watchlist = [(dfulltrain, 'train'), (dtest, 'test')]"
   ]
  },
  {
   "cell_type": "code",
   "execution_count": 39,
   "id": "0aedcbce",
   "metadata": {},
   "outputs": [
    {
     "name": "stdout",
     "output_type": "stream",
     "text": [
      "[0]\ttrain-rmse:5.07980\ttest-rmse:4.74612\n",
      "[5]\ttrain-rmse:1.26426\ttest-rmse:0.76304\n",
      "[10]\ttrain-rmse:0.40296\ttest-rmse:0.57626\n",
      "[15]\ttrain-rmse:0.21119\ttest-rmse:0.79859\n",
      "[20]\ttrain-rmse:0.18138\ttest-rmse:0.86678\n",
      "[25]\ttrain-rmse:0.17746\ttest-rmse:0.88295\n",
      "[30]\ttrain-rmse:0.17689\ttest-rmse:0.88860\n",
      "[35]\ttrain-rmse:0.17680\ttest-rmse:0.89052\n",
      "[40]\ttrain-rmse:0.17678\ttest-rmse:0.89080\n",
      "[45]\ttrain-rmse:0.17678\ttest-rmse:0.89092\n",
      "[50]\ttrain-rmse:0.17678\ttest-rmse:0.89097\n",
      "[55]\ttrain-rmse:0.17678\ttest-rmse:0.89098\n",
      "[60]\ttrain-rmse:0.17678\ttest-rmse:0.89098\n",
      "[65]\ttrain-rmse:0.17678\ttest-rmse:0.89098\n",
      "[70]\ttrain-rmse:0.17678\ttest-rmse:0.89098\n",
      "[75]\ttrain-rmse:0.17678\ttest-rmse:0.89098\n",
      "[80]\ttrain-rmse:0.17678\ttest-rmse:0.89098\n",
      "[85]\ttrain-rmse:0.17678\ttest-rmse:0.89098\n",
      "[90]\ttrain-rmse:0.17678\ttest-rmse:0.89098\n",
      "[95]\ttrain-rmse:0.17678\ttest-rmse:0.89098\n",
      "[100]\ttrain-rmse:0.17678\ttest-rmse:0.89098\n",
      "[105]\ttrain-rmse:0.17678\ttest-rmse:0.89098\n",
      "[110]\ttrain-rmse:0.17678\ttest-rmse:0.89098\n",
      "[115]\ttrain-rmse:0.17678\ttest-rmse:0.89098\n",
      "[120]\ttrain-rmse:0.17678\ttest-rmse:0.89098\n",
      "[125]\ttrain-rmse:0.17678\ttest-rmse:0.89098\n",
      "[130]\ttrain-rmse:0.17678\ttest-rmse:0.89098\n",
      "[135]\ttrain-rmse:0.17678\ttest-rmse:0.89098\n",
      "[140]\ttrain-rmse:0.17678\ttest-rmse:0.89098\n",
      "[145]\ttrain-rmse:0.17678\ttest-rmse:0.89098\n",
      "[150]\ttrain-rmse:0.17678\ttest-rmse:0.89098\n",
      "[155]\ttrain-rmse:0.17678\ttest-rmse:0.89098\n",
      "[160]\ttrain-rmse:0.17678\ttest-rmse:0.89098\n",
      "[165]\ttrain-rmse:0.17678\ttest-rmse:0.89098\n",
      "[170]\ttrain-rmse:0.17678\ttest-rmse:0.89098\n",
      "[175]\ttrain-rmse:0.17678\ttest-rmse:0.89098\n",
      "[180]\ttrain-rmse:0.17678\ttest-rmse:0.89098\n",
      "[185]\ttrain-rmse:0.17678\ttest-rmse:0.89098\n",
      "[190]\ttrain-rmse:0.17678\ttest-rmse:0.89098\n",
      "[195]\ttrain-rmse:0.17678\ttest-rmse:0.89098\n",
      "[199]\ttrain-rmse:0.17678\ttest-rmse:0.89098\n"
     ]
    }
   ],
   "source": [
    "xgb_params = {\n",
    "    'eta': 0.3,\n",
    "    'max_depth': 10,\n",
    "    'min_child_weight': 1,\n",
    "    'objective': 'reg:squarederror',\n",
    "    'nthread': 8,\n",
    "    'seed': 1,\n",
    "    'verbosity': 1,\n",
    "}\n",
    "\n",
    "model = xgb.train(xgb_params, dfulltrain, num_boost_round=200, evals=watchlist, verbose_eval=5)"
   ]
  },
  {
   "cell_type": "markdown",
   "id": "00a6d6c7",
   "metadata": {},
   "source": [
    "<b>10 Rounds has the best RMSE to start with</b>"
   ]
  },
  {
   "cell_type": "code",
   "execution_count": null,
   "id": "43c85b2f",
   "metadata": {},
   "outputs": [],
   "source": []
  },
  {
   "cell_type": "code",
   "execution_count": 52,
   "id": "c1a323a5",
   "metadata": {},
   "outputs": [
    {
     "data": {
      "text/plain": [
       "0.9555293"
      ]
     },
     "execution_count": 52,
     "metadata": {},
     "output_type": "execute_result"
    }
   ],
   "source": [
    "y_pred = model.predict(dtest)\n",
    "RMSE = mean_squared_error(y_test, y_pred, squared=False)\n",
    "RMSE"
   ]
  },
  {
   "cell_type": "code",
   "execution_count": null,
   "id": "824b22bf",
   "metadata": {},
   "outputs": [],
   "source": []
  },
  {
   "cell_type": "code",
   "execution_count": 53,
   "id": "73a109a3",
   "metadata": {},
   "outputs": [
    {
     "data": {
      "text/plain": [
       "{'restaurant': 'B',\n",
       " 'extra_cheeze': 'no',\n",
       " 'extra_mushroom': 'yes',\n",
       " 'size_by_inch': 15,\n",
       " 'extra_spicy': 'yes'}"
      ]
     },
     "execution_count": 53,
     "metadata": {},
     "output_type": "execute_result"
    }
   ],
   "source": [
    "record = df_test.iloc[3].to_dict()\n",
    "X = dv.transform([record])\n",
    "dcheck = xgb.DMatrix(X, feature_names=features)\n",
    "record"
   ]
  },
  {
   "cell_type": "code",
   "execution_count": 54,
   "id": "86c61cfa",
   "metadata": {},
   "outputs": [
    {
     "data": {
      "text/plain": [
       "(8.0, 9.508984)"
      ]
     },
     "execution_count": 54,
     "metadata": {},
     "output_type": "execute_result"
    }
   ],
   "source": [
    "y_pred = model.predict(dcheck)\n",
    "\n",
    "\n",
    "original_price = y_test[3]\n",
    "pred = y_pred\n",
    "\n",
    "original_price, pred[0]"
   ]
  },
  {
   "cell_type": "code",
   "execution_count": null,
   "id": "d4d65c96",
   "metadata": {},
   "outputs": [],
   "source": []
  },
  {
   "cell_type": "markdown",
   "id": "a0b84ce4",
   "metadata": {},
   "source": [
    "<b>PARAMETERS TUNING</b>"
   ]
  },
  {
   "cell_type": "code",
   "execution_count": 55,
   "id": "a4bee4c5",
   "metadata": {},
   "outputs": [],
   "source": [
    "def parse_xgb_output(output):\n",
    "    results = []\n",
    "    \n",
    "    for line in output.stdout.strip().split('\\n'):\n",
    "        it_line, train_line, val_line = line.split('\\t')\n",
    "        \n",
    "        it = int(it_line.strip('[]'))\n",
    "        train = float(train_line.split(':')[1])\n",
    "        val = float(val_line.split(':')[1])\n",
    "        \n",
    "        results.append((it, train, val))\n",
    "    \n",
    "    columns = ['num_iter', 'train_rmse', 'val_rmse']\n",
    "    df_results = pd.DataFrame(results, columns=columns)\n",
    "    return df_results"
   ]
  },
  {
   "cell_type": "markdown",
   "id": "e4f410a4",
   "metadata": {},
   "source": [
    "<b>ETA TUNING with 10 Rounds<b/>"
   ]
  },
  {
   "cell_type": "code",
   "execution_count": 56,
   "id": "765d0ffd",
   "metadata": {},
   "outputs": [],
   "source": [
    "scores = {}"
   ]
  },
  {
   "cell_type": "code",
   "execution_count": 65,
   "id": "30d9f130",
   "metadata": {},
   "outputs": [],
   "source": [
    "%%capture output\n",
    "\n",
    "xgb_params = {\n",
    "    'eta': 1.0,\n",
    "    'max_depth': 10,\n",
    "    'min_child_weight': 1,\n",
    "    'objective': 'reg:squarederror',\n",
    "    'nthread': 8,\n",
    "    'seed': 1,\n",
    "    'verbosity': 1,\n",
    "}\n",
    "\n",
    "model = xgb.train(xgb_params, dfulltrain, num_boost_round=10, evals=watchlist, verbose_eval=5)"
   ]
  },
  {
   "cell_type": "code",
   "execution_count": 66,
   "id": "ace1ed09",
   "metadata": {},
   "outputs": [
    {
     "data": {
      "text/plain": [
       "dict_keys(['eta=0.3', 'eta=0.1', 'eta=0.01', 'eta=0.05', 'eta=1.0'])"
      ]
     },
     "execution_count": 66,
     "metadata": {},
     "output_type": "execute_result"
    }
   ],
   "source": [
    "key = 'eta=%s' % (xgb_params['eta'])\n",
    "scores[key] = parse_xgb_output(output)\n",
    "scores.keys()"
   ]
  },
  {
   "cell_type": "code",
   "execution_count": 67,
   "id": "68e84fa5",
   "metadata": {},
   "outputs": [
    {
     "data": {
      "text/plain": [
       "<matplotlib.legend.Legend at 0x7f6c50d105e0>"
      ]
     },
     "execution_count": 67,
     "metadata": {},
     "output_type": "execute_result"
    },
    {
     "data": {
      "image/png": "[encoded data removed]",
      "text/plain": [
       "<Figure size 432x288 with 1 Axes>"
      ]
     },
     "metadata": {
      "needs_background": "light"
     },
     "output_type": "display_data"
    }
   ],
   "source": [
    "etas = ['eta=0.3', 'eta=1.0', 'eta=0.1', 'eta=0.05', 'eta=0.01']\n",
    "for eta in etas:\n",
    "    df_score = scores[eta]\n",
    "    plt.plot(df_score.num_iter, df_score.val_rmse, label=eta)\n",
    "\n",
    "plt.legend()"
   ]
  },
  {
   "cell_type": "markdown",
   "id": "c2d79a6c",
   "metadata": {},
   "source": [
    "<b>eta=0.3 in 10 Rounds has the best RMSE<b/>"
   ]
  },
  {
   "cell_type": "code",
   "execution_count": null,
   "id": "78a34544",
   "metadata": {},
   "outputs": [],
   "source": []
  },
  {
   "cell_type": "markdown",
   "id": "464c7508",
   "metadata": {},
   "source": [
    "<b>max_weight TUNING<b/>"
   ]
  },
  {
   "cell_type": "code",
   "execution_count": 101,
   "id": "7a920970",
   "metadata": {},
   "outputs": [],
   "source": [
    "scores = {}"
   ]
  },
  {
   "cell_type": "code",
   "execution_count": 121,
   "id": "a5454b47",
   "metadata": {},
   "outputs": [],
   "source": [
    "%%capture output\n",
    "\n",
    "xgb_params = {\n",
    "    'eta': 0.3,\n",
    "    'max_depth': 90,\n",
    "    'min_child_weight': 1,\n",
    "    'objective': 'reg:squarederror',\n",
    "    'nthread': 8,\n",
    "    'seed': 1,\n",
    "    'verbosity': 1,\n",
    "}\n",
    "\n",
    "model = xgb.train(xgb_params, dfulltrain, num_boost_round=10, evals=watchlist, verbose_eval=5)"
   ]
  },
  {
   "cell_type": "code",
   "execution_count": 122,
   "id": "77504948",
   "metadata": {},
   "outputs": [
    {
     "data": {
      "text/plain": [
       "dict_keys(['max_depth=1', 'max_depth=2', 'max_depth=3', 'max_depth=4', 'max_depth=6', 'max_depth=10', 'max_depth=15', 'max_depth=30', 'max_depth=60', 'max_depth=90'])"
      ]
     },
     "execution_count": 122,
     "metadata": {},
     "output_type": "execute_result"
    }
   ],
   "source": [
    "key = 'max_depth=%s' % (xgb_params['max_depth'])\n",
    "scores[key] = parse_xgb_output(output)\n",
    "scores.keys()"
   ]
  },
  {
   "cell_type": "code",
   "execution_count": 123,
   "id": "c93ca77f",
   "metadata": {},
   "outputs": [
    {
     "data": {
      "text/plain": [
       "<matplotlib.legend.Legend at 0x7f6c50287f10>"
      ]
     },
     "execution_count": 123,
     "metadata": {},
     "output_type": "execute_result"
    },
    {
     "data": {
      "image/png": "[encoded data removed]",
      "text/plain": [
       "<Figure size 432x288 with 1 Axes>"
      ]
     },
     "metadata": {
      "needs_background": "light"
     },
     "output_type": "display_data"
    }
   ],
   "source": [
    "for max_depth, df_score in scores.items():\n",
    "    plt.plot(df_score.num_iter, df_score.val_rmse, label=max_depth)\n",
    "\n",
    "    \n",
    "plt.legend()"
   ]
  },
  {
   "cell_type": "markdown",
   "id": "e1776644",
   "metadata": {},
   "source": [
    "<b>max_weight=1 in 10 Rounds has the best RMSE<b/>"
   ]
  },
  {
   "cell_type": "code",
   "execution_count": null,
   "id": "188ddde7",
   "metadata": {},
   "outputs": [],
   "source": []
  },
  {
   "cell_type": "markdown",
   "id": "98d97cfd",
   "metadata": {},
   "source": [
    "<b>min_child_weight TUNING<b/>"
   ]
  },
  {
   "cell_type": "code",
   "execution_count": 124,
   "id": "83f0bc0c",
   "metadata": {},
   "outputs": [],
   "source": [
    "scores = {}"
   ]
  },
  {
   "cell_type": "code",
   "execution_count": 139,
   "id": "caeeaf6a",
   "metadata": {},
   "outputs": [],
   "source": [
    "%%capture output\n",
    "\n",
    "xgb_params = {\n",
    "    'eta': 0.3,\n",
    "    'max_depth': 1,\n",
    "    'min_child_weight': 90,\n",
    "    'objective': 'reg:squarederror',\n",
    "    'nthread': 8,\n",
    "    'seed': 1,\n",
    "    'verbosity': 1,\n",
    "}\n",
    "\n",
    "model = xgb.train(xgb_params, dfulltrain, num_boost_round=10, evals=watchlist, verbose_eval=5)"
   ]
  },
  {
   "cell_type": "code",
   "execution_count": 140,
   "id": "61599f0f",
   "metadata": {},
   "outputs": [
    {
     "data": {
      "text/plain": [
       "dict_keys(['min_child_weight=1', 'min_child_weight=2', 'min_child_weight=5', 'min_child_weight=10', 'min_child_weight=15', 'min_child_weight=30', 'min_child_weight=60', 'min_child_weight=90'])"
      ]
     },
     "execution_count": 140,
     "metadata": {},
     "output_type": "execute_result"
    }
   ],
   "source": [
    "key = 'min_child_weight=%s' % (xgb_params['min_child_weight'])\n",
    "scores[key] = parse_xgb_output(output)\n",
    "scores.keys()"
   ]
  },
  {
   "cell_type": "code",
   "execution_count": 141,
   "id": "e870a5ca",
   "metadata": {},
   "outputs": [
    {
     "data": {
      "text/plain": [
       "<matplotlib.legend.Legend at 0x7f6c50447eb0>"
      ]
     },
     "execution_count": 141,
     "metadata": {},
     "output_type": "execute_result"
    },
    {
     "data": {
      "image/png": "[encoded data removed]",
      "text/plain": [
       "<Figure size 432x288 with 1 Axes>"
      ]
     },
     "metadata": {
      "needs_background": "light"
     },
     "output_type": "display_data"
    }
   ],
   "source": [
    "for min_child_weight, df_score in scores.items():\n",
    "    plt.plot(df_score.num_iter, df_score.val_rmse, label=min_child_weight)\n",
    "\n",
    "plt.legend()"
   ]
  },
  {
   "cell_type": "code",
   "execution_count": null,
   "id": "a313bcdb",
   "metadata": {},
   "outputs": [],
   "source": []
  },
  {
   "cell_type": "markdown",
   "id": "e76c830e",
   "metadata": {},
   "source": [
    "<b>min_child_weight=1 in 10 Rounds has the best RMSE<b/>"
   ]
  },
  {
   "cell_type": "code",
   "execution_count": null,
   "id": "20152f74",
   "metadata": {},
   "outputs": [],
   "source": []
  },
  {
   "cell_type": "markdown",
   "id": "d755c98d",
   "metadata": {},
   "source": [
    "<b>Train the model with the best parameters</b>"
   ]
  },
  {
   "cell_type": "code",
   "execution_count": 215,
   "id": "c0029de9",
   "metadata": {},
   "outputs": [],
   "source": [
    "xgb_params = {\n",
    "    'eta': 0.3,\n",
    "    'max_depth': 1,\n",
    "    'min_child_weight': 1,\n",
    "    'objective': 'reg:squarederror',\n",
    "    'nthread': 8,\n",
    "    'seed': 1,\n",
    "    'verbosity': 1,\n",
    "}\n",
    "\n",
    "model = xgb.train(xgb_params, dfulltrain, num_boost_round=10)"
   ]
  },
  {
   "cell_type": "code",
   "execution_count": null,
   "id": "63a4a1b8",
   "metadata": {},
   "outputs": [],
   "source": []
  },
  {
   "cell_type": "code",
   "execution_count": 216,
   "id": "a3fbecc3",
   "metadata": {},
   "outputs": [
    {
     "data": {
      "text/plain": [
       "0.41614005"
      ]
     },
     "execution_count": 216,
     "metadata": {},
     "output_type": "execute_result"
    }
   ],
   "source": [
    "y_pred = model.predict(dtest)\n",
    "RMSE = mean_squared_error(y_test, y_pred, squared=False)\n",
    "RMSE"
   ]
  },
  {
   "cell_type": "code",
   "execution_count": 217,
   "id": "88304009",
   "metadata": {},
   "outputs": [
    {
     "data": {
      "text/plain": [
       "dict_keys(['Linear Regression RMSE=', 'Ridge Regression (alpha 3) RMSE=', 'SGDRegressor RMSE=', 'SVR RMSE=', 'RandomForestRegressor RMSE=', 'DecisionTreeRegressor RMSE=', 'xgboostRegressor RMSE='])"
      ]
     },
     "execution_count": 217,
     "metadata": {},
     "output_type": "execute_result"
    }
   ],
   "source": [
    "key = 'xgboostRegressor RMSE='\n",
    "model_RMSE_scores[key] = RMSE\n",
    "model_RMSE_scores.keys()"
   ]
  },
  {
   "cell_type": "code",
   "execution_count": null,
   "id": "b3ce2b8a",
   "metadata": {},
   "outputs": [],
   "source": []
  },
  {
   "cell_type": "code",
   "execution_count": 226,
   "id": "18f822ad",
   "metadata": {},
   "outputs": [],
   "source": [
    "record = df_test.iloc[3].to_dict()\n",
    "X = dv.transform([record])\n",
    "dcheck = xgb.DMatrix(X, feature_names=features)"
   ]
  },
  {
   "cell_type": "code",
   "execution_count": 227,
   "id": "9fac3ca3",
   "metadata": {},
   "outputs": [
    {
     "data": {
      "text/plain": [
       "(8.0, 8.048736)"
      ]
     },
     "execution_count": 227,
     "metadata": {},
     "output_type": "execute_result"
    }
   ],
   "source": [
    "y_pred = model.predict(dcheck)\n",
    "\n",
    "\n",
    "original_price = y_test[3]\n",
    "pred = y_pred\n",
    "\n",
    "original_price, pred[0]"
   ]
  },
  {
   "cell_type": "code",
   "execution_count": null,
   "id": "fe048c5b",
   "metadata": {},
   "outputs": [],
   "source": []
  },
  {
   "cell_type": "code",
   "execution_count": null,
   "id": "954078f6",
   "metadata": {},
   "outputs": [],
   "source": []
  },
  {
   "cell_type": "code",
   "execution_count": 219,
   "id": "3273cb10",
   "metadata": {},
   "outputs": [
    {
     "data": {
      "text/plain": [
       "{'Linear Regression RMSE=': 0.8717005362328303,\n",
       " 'Ridge Regression (alpha 3) RMSE=': 0.5138463543966755,\n",
       " 'SGDRegressor RMSE=': 1.1782828316062282,\n",
       " 'SVR RMSE=': 0.4238536795607311,\n",
       " 'RandomForestRegressor RMSE=': 0.769604971722506,\n",
       " 'DecisionTreeRegressor RMSE=': 0.769604971722506,\n",
       " 'xgboostRegressor RMSE=': 0.41614005}"
      ]
     },
     "execution_count": 219,
     "metadata": {},
     "output_type": "execute_result"
    }
   ],
   "source": [
    "model_RMSE_scores"
   ]
  },
  {
   "cell_type": "code",
   "execution_count": null,
   "id": "889d5017",
   "metadata": {},
   "outputs": [],
   "source": []
  },
  {
   "cell_type": "markdown",
   "id": "6eada1b5",
   "metadata": {},
   "source": [
    "<h1>4. Exporting notebook to script</h1>"
   ]
  },
  {
   "cell_type": "markdown",
   "id": "8b417a25",
   "metadata": {},
   "source": [
    "<b>model.bin export data</b>"
   ]
  },
  {
   "cell_type": "code",
   "execution_count": 220,
   "id": "9f57b458",
   "metadata": {},
   "outputs": [],
   "source": [
    "import pickle"
   ]
  },
  {
   "cell_type": "code",
   "execution_count": 221,
   "id": "0d40ef9d",
   "metadata": {},
   "outputs": [],
   "source": [
    "xgb_params = {\n",
    "    'eta': 0.3,\n",
    "    'max_depth': 1,\n",
    "    'min_child_weight': 1,\n",
    "    'objective': 'reg:squarederror',\n",
    "    'nthread': 8,\n",
    "    'seed': 1,\n",
    "    'verbosity': 1,\n",
    "}\n",
    "\n",
    "model = xgb.train(xgb_params, dfulltrain, num_boost_round=10)"
   ]
  },
  {
   "cell_type": "code",
   "execution_count": 222,
   "id": "a1e0317b",
   "metadata": {},
   "outputs": [],
   "source": [
    "output_file = f'model.bin'"
   ]
  },
  {
   "cell_type": "code",
   "execution_count": 223,
   "id": "9bcd2cc4",
   "metadata": {},
   "outputs": [
    {
     "name": "stdout",
     "output_type": "stream",
     "text": [
      "The Model is saved to model.bin\n"
     ]
    }
   ],
   "source": [
    "with open(output_file, 'wb') as f_out:\n",
    "    pickle.dump((dv,model), f_out)\n",
    "\n",
    "print(f'The Model is saved to {output_file}')"
   ]
  },
  {
   "cell_type": "code",
   "execution_count": null,
   "id": "9034f304",
   "metadata": {},
   "outputs": [],
   "source": []
  }
 ],
 "metadata": {
  "kernelspec": {
   "display_name": "Python 3 (ipykernel)",
   "language": "python",
   "name": "python3"
  },
  "language_info": {
   "codemirror_mode": {
    "name": "ipython",
    "version": 3
   },
   "file_extension": ".py",
   "mimetype": "text/x-python",
   "name": "python",
   "nbconvert_exporter": "python",
   "pygments_lexer": "ipython3",
   "version": "3.8.11"
  }
 },
 "nbformat": 4,
 "nbformat_minor": 5
}
