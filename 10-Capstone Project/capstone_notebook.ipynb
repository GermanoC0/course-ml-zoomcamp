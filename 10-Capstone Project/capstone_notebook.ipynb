{
 "cells": [
  {
   "cell_type": "code",
   "execution_count": 29,
   "id": "4f47afb5",
   "metadata": {},
   "outputs": [],
   "source": [
    "# Dataset from Kaggle\n",
    "# https://www.kaggle.com/shivamb/real-or-fake-fake-jobposting-prediction\n",
    "\n",
    "# The purpose of the project is to train a model which, give a job post, classify if it's a real or fraudulent job\n",
    "# Dataset table columns description:\n",
    "#job_id                 Unique Job ID\n",
    "#title                  The title of the job entry.\n",
    "#location               Geographical location of the job\n",
    "#department             Corporate department \n",
    "#salary_range           Indicative salary range\n",
    "#company_profile        Company description\n",
    "#description            Description of the job\n",
    "#requirements           Requirements for the job position\n",
    "#benefits               Benefits offered\n",
    "#telecommuting          Telecommuting positions Bool\n",
    "#has_company_logo       Company logo Bool\n",
    "#has_questions          Questions Bool\n",
    "#employment_type        Full-type, Part-time, Contract, etc.\n",
    "#required_experience    Executive, Entry level, Intern, etc.\n",
    "#required_education     Doctorate, Master’s Degree, Bachelor, etc.\n",
    "#industry               Automotive, IT, Health care, Real estate, etc\n",
    "#function               Consulting, Engineering, Research, Sales etc.\n",
    "#fraudulent             Target variable Bool"
   ]
  },
  {
   "cell_type": "code",
   "execution_count": 209,
   "id": "8d6c2012",
   "metadata": {},
   "outputs": [],
   "source": [
    "import pandas as pd\n",
    "import numpy as np\n",
    "import matplotlib.pyplot as plt\n",
    "import seaborn as sns"
   ]
  },
  {
   "cell_type": "code",
   "execution_count": 210,
   "id": "906d4552",
   "metadata": {},
   "outputs": [],
   "source": [
    "df = pd.read_csv('fake_job_postings.csv')"
   ]
  },
  {
   "cell_type": "code",
   "execution_count": 211,
   "id": "0f8a5086",
   "metadata": {},
   "outputs": [
    {
     "data": {
      "text/html": [
       "<div>\n",
       "<style scoped>\n",
       "    .dataframe tbody tr th:only-of-type {\n",
       "        vertical-align: middle;\n",
       "    }\n",
       "\n",
       "    .dataframe tbody tr th {\n",
       "        vertical-align: top;\n",
       "    }\n",
       "\n",
       "    .dataframe thead th {\n",
       "        text-align: right;\n",
       "    }\n",
       "</style>\n",
       "<table border=\"1\" class=\"dataframe\">\n",
       "  <thead>\n",
       "    <tr style=\"text-align: right;\">\n",
       "      <th></th>\n",
       "      <th>job_id</th>\n",
       "      <th>title</th>\n",
       "      <th>location</th>\n",
       "      <th>department</th>\n",
       "      <th>salary_range</th>\n",
       "      <th>company_profile</th>\n",
       "      <th>description</th>\n",
       "      <th>requirements</th>\n",
       "      <th>benefits</th>\n",
       "      <th>telecommuting</th>\n",
       "      <th>has_company_logo</th>\n",
       "      <th>has_questions</th>\n",
       "      <th>employment_type</th>\n",
       "      <th>required_experience</th>\n",
       "      <th>required_education</th>\n",
       "      <th>industry</th>\n",
       "      <th>function</th>\n",
       "      <th>fraudulent</th>\n",
       "    </tr>\n",
       "  </thead>\n",
       "  <tbody>\n",
       "    <tr>\n",
       "      <th>0</th>\n",
       "      <td>1</td>\n",
       "      <td>Marketing Intern</td>\n",
       "      <td>US, NY, New York</td>\n",
       "      <td>Marketing</td>\n",
       "      <td>NaN</td>\n",
       "      <td>We're Food52, and we've created a groundbreaki...</td>\n",
       "      <td>Food52, a fast-growing, James Beard Award-winn...</td>\n",
       "      <td>Experience with content management systems a m...</td>\n",
       "      <td>NaN</td>\n",
       "      <td>0</td>\n",
       "      <td>1</td>\n",
       "      <td>0</td>\n",
       "      <td>Other</td>\n",
       "      <td>Internship</td>\n",
       "      <td>NaN</td>\n",
       "      <td>NaN</td>\n",
       "      <td>Marketing</td>\n",
       "      <td>0</td>\n",
       "    </tr>\n",
       "    <tr>\n",
       "      <th>1</th>\n",
       "      <td>2</td>\n",
       "      <td>Customer Service - Cloud Video Production</td>\n",
       "      <td>NZ, , Auckland</td>\n",
       "      <td>Success</td>\n",
       "      <td>NaN</td>\n",
       "      <td>90 Seconds, the worlds Cloud Video Production ...</td>\n",
       "      <td>Organised - Focused - Vibrant - Awesome!Do you...</td>\n",
       "      <td>What we expect from you:Your key responsibilit...</td>\n",
       "      <td>What you will get from usThrough being part of...</td>\n",
       "      <td>0</td>\n",
       "      <td>1</td>\n",
       "      <td>0</td>\n",
       "      <td>Full-time</td>\n",
       "      <td>Not Applicable</td>\n",
       "      <td>NaN</td>\n",
       "      <td>Marketing and Advertising</td>\n",
       "      <td>Customer Service</td>\n",
       "      <td>0</td>\n",
       "    </tr>\n",
       "    <tr>\n",
       "      <th>2</th>\n",
       "      <td>3</td>\n",
       "      <td>Commissioning Machinery Assistant (CMA)</td>\n",
       "      <td>US, IA, Wever</td>\n",
       "      <td>NaN</td>\n",
       "      <td>NaN</td>\n",
       "      <td>Valor Services provides Workforce Solutions th...</td>\n",
       "      <td>Our client, located in Houston, is actively se...</td>\n",
       "      <td>Implement pre-commissioning and commissioning ...</td>\n",
       "      <td>NaN</td>\n",
       "      <td>0</td>\n",
       "      <td>1</td>\n",
       "      <td>0</td>\n",
       "      <td>NaN</td>\n",
       "      <td>NaN</td>\n",
       "      <td>NaN</td>\n",
       "      <td>NaN</td>\n",
       "      <td>NaN</td>\n",
       "      <td>0</td>\n",
       "    </tr>\n",
       "    <tr>\n",
       "      <th>3</th>\n",
       "      <td>4</td>\n",
       "      <td>Account Executive - Washington DC</td>\n",
       "      <td>US, DC, Washington</td>\n",
       "      <td>Sales</td>\n",
       "      <td>NaN</td>\n",
       "      <td>Our passion for improving quality of life thro...</td>\n",
       "      <td>THE COMPANY: ESRI – Environmental Systems Rese...</td>\n",
       "      <td>EDUCATION: Bachelor’s or Master’s in GIS, busi...</td>\n",
       "      <td>Our culture is anything but corporate—we have ...</td>\n",
       "      <td>0</td>\n",
       "      <td>1</td>\n",
       "      <td>0</td>\n",
       "      <td>Full-time</td>\n",
       "      <td>Mid-Senior level</td>\n",
       "      <td>Bachelor's Degree</td>\n",
       "      <td>Computer Software</td>\n",
       "      <td>Sales</td>\n",
       "      <td>0</td>\n",
       "    </tr>\n",
       "    <tr>\n",
       "      <th>4</th>\n",
       "      <td>5</td>\n",
       "      <td>Bill Review Manager</td>\n",
       "      <td>US, FL, Fort Worth</td>\n",
       "      <td>NaN</td>\n",
       "      <td>NaN</td>\n",
       "      <td>SpotSource Solutions LLC is a Global Human Cap...</td>\n",
       "      <td>JOB TITLE: Itemization Review ManagerLOCATION:...</td>\n",
       "      <td>QUALIFICATIONS:RN license in the State of Texa...</td>\n",
       "      <td>Full Benefits Offered</td>\n",
       "      <td>0</td>\n",
       "      <td>1</td>\n",
       "      <td>1</td>\n",
       "      <td>Full-time</td>\n",
       "      <td>Mid-Senior level</td>\n",
       "      <td>Bachelor's Degree</td>\n",
       "      <td>Hospital &amp; Health Care</td>\n",
       "      <td>Health Care Provider</td>\n",
       "      <td>0</td>\n",
       "    </tr>\n",
       "  </tbody>\n",
       "</table>\n",
       "</div>"
      ],
      "text/plain": [
       "   job_id                                      title            location  \\\n",
       "0       1                           Marketing Intern    US, NY, New York   \n",
       "1       2  Customer Service - Cloud Video Production      NZ, , Auckland   \n",
       "2       3    Commissioning Machinery Assistant (CMA)       US, IA, Wever   \n",
       "3       4          Account Executive - Washington DC  US, DC, Washington   \n",
       "4       5                        Bill Review Manager  US, FL, Fort Worth   \n",
       "\n",
       "  department salary_range                                    company_profile  \\\n",
       "0  Marketing          NaN  We're Food52, and we've created a groundbreaki...   \n",
       "1    Success          NaN  90 Seconds, the worlds Cloud Video Production ...   \n",
       "2        NaN          NaN  Valor Services provides Workforce Solutions th...   \n",
       "3      Sales          NaN  Our passion for improving quality of life thro...   \n",
       "4        NaN          NaN  SpotSource Solutions LLC is a Global Human Cap...   \n",
       "\n",
       "                                         description  \\\n",
       "0  Food52, a fast-growing, James Beard Award-winn...   \n",
       "1  Organised - Focused - Vibrant - Awesome!Do you...   \n",
       "2  Our client, located in Houston, is actively se...   \n",
       "3  THE COMPANY: ESRI – Environmental Systems Rese...   \n",
       "4  JOB TITLE: Itemization Review ManagerLOCATION:...   \n",
       "\n",
       "                                        requirements  \\\n",
       "0  Experience with content management systems a m...   \n",
       "1  What we expect from you:Your key responsibilit...   \n",
       "2  Implement pre-commissioning and commissioning ...   \n",
       "3  EDUCATION: Bachelor’s or Master’s in GIS, busi...   \n",
       "4  QUALIFICATIONS:RN license in the State of Texa...   \n",
       "\n",
       "                                            benefits  telecommuting  \\\n",
       "0                                                NaN              0   \n",
       "1  What you will get from usThrough being part of...              0   \n",
       "2                                                NaN              0   \n",
       "3  Our culture is anything but corporate—we have ...              0   \n",
       "4                              Full Benefits Offered              0   \n",
       "\n",
       "   has_company_logo  has_questions employment_type required_experience  \\\n",
       "0                 1              0           Other          Internship   \n",
       "1                 1              0       Full-time      Not Applicable   \n",
       "2                 1              0             NaN                 NaN   \n",
       "3                 1              0       Full-time    Mid-Senior level   \n",
       "4                 1              1       Full-time    Mid-Senior level   \n",
       "\n",
       "  required_education                   industry              function  \\\n",
       "0                NaN                        NaN             Marketing   \n",
       "1                NaN  Marketing and Advertising      Customer Service   \n",
       "2                NaN                        NaN                   NaN   \n",
       "3  Bachelor's Degree          Computer Software                 Sales   \n",
       "4  Bachelor's Degree     Hospital & Health Care  Health Care Provider   \n",
       "\n",
       "   fraudulent  \n",
       "0           0  \n",
       "1           0  \n",
       "2           0  \n",
       "3           0  \n",
       "4           0  "
      ]
     },
     "execution_count": 211,
     "metadata": {},
     "output_type": "execute_result"
    }
   ],
   "source": [
    "df.head()"
   ]
  },
  {
   "cell_type": "markdown",
   "id": "5bc1e1df",
   "metadata": {},
   "source": [
    "<h2>EDA</h2>"
   ]
  },
  {
   "cell_type": "code",
   "execution_count": null,
   "id": "e51fcaa3",
   "metadata": {},
   "outputs": [],
   "source": []
  },
  {
   "cell_type": "code",
   "execution_count": 212,
   "id": "f813c996",
   "metadata": {},
   "outputs": [
    {
     "data": {
      "text/html": [
       "<div>\n",
       "<style scoped>\n",
       "    .dataframe tbody tr th:only-of-type {\n",
       "        vertical-align: middle;\n",
       "    }\n",
       "\n",
       "    .dataframe tbody tr th {\n",
       "        vertical-align: top;\n",
       "    }\n",
       "\n",
       "    .dataframe thead th {\n",
       "        text-align: right;\n",
       "    }\n",
       "</style>\n",
       "<table border=\"1\" class=\"dataframe\">\n",
       "  <thead>\n",
       "    <tr style=\"text-align: right;\">\n",
       "      <th></th>\n",
       "      <th>job_id</th>\n",
       "      <th>telecommuting</th>\n",
       "      <th>has_company_logo</th>\n",
       "      <th>has_questions</th>\n",
       "      <th>fraudulent</th>\n",
       "    </tr>\n",
       "  </thead>\n",
       "  <tbody>\n",
       "    <tr>\n",
       "      <th>count</th>\n",
       "      <td>17880.000000</td>\n",
       "      <td>17880.000000</td>\n",
       "      <td>17880.000000</td>\n",
       "      <td>17880.000000</td>\n",
       "      <td>17880.000000</td>\n",
       "    </tr>\n",
       "    <tr>\n",
       "      <th>mean</th>\n",
       "      <td>8940.500000</td>\n",
       "      <td>0.042897</td>\n",
       "      <td>0.795302</td>\n",
       "      <td>0.491723</td>\n",
       "      <td>0.048434</td>\n",
       "    </tr>\n",
       "    <tr>\n",
       "      <th>std</th>\n",
       "      <td>5161.655742</td>\n",
       "      <td>0.202631</td>\n",
       "      <td>0.403492</td>\n",
       "      <td>0.499945</td>\n",
       "      <td>0.214688</td>\n",
       "    </tr>\n",
       "    <tr>\n",
       "      <th>min</th>\n",
       "      <td>1.000000</td>\n",
       "      <td>0.000000</td>\n",
       "      <td>0.000000</td>\n",
       "      <td>0.000000</td>\n",
       "      <td>0.000000</td>\n",
       "    </tr>\n",
       "    <tr>\n",
       "      <th>25%</th>\n",
       "      <td>4470.750000</td>\n",
       "      <td>0.000000</td>\n",
       "      <td>1.000000</td>\n",
       "      <td>0.000000</td>\n",
       "      <td>0.000000</td>\n",
       "    </tr>\n",
       "    <tr>\n",
       "      <th>50%</th>\n",
       "      <td>8940.500000</td>\n",
       "      <td>0.000000</td>\n",
       "      <td>1.000000</td>\n",
       "      <td>0.000000</td>\n",
       "      <td>0.000000</td>\n",
       "    </tr>\n",
       "    <tr>\n",
       "      <th>75%</th>\n",
       "      <td>13410.250000</td>\n",
       "      <td>0.000000</td>\n",
       "      <td>1.000000</td>\n",
       "      <td>1.000000</td>\n",
       "      <td>0.000000</td>\n",
       "    </tr>\n",
       "    <tr>\n",
       "      <th>max</th>\n",
       "      <td>17880.000000</td>\n",
       "      <td>1.000000</td>\n",
       "      <td>1.000000</td>\n",
       "      <td>1.000000</td>\n",
       "      <td>1.000000</td>\n",
       "    </tr>\n",
       "  </tbody>\n",
       "</table>\n",
       "</div>"
      ],
      "text/plain": [
       "             job_id  telecommuting  has_company_logo  has_questions  \\\n",
       "count  17880.000000   17880.000000      17880.000000   17880.000000   \n",
       "mean    8940.500000       0.042897          0.795302       0.491723   \n",
       "std     5161.655742       0.202631          0.403492       0.499945   \n",
       "min        1.000000       0.000000          0.000000       0.000000   \n",
       "25%     4470.750000       0.000000          1.000000       0.000000   \n",
       "50%     8940.500000       0.000000          1.000000       0.000000   \n",
       "75%    13410.250000       0.000000          1.000000       1.000000   \n",
       "max    17880.000000       1.000000          1.000000       1.000000   \n",
       "\n",
       "         fraudulent  \n",
       "count  17880.000000  \n",
       "mean       0.048434  \n",
       "std        0.214688  \n",
       "min        0.000000  \n",
       "25%        0.000000  \n",
       "50%        0.000000  \n",
       "75%        0.000000  \n",
       "max        1.000000  "
      ]
     },
     "execution_count": 212,
     "metadata": {},
     "output_type": "execute_result"
    }
   ],
   "source": [
    "df.describe()"
   ]
  },
  {
   "cell_type": "code",
   "execution_count": 213,
   "id": "2a159eba",
   "metadata": {},
   "outputs": [
    {
     "data": {
      "text/plain": [
       "job_id                  int64\n",
       "title                  object\n",
       "location               object\n",
       "department             object\n",
       "salary_range           object\n",
       "company_profile        object\n",
       "description            object\n",
       "requirements           object\n",
       "benefits               object\n",
       "telecommuting           int64\n",
       "has_company_logo        int64\n",
       "has_questions           int64\n",
       "employment_type        object\n",
       "required_experience    object\n",
       "required_education     object\n",
       "industry               object\n",
       "function               object\n",
       "fraudulent              int64\n",
       "dtype: object"
      ]
     },
     "execution_count": 213,
     "metadata": {},
     "output_type": "execute_result"
    }
   ],
   "source": [
    "df.dtypes"
   ]
  },
  {
   "cell_type": "markdown",
   "id": "bd4970b0",
   "metadata": {},
   "source": [
    "Columns Format is ok."
   ]
  },
  {
   "cell_type": "code",
   "execution_count": 214,
   "id": "0e7be3c2",
   "metadata": {},
   "outputs": [
    {
     "data": {
      "text/plain": [
       "job_id                     0\n",
       "title                      0\n",
       "location                 346\n",
       "department             11547\n",
       "salary_range           15012\n",
       "company_profile         3308\n",
       "description                1\n",
       "requirements            2695\n",
       "benefits                7210\n",
       "telecommuting              0\n",
       "has_company_logo           0\n",
       "has_questions              0\n",
       "employment_type         3471\n",
       "required_experience     7050\n",
       "required_education      8105\n",
       "industry                4903\n",
       "function                6455\n",
       "fraudulent                 0\n",
       "dtype: int64"
      ]
     },
     "execution_count": 214,
     "metadata": {},
     "output_type": "execute_result"
    }
   ],
   "source": [
    "df.isnull().sum()"
   ]
  },
  {
   "cell_type": "code",
   "execution_count": 215,
   "id": "7edc1b17",
   "metadata": {},
   "outputs": [
    {
     "data": {
      "text/plain": [
       "0"
      ]
     },
     "execution_count": 215,
     "metadata": {},
     "output_type": "execute_result"
    }
   ],
   "source": [
    "df.duplicated().sum()"
   ]
  },
  {
   "cell_type": "markdown",
   "id": "e1ecbaba",
   "metadata": {},
   "source": [
    "There are a lot of null values.\n",
    "I want to replace this null values with 'not_available' string. If an information is available or not could be useful to determinate if is a fake job or not.\n",
    "I want also remove the job_id column, because I think it's not relevant."
   ]
  },
  {
   "cell_type": "code",
   "execution_count": 216,
   "id": "f30220da",
   "metadata": {},
   "outputs": [],
   "source": [
    "df = df.drop(['job_id'], axis = 'columns')"
   ]
  },
  {
   "cell_type": "code",
   "execution_count": null,
   "id": "5236e501",
   "metadata": {},
   "outputs": [],
   "source": []
  },
  {
   "cell_type": "code",
   "execution_count": 217,
   "id": "f5b7e321",
   "metadata": {},
   "outputs": [],
   "source": [
    "df['location_available'] = np.where(df['location'].isnull(), 'not_available', 'available')"
   ]
  },
  {
   "cell_type": "code",
   "execution_count": 218,
   "id": "24f7a8cd",
   "metadata": {},
   "outputs": [],
   "source": [
    "df['department_available'] = np.where(df['department'].isnull(), 'not_available', 'available')"
   ]
  },
  {
   "cell_type": "code",
   "execution_count": 219,
   "id": "c05332ea",
   "metadata": {},
   "outputs": [],
   "source": [
    "df['salary_range_available'] = np.where(df['salary_range'].isnull(), 'not_available', 'available')"
   ]
  },
  {
   "cell_type": "code",
   "execution_count": 220,
   "id": "c16d4e2f",
   "metadata": {},
   "outputs": [],
   "source": [
    "df['company_profile_available'] = np.where(df['company_profile'].isnull(), 'not_available', 'available')\n",
    "df['company_profile_lenght'] = (np.where(df['company_profile'].isnull(), 0, df['company_profile'].str.len())).astype('int64')"
   ]
  },
  {
   "cell_type": "code",
   "execution_count": 221,
   "id": "f4bdeee4",
   "metadata": {},
   "outputs": [],
   "source": [
    "df['description_available'] = np.where(df['description'].isnull(), 'not_available', 'available')\n",
    "df['description_lenght'] = (np.where(df['description'].isnull(), 0, df['description'].str.len())).astype('int64')"
   ]
  },
  {
   "cell_type": "code",
   "execution_count": 222,
   "id": "fe6090ac",
   "metadata": {},
   "outputs": [],
   "source": [
    "df['requirements_available'] = np.where(df['requirements'].isnull(), 'not_available', 'available')\n",
    "df['requirements_lenght'] = (np.where(df['requirements'].isnull(), 0, df['requirements'].str.len())).astype('int64')"
   ]
  },
  {
   "cell_type": "code",
   "execution_count": 223,
   "id": "2df5a9e9",
   "metadata": {},
   "outputs": [],
   "source": [
    "df['benefits_available'] = np.where(df['benefits'].isnull(), 'not_available', 'available')\n",
    "df['benefits_lenght'] = (np.where(df['benefits'].isnull(), 0, df['benefits'].str.len())).astype('int64')"
   ]
  },
  {
   "cell_type": "markdown",
   "id": "36711889",
   "metadata": {},
   "source": [
    "For the fields above, I don't need the content, but I would like to consider if the information is present or not and for the field where there is a lot of text I would consider the lenght of the text and not the content. You can use word in many way and express same concept in many way."
   ]
  },
  {
   "cell_type": "markdown",
   "id": "440be82b",
   "metadata": {},
   "source": [
    "I do the same thing with title field, text field, you can play with the text and describe the same job with different words."
   ]
  },
  {
   "cell_type": "code",
   "execution_count": 224,
   "id": "b8876e23",
   "metadata": {},
   "outputs": [
    {
     "data": {
      "text/plain": [
       "English Teacher Abroad                                         311\n",
       "Customer Service Associate                                     146\n",
       "Graduates: English Teacher Abroad (Conversational)             144\n",
       "English Teacher Abroad                                          95\n",
       "Software Engineer                                               86\n",
       "                                                              ... \n",
       "West Coast Regional Channel Manager (RCM)                        1\n",
       "BI Practice Manager                                              1\n",
       "Community Coordinator- Ambassador Programme                      1\n",
       "Senior Traffic Engineer                                          1\n",
       "Project Cost Control Staff Engineer - Cost Control Exp - TX      1\n",
       "Name: title, Length: 11231, dtype: int64"
      ]
     },
     "execution_count": 224,
     "metadata": {},
     "output_type": "execute_result"
    }
   ],
   "source": [
    "df['title'].value_counts()"
   ]
  },
  {
   "cell_type": "markdown",
   "id": "95112fab",
   "metadata": {},
   "source": [
    "graduates:_english_teacher_abroad_(conversational) is a mix of english teacher and education?"
   ]
  },
  {
   "cell_type": "code",
   "execution_count": 225,
   "id": "67073841",
   "metadata": {},
   "outputs": [
    {
     "data": {
      "text/plain": [
       "Sales                                          551\n",
       "Engineering                                    487\n",
       "Marketing                                      401\n",
       "Operations                                     270\n",
       "IT                                             225\n",
       "                                              ... \n",
       "Commercial Management / Contract Management      1\n",
       "Exec                                             1\n",
       "Marcomm                                          1\n",
       "CRM                                              1\n",
       "Hospitality                                      1\n",
       "Name: department, Length: 1337, dtype: int64"
      ]
     },
     "execution_count": 225,
     "metadata": {},
     "output_type": "execute_result"
    }
   ],
   "source": [
    "df['department'].value_counts()"
   ]
  },
  {
   "cell_type": "markdown",
   "id": "c4bcc670",
   "metadata": {},
   "source": [
    "Departments: same idea of the previous, see marcomm (is marketing? a mix of commercial management?), and 11547 data not available. In order to check if is a fake job or not, I think is more useful know if an information is present or not"
   ]
  },
  {
   "cell_type": "code",
   "execution_count": 226,
   "id": "c3099d83",
   "metadata": {},
   "outputs": [],
   "source": [
    "df['title_lenght'] = (np.where(df['title'].isnull(), 0, df['title'].str.len())).astype('int64')\n",
    "df = df.drop(['title', 'location', 'department', 'salary_range', 'company_profile', 'description', 'requirements', 'benefits'], axis = 'columns')"
   ]
  },
  {
   "cell_type": "code",
   "execution_count": null,
   "id": "2b3ea093",
   "metadata": {},
   "outputs": [],
   "source": []
  },
  {
   "cell_type": "code",
   "execution_count": 227,
   "id": "eba7ea6a",
   "metadata": {},
   "outputs": [
    {
     "data": {
      "text/plain": [
       "telecommuting                   0\n",
       "has_company_logo                0\n",
       "has_questions                   0\n",
       "employment_type              3471\n",
       "required_experience          7050\n",
       "required_education           8105\n",
       "industry                     4903\n",
       "function                     6455\n",
       "fraudulent                      0\n",
       "location_available              0\n",
       "department_available            0\n",
       "salary_range_available          0\n",
       "company_profile_available       0\n",
       "company_profile_lenght          0\n",
       "description_available           0\n",
       "description_lenght              0\n",
       "requirements_available          0\n",
       "requirements_lenght             0\n",
       "benefits_available              0\n",
       "benefits_lenght                 0\n",
       "title_lenght                    0\n",
       "dtype: int64"
      ]
     },
     "execution_count": 227,
     "metadata": {},
     "output_type": "execute_result"
    }
   ],
   "source": [
    "df.isnull().sum()"
   ]
  },
  {
   "cell_type": "code",
   "execution_count": 228,
   "id": "c8b879da",
   "metadata": {},
   "outputs": [
    {
     "data": {
      "text/plain": [
       "Full-time    11620\n",
       "Contract      1524\n",
       "Part-time      797\n",
       "Temporary      241\n",
       "Other          227\n",
       "Name: employment_type, dtype: int64"
      ]
     },
     "execution_count": 228,
     "metadata": {},
     "output_type": "execute_result"
    }
   ],
   "source": [
    "df['employment_type'].value_counts()"
   ]
  },
  {
   "cell_type": "code",
   "execution_count": 229,
   "id": "4fcc0f9e",
   "metadata": {},
   "outputs": [],
   "source": [
    "df['employment_type'].fillna(\"not_available\",inplace=True)"
   ]
  },
  {
   "cell_type": "code",
   "execution_count": 230,
   "id": "a0e9813b",
   "metadata": {},
   "outputs": [
    {
     "data": {
      "text/plain": [
       "Full-time        11620\n",
       "not_available     3471\n",
       "Contract          1524\n",
       "Part-time          797\n",
       "Temporary          241\n",
       "Other              227\n",
       "Name: employment_type, dtype: int64"
      ]
     },
     "execution_count": 230,
     "metadata": {},
     "output_type": "execute_result"
    }
   ],
   "source": [
    "df['employment_type'].value_counts()"
   ]
  },
  {
   "cell_type": "markdown",
   "id": "acb9634f",
   "metadata": {},
   "source": [
    "employment_type: useful, I would replace the null values with not_available"
   ]
  },
  {
   "cell_type": "code",
   "execution_count": 231,
   "id": "7d06c902",
   "metadata": {},
   "outputs": [
    {
     "data": {
      "text/plain": [
       "Mid-Senior level    3809\n",
       "Entry level         2697\n",
       "Associate           2297\n",
       "Not Applicable      1116\n",
       "Director             389\n",
       "Internship           381\n",
       "Executive            141\n",
       "Name: required_experience, dtype: int64"
      ]
     },
     "execution_count": 231,
     "metadata": {},
     "output_type": "execute_result"
    }
   ],
   "source": [
    "df['required_experience'].value_counts()"
   ]
  },
  {
   "cell_type": "code",
   "execution_count": 232,
   "id": "156baba7",
   "metadata": {},
   "outputs": [],
   "source": [
    "df['required_experience'].fillna(\"not_available\",inplace=True)"
   ]
  },
  {
   "cell_type": "code",
   "execution_count": 233,
   "id": "191be09f",
   "metadata": {},
   "outputs": [
    {
     "data": {
      "text/plain": [
       "not_available       7050\n",
       "Mid-Senior level    3809\n",
       "Entry level         2697\n",
       "Associate           2297\n",
       "Not Applicable      1116\n",
       "Director             389\n",
       "Internship           381\n",
       "Executive            141\n",
       "Name: required_experience, dtype: int64"
      ]
     },
     "execution_count": 233,
     "metadata": {},
     "output_type": "execute_result"
    }
   ],
   "source": [
    "df['required_experience'].value_counts()"
   ]
  },
  {
   "cell_type": "markdown",
   "id": "9accfaa2",
   "metadata": {},
   "source": [
    "required_experience: same as before. There are a lot of not_available info but also a good amount of information"
   ]
  },
  {
   "cell_type": "code",
   "execution_count": 234,
   "id": "143b109b",
   "metadata": {},
   "outputs": [
    {
     "data": {
      "text/plain": [
       "Bachelor's Degree                    5145\n",
       "High School or equivalent            2080\n",
       "Unspecified                          1397\n",
       "Master's Degree                       416\n",
       "Associate Degree                      274\n",
       "Certification                         170\n",
       "Some College Coursework Completed     102\n",
       "Professional                           74\n",
       "Vocational                             49\n",
       "Some High School Coursework            27\n",
       "Doctorate                              26\n",
       "Vocational - HS Diploma                 9\n",
       "Vocational - Degree                     6\n",
       "Name: required_education, dtype: int64"
      ]
     },
     "execution_count": 234,
     "metadata": {},
     "output_type": "execute_result"
    }
   ],
   "source": [
    "df['required_education'].value_counts()"
   ]
  },
  {
   "cell_type": "code",
   "execution_count": 235,
   "id": "7b7ac5e2",
   "metadata": {},
   "outputs": [],
   "source": [
    "df['required_education'].fillna(\"not_available\",inplace=True)"
   ]
  },
  {
   "cell_type": "code",
   "execution_count": 236,
   "id": "763aa8f5",
   "metadata": {},
   "outputs": [
    {
     "data": {
      "text/plain": [
       "not_available                        8105\n",
       "Bachelor's Degree                    5145\n",
       "High School or equivalent            2080\n",
       "Unspecified                          1397\n",
       "Master's Degree                       416\n",
       "Associate Degree                      274\n",
       "Certification                         170\n",
       "Some College Coursework Completed     102\n",
       "Professional                           74\n",
       "Vocational                             49\n",
       "Some High School Coursework            27\n",
       "Doctorate                              26\n",
       "Vocational - HS Diploma                 9\n",
       "Vocational - Degree                     6\n",
       "Name: required_education, dtype: int64"
      ]
     },
     "execution_count": 236,
     "metadata": {},
     "output_type": "execute_result"
    }
   ],
   "source": [
    "df['required_education'].value_counts()"
   ]
  },
  {
   "cell_type": "markdown",
   "id": "0ab267ab",
   "metadata": {},
   "source": [
    "required_education: same as before"
   ]
  },
  {
   "cell_type": "code",
   "execution_count": 237,
   "id": "7441f0c7",
   "metadata": {},
   "outputs": [
    {
     "data": {
      "text/plain": [
       "Information Technology and Services    1734\n",
       "Computer Software                      1376\n",
       "Internet                               1062\n",
       "Marketing and Advertising               828\n",
       "Education Management                    822\n",
       "                                       ... \n",
       "Shipbuilding                              1\n",
       "Sporting Goods                            1\n",
       "Museums and Institutions                  1\n",
       "Wine and Spirits                          1\n",
       "Ranching                                  1\n",
       "Name: industry, Length: 131, dtype: int64"
      ]
     },
     "execution_count": 237,
     "metadata": {},
     "output_type": "execute_result"
    }
   ],
   "source": [
    "df['industry'].value_counts()"
   ]
  },
  {
   "cell_type": "code",
   "execution_count": 238,
   "id": "ba0f3394",
   "metadata": {},
   "outputs": [],
   "source": [
    "df['industry'].fillna(\"not_available\",inplace=True)"
   ]
  },
  {
   "cell_type": "code",
   "execution_count": 239,
   "id": "e0b5e612",
   "metadata": {},
   "outputs": [
    {
     "data": {
      "text/plain": [
       "not_available                          4903\n",
       "Information Technology and Services    1734\n",
       "Computer Software                      1376\n",
       "Internet                               1062\n",
       "Marketing and Advertising               828\n",
       "                                       ... \n",
       "Shipbuilding                              1\n",
       "Sporting Goods                            1\n",
       "Museums and Institutions                  1\n",
       "Wine and Spirits                          1\n",
       "Ranching                                  1\n",
       "Name: industry, Length: 132, dtype: int64"
      ]
     },
     "execution_count": 239,
     "metadata": {},
     "output_type": "execute_result"
    }
   ],
   "source": [
    "df['industry'].value_counts()"
   ]
  },
  {
   "cell_type": "markdown",
   "id": "afd36f95",
   "metadata": {},
   "source": [
    "industry: same as before"
   ]
  },
  {
   "cell_type": "code",
   "execution_count": 240,
   "id": "735533f5",
   "metadata": {},
   "outputs": [
    {
     "data": {
      "text/plain": [
       "Information Technology    1749\n",
       "Sales                     1468\n",
       "Engineering               1348\n",
       "Customer Service          1229\n",
       "Marketing                  830\n",
       "Administrative             630\n",
       "Design                     340\n",
       "Health Care Provider       338\n",
       "Other                      325\n",
       "Education                  325\n",
       "Management                 317\n",
       "Business Development       228\n",
       "Accounting/Auditing        212\n",
       "Human Resources            205\n",
       "Project Management         183\n",
       "Finance                    172\n",
       "Consulting                 144\n",
       "Writing/Editing            132\n",
       "Art/Creative               132\n",
       "Production                 116\n",
       "Product Management         114\n",
       "Quality Assurance          111\n",
       "Advertising                 90\n",
       "Business Analyst            84\n",
       "Data Analyst                82\n",
       "Public Relations            76\n",
       "Manufacturing               74\n",
       "General Business            68\n",
       "Research                    50\n",
       "Legal                       47\n",
       "Strategy/Planning           46\n",
       "Training                    38\n",
       "Supply Chain                36\n",
       "Financial Analyst           33\n",
       "Distribution                24\n",
       "Purchasing                  15\n",
       "Science                     14\n",
       "Name: function, dtype: int64"
      ]
     },
     "execution_count": 240,
     "metadata": {},
     "output_type": "execute_result"
    }
   ],
   "source": [
    "df['function'].value_counts()"
   ]
  },
  {
   "cell_type": "code",
   "execution_count": 241,
   "id": "a38358cf",
   "metadata": {},
   "outputs": [],
   "source": [
    "df['function'].fillna(\"not_available\",inplace=True)"
   ]
  },
  {
   "cell_type": "code",
   "execution_count": 242,
   "id": "2946e2eb",
   "metadata": {},
   "outputs": [
    {
     "data": {
      "text/plain": [
       "not_available             6455\n",
       "Information Technology    1749\n",
       "Sales                     1468\n",
       "Engineering               1348\n",
       "Customer Service          1229\n",
       "Marketing                  830\n",
       "Administrative             630\n",
       "Design                     340\n",
       "Health Care Provider       338\n",
       "Other                      325\n",
       "Education                  325\n",
       "Management                 317\n",
       "Business Development       228\n",
       "Accounting/Auditing        212\n",
       "Human Resources            205\n",
       "Project Management         183\n",
       "Finance                    172\n",
       "Consulting                 144\n",
       "Writing/Editing            132\n",
       "Art/Creative               132\n",
       "Production                 116\n",
       "Product Management         114\n",
       "Quality Assurance          111\n",
       "Advertising                 90\n",
       "Business Analyst            84\n",
       "Data Analyst                82\n",
       "Public Relations            76\n",
       "Manufacturing               74\n",
       "General Business            68\n",
       "Research                    50\n",
       "Legal                       47\n",
       "Strategy/Planning           46\n",
       "Training                    38\n",
       "Supply Chain                36\n",
       "Financial Analyst           33\n",
       "Distribution                24\n",
       "Purchasing                  15\n",
       "Science                     14\n",
       "Name: function, dtype: int64"
      ]
     },
     "execution_count": 242,
     "metadata": {},
     "output_type": "execute_result"
    }
   ],
   "source": [
    "df['function'].value_counts()"
   ]
  },
  {
   "cell_type": "markdown",
   "id": "4553728c",
   "metadata": {},
   "source": [
    "function: same as before"
   ]
  },
  {
   "cell_type": "code",
   "execution_count": 269,
   "id": "09d1fa8a",
   "metadata": {},
   "outputs": [
    {
     "data": {
      "text/plain": [
       "0    17113\n",
       "1      767\n",
       "Name: telecommuting, dtype: int64"
      ]
     },
     "execution_count": 269,
     "metadata": {},
     "output_type": "execute_result"
    }
   ],
   "source": [
    "df['telecommuting'].value_counts()"
   ]
  },
  {
   "cell_type": "code",
   "execution_count": 270,
   "id": "e6430051",
   "metadata": {},
   "outputs": [
    {
     "data": {
      "text/plain": [
       "1    14220\n",
       "0     3660\n",
       "Name: has_company_logo, dtype: int64"
      ]
     },
     "execution_count": 270,
     "metadata": {},
     "output_type": "execute_result"
    }
   ],
   "source": [
    "df['has_company_logo'].value_counts()"
   ]
  },
  {
   "cell_type": "code",
   "execution_count": 271,
   "id": "62009f07",
   "metadata": {},
   "outputs": [
    {
     "data": {
      "text/plain": [
       "0    9088\n",
       "1    8792\n",
       "Name: has_questions, dtype: int64"
      ]
     },
     "execution_count": 271,
     "metadata": {},
     "output_type": "execute_result"
    }
   ],
   "source": [
    "df['has_questions'].value_counts()"
   ]
  },
  {
   "cell_type": "code",
   "execution_count": 272,
   "id": "5205ddb2",
   "metadata": {},
   "outputs": [
    {
     "data": {
      "text/plain": [
       "full-time        11620\n",
       "not_available     3471\n",
       "contract          1524\n",
       "part-time          797\n",
       "temporary          241\n",
       "other              227\n",
       "Name: employment_type, dtype: int64"
      ]
     },
     "execution_count": 272,
     "metadata": {},
     "output_type": "execute_result"
    }
   ],
   "source": [
    "df['employment_type'].value_counts()"
   ]
  },
  {
   "cell_type": "markdown",
   "id": "229afec2",
   "metadata": {},
   "source": [
    "Clean string fields with lower case chars and replace the space with _ "
   ]
  },
  {
   "cell_type": "code",
   "execution_count": 273,
   "id": "389ceae4",
   "metadata": {},
   "outputs": [],
   "source": [
    "cols = list(df.dtypes[df.dtypes == 'object'].index)\n",
    "\n",
    "for c in cols:\n",
    "    df[c] = df[c].str.lower().str.replace(' ', '_')"
   ]
  },
  {
   "cell_type": "code",
   "execution_count": 274,
   "id": "2e69b54d",
   "metadata": {},
   "outputs": [
    {
     "data": {
      "text/html": [
       "<div>\n",
       "<style scoped>\n",
       "    .dataframe tbody tr th:only-of-type {\n",
       "        vertical-align: middle;\n",
       "    }\n",
       "\n",
       "    .dataframe tbody tr th {\n",
       "        vertical-align: top;\n",
       "    }\n",
       "\n",
       "    .dataframe thead th {\n",
       "        text-align: right;\n",
       "    }\n",
       "</style>\n",
       "<table border=\"1\" class=\"dataframe\">\n",
       "  <thead>\n",
       "    <tr style=\"text-align: right;\">\n",
       "      <th></th>\n",
       "      <th>telecommuting</th>\n",
       "      <th>has_company_logo</th>\n",
       "      <th>has_questions</th>\n",
       "      <th>employment_type</th>\n",
       "      <th>required_experience</th>\n",
       "      <th>required_education</th>\n",
       "      <th>industry</th>\n",
       "      <th>function</th>\n",
       "      <th>fraudulent</th>\n",
       "      <th>title_lenght</th>\n",
       "      <th>...</th>\n",
       "      <th>department_available</th>\n",
       "      <th>salary_range_available</th>\n",
       "      <th>company_profile_available</th>\n",
       "      <th>company_profile_lenght</th>\n",
       "      <th>description_available</th>\n",
       "      <th>description_lenght</th>\n",
       "      <th>requirements_available</th>\n",
       "      <th>requirements_lenght</th>\n",
       "      <th>benefits_available</th>\n",
       "      <th>benefits_lenght</th>\n",
       "    </tr>\n",
       "  </thead>\n",
       "  <tbody>\n",
       "    <tr>\n",
       "      <th>0</th>\n",
       "      <td>0</td>\n",
       "      <td>1</td>\n",
       "      <td>0</td>\n",
       "      <td>other</td>\n",
       "      <td>internship</td>\n",
       "      <td>not_available</td>\n",
       "      <td>not_available</td>\n",
       "      <td>marketing</td>\n",
       "      <td>0</td>\n",
       "      <td>16</td>\n",
       "      <td>...</td>\n",
       "      <td>available</td>\n",
       "      <td>not_available</td>\n",
       "      <td>available</td>\n",
       "      <td>885</td>\n",
       "      <td>available</td>\n",
       "      <td>905</td>\n",
       "      <td>available</td>\n",
       "      <td>852</td>\n",
       "      <td>not_available</td>\n",
       "      <td>0</td>\n",
       "    </tr>\n",
       "    <tr>\n",
       "      <th>1</th>\n",
       "      <td>0</td>\n",
       "      <td>1</td>\n",
       "      <td>0</td>\n",
       "      <td>full-time</td>\n",
       "      <td>not_applicable</td>\n",
       "      <td>not_available</td>\n",
       "      <td>marketing_and_advertising</td>\n",
       "      <td>customer_service</td>\n",
       "      <td>0</td>\n",
       "      <td>41</td>\n",
       "      <td>...</td>\n",
       "      <td>available</td>\n",
       "      <td>not_available</td>\n",
       "      <td>available</td>\n",
       "      <td>1286</td>\n",
       "      <td>available</td>\n",
       "      <td>2077</td>\n",
       "      <td>available</td>\n",
       "      <td>1433</td>\n",
       "      <td>available</td>\n",
       "      <td>1292</td>\n",
       "    </tr>\n",
       "    <tr>\n",
       "      <th>2</th>\n",
       "      <td>0</td>\n",
       "      <td>1</td>\n",
       "      <td>0</td>\n",
       "      <td>not_available</td>\n",
       "      <td>not_available</td>\n",
       "      <td>not_available</td>\n",
       "      <td>not_available</td>\n",
       "      <td>not_available</td>\n",
       "      <td>0</td>\n",
       "      <td>39</td>\n",
       "      <td>...</td>\n",
       "      <td>not_available</td>\n",
       "      <td>not_available</td>\n",
       "      <td>available</td>\n",
       "      <td>879</td>\n",
       "      <td>available</td>\n",
       "      <td>355</td>\n",
       "      <td>available</td>\n",
       "      <td>1363</td>\n",
       "      <td>not_available</td>\n",
       "      <td>0</td>\n",
       "    </tr>\n",
       "    <tr>\n",
       "      <th>3</th>\n",
       "      <td>0</td>\n",
       "      <td>1</td>\n",
       "      <td>0</td>\n",
       "      <td>full-time</td>\n",
       "      <td>mid-senior_level</td>\n",
       "      <td>bachelor's_degree</td>\n",
       "      <td>computer_software</td>\n",
       "      <td>sales</td>\n",
       "      <td>0</td>\n",
       "      <td>33</td>\n",
       "      <td>...</td>\n",
       "      <td>available</td>\n",
       "      <td>not_available</td>\n",
       "      <td>available</td>\n",
       "      <td>614</td>\n",
       "      <td>available</td>\n",
       "      <td>2600</td>\n",
       "      <td>available</td>\n",
       "      <td>1429</td>\n",
       "      <td>available</td>\n",
       "      <td>782</td>\n",
       "    </tr>\n",
       "    <tr>\n",
       "      <th>4</th>\n",
       "      <td>0</td>\n",
       "      <td>1</td>\n",
       "      <td>1</td>\n",
       "      <td>full-time</td>\n",
       "      <td>mid-senior_level</td>\n",
       "      <td>bachelor's_degree</td>\n",
       "      <td>hospital_&amp;_health_care</td>\n",
       "      <td>health_care_provider</td>\n",
       "      <td>0</td>\n",
       "      <td>19</td>\n",
       "      <td>...</td>\n",
       "      <td>not_available</td>\n",
       "      <td>not_available</td>\n",
       "      <td>available</td>\n",
       "      <td>1628</td>\n",
       "      <td>available</td>\n",
       "      <td>1520</td>\n",
       "      <td>available</td>\n",
       "      <td>757</td>\n",
       "      <td>available</td>\n",
       "      <td>21</td>\n",
       "    </tr>\n",
       "  </tbody>\n",
       "</table>\n",
       "<p>5 rows × 21 columns</p>\n",
       "</div>"
      ],
      "text/plain": [
       "   telecommuting  has_company_logo  has_questions employment_type  \\\n",
       "0              0                 1              0           other   \n",
       "1              0                 1              0       full-time   \n",
       "2              0                 1              0   not_available   \n",
       "3              0                 1              0       full-time   \n",
       "4              0                 1              1       full-time   \n",
       "\n",
       "  required_experience required_education                   industry  \\\n",
       "0          internship      not_available              not_available   \n",
       "1      not_applicable      not_available  marketing_and_advertising   \n",
       "2       not_available      not_available              not_available   \n",
       "3    mid-senior_level  bachelor's_degree          computer_software   \n",
       "4    mid-senior_level  bachelor's_degree     hospital_&_health_care   \n",
       "\n",
       "               function  fraudulent  title_lenght  ... department_available  \\\n",
       "0             marketing           0            16  ...            available   \n",
       "1      customer_service           0            41  ...            available   \n",
       "2         not_available           0            39  ...        not_available   \n",
       "3                 sales           0            33  ...            available   \n",
       "4  health_care_provider           0            19  ...        not_available   \n",
       "\n",
       "  salary_range_available company_profile_available company_profile_lenght  \\\n",
       "0          not_available                 available                    885   \n",
       "1          not_available                 available                   1286   \n",
       "2          not_available                 available                    879   \n",
       "3          not_available                 available                    614   \n",
       "4          not_available                 available                   1628   \n",
       "\n",
       "   description_available description_lenght  requirements_available  \\\n",
       "0              available                905               available   \n",
       "1              available               2077               available   \n",
       "2              available                355               available   \n",
       "3              available               2600               available   \n",
       "4              available               1520               available   \n",
       "\n",
       "  requirements_lenght  benefits_available benefits_lenght  \n",
       "0                 852       not_available               0  \n",
       "1                1433           available            1292  \n",
       "2                1363       not_available               0  \n",
       "3                1429           available             782  \n",
       "4                 757           available              21  \n",
       "\n",
       "[5 rows x 21 columns]"
      ]
     },
     "execution_count": 274,
     "metadata": {},
     "output_type": "execute_result"
    }
   ],
   "source": [
    "df.head()"
   ]
  },
  {
   "cell_type": "code",
   "execution_count": 275,
   "id": "1243a245",
   "metadata": {},
   "outputs": [
    {
     "data": {
      "text/plain": [
       "telecommuting                0\n",
       "has_company_logo             0\n",
       "has_questions                0\n",
       "employment_type              0\n",
       "required_experience          0\n",
       "required_education           0\n",
       "industry                     0\n",
       "function                     0\n",
       "fraudulent                   0\n",
       "title_lenght                 0\n",
       "location_available           0\n",
       "department_available         0\n",
       "salary_range_available       0\n",
       "company_profile_available    0\n",
       "company_profile_lenght       0\n",
       "description_available        0\n",
       "description_lenght           0\n",
       "requirements_available       0\n",
       "requirements_lenght          0\n",
       "benefits_available           0\n",
       "benefits_lenght              0\n",
       "dtype: int64"
      ]
     },
     "execution_count": 275,
     "metadata": {},
     "output_type": "execute_result"
    }
   ],
   "source": [
    "df.isnull().sum()"
   ]
  },
  {
   "cell_type": "code",
   "execution_count": 276,
   "id": "04c3b53c",
   "metadata": {},
   "outputs": [
    {
     "data": {
      "text/plain": [
       "telecommuting                   2\n",
       "has_company_logo                2\n",
       "has_questions                   2\n",
       "employment_type                 6\n",
       "required_experience             8\n",
       "required_education             14\n",
       "industry                      132\n",
       "function                       38\n",
       "fraudulent                      2\n",
       "title_lenght                  100\n",
       "location_available              2\n",
       "department_available            2\n",
       "salary_range_available          2\n",
       "company_profile_available       2\n",
       "company_profile_lenght       1014\n",
       "description_available           2\n",
       "description_lenght           3310\n",
       "requirements_available          2\n",
       "requirements_lenght          2193\n",
       "benefits_available              2\n",
       "benefits_lenght              1227\n",
       "dtype: int64"
      ]
     },
     "execution_count": 276,
     "metadata": {},
     "output_type": "execute_result"
    }
   ],
   "source": [
    "df.nunique()"
   ]
  },
  {
   "cell_type": "code",
   "execution_count": null,
   "id": "376dbb71",
   "metadata": {},
   "outputs": [],
   "source": []
  },
  {
   "cell_type": "code",
   "execution_count": 278,
   "id": "d25dec04",
   "metadata": {},
   "outputs": [
    {
     "data": {
      "text/plain": [
       "telecommuting                 int64\n",
       "has_company_logo              int64\n",
       "has_questions                 int64\n",
       "employment_type              object\n",
       "required_experience          object\n",
       "required_education           object\n",
       "industry                     object\n",
       "function                     object\n",
       "fraudulent                    int64\n",
       "title_lenght                  int64\n",
       "location_available           object\n",
       "department_available         object\n",
       "salary_range_available       object\n",
       "company_profile_available    object\n",
       "company_profile_lenght        int64\n",
       "description_available        object\n",
       "description_lenght            int64\n",
       "requirements_available       object\n",
       "requirements_lenght           int64\n",
       "benefits_available           object\n",
       "benefits_lenght               int64\n",
       "dtype: object"
      ]
     },
     "execution_count": 278,
     "metadata": {},
     "output_type": "execute_result"
    }
   ],
   "source": [
    "df.dtypes"
   ]
  },
  {
   "cell_type": "code",
   "execution_count": 280,
   "id": "648c8b43",
   "metadata": {},
   "outputs": [],
   "source": [
    "#numerical = ['telecommuting', 'has_company_logo', 'has_questions']\n",
    "#categorical = ['title', 'location', 'department', 'salary_range', 'company_profile',\n",
    "               #'description', 'requirements', 'benefits', 'employment_type', 'required_experience',\n",
    "               #'required_education', 'industry', 'function']             \n",
    "#target = ['fraudulent']\n",
    "\n",
    "numerical = ['telecommuting', 'has_company_logo', 'has_questions', 'company_profile_lenght', 'description_lenght',\n",
    "            'requirements_lenght', 'benefits_lenght', 'title_lenght']\n",
    "categorical = ['location_available', 'department_available', 'salary_range_available', 'company_profile_available',\n",
    "               'description_available', 'requirements_available', 'benefits_available', 'employment_type',\n",
    "               'required_experience', 'required_education', 'industry', 'function']         \n",
    "target = ['fraudulent']"
   ]
  },
  {
   "cell_type": "code",
   "execution_count": 281,
   "id": "b7ff30a9",
   "metadata": {},
   "outputs": [
    {
     "data": {
      "text/plain": [
       "0    17014\n",
       "1      866\n",
       "Name: fraudulent, dtype: int64"
      ]
     },
     "execution_count": 281,
     "metadata": {},
     "output_type": "execute_result"
    }
   ],
   "source": [
    "df.fraudulent.value_counts()"
   ]
  },
  {
   "cell_type": "code",
   "execution_count": 282,
   "id": "1b7fd06e",
   "metadata": {},
   "outputs": [
    {
     "data": {
      "text/plain": [
       "<AxesSubplot:xlabel='fraudulent', ylabel='Count'>"
      ]
     },
     "execution_count": 282,
     "metadata": {},
     "output_type": "execute_result"
    },
    {
     "data": {
      "image/png": "[encoded data removed]",
      "text/plain": [
       "<Figure size 432x288 with 1 Axes>"
      ]
     },
     "metadata": {
      "needs_background": "light"
     },
     "output_type": "display_data"
    }
   ],
   "source": [
    "sns.histplot(df.fraudulent, bins=2)"
   ]
  },
  {
   "cell_type": "markdown",
   "id": "5fcaa0b4",
   "metadata": {},
   "source": [
    "<h3>Features Importance Correlation - Numerical Features</h3>"
   ]
  },
  {
   "cell_type": "code",
   "execution_count": 283,
   "id": "b87acc00",
   "metadata": {},
   "outputs": [
    {
     "data": {
      "text/plain": [
       "Text(0.5, 1.0, 'Variable Correlation')"
      ]
     },
     "execution_count": 283,
     "metadata": {},
     "output_type": "execute_result"
    },
    {
     "data": {
      "image/png": "[encoded data removed]",
      "text/plain": [
       "<Figure size 432x288 with 2 Axes>"
      ]
     },
     "metadata": {
      "needs_background": "light"
     },
     "output_type": "display_data"
    }
   ],
   "source": [
    "ax = sns.heatmap(df.corr(),annot=True, linewidths=.5, cmap=plt.cm.Blues)\n",
    "plt.title('Variable Correlation')"
   ]
  },
  {
   "cell_type": "code",
   "execution_count": 284,
   "id": "10b2066f",
   "metadata": {},
   "outputs": [
    {
     "data": {
      "text/plain": [
       "telecommuting             0.034523\n",
       "has_company_logo         -0.261971\n",
       "has_questions            -0.091627\n",
       "company_profile_lenght   -0.155065\n",
       "description_lenght       -0.015927\n",
       "requirements_lenght      -0.053013\n",
       "benefits_lenght           0.002209\n",
       "title_lenght              0.034741\n",
       "dtype: float64"
      ]
     },
     "execution_count": 284,
     "metadata": {},
     "output_type": "execute_result"
    }
   ],
   "source": [
    "df[numerical].corrwith(df['fraudulent'])"
   ]
  },
  {
   "cell_type": "markdown",
   "id": "5b4ae2de",
   "metadata": {},
   "source": [
    "<h3>Mutual Information - Categorical Features</h3>"
   ]
  },
  {
   "cell_type": "code",
   "execution_count": 285,
   "id": "c7de1d1a",
   "metadata": {},
   "outputs": [
    {
     "data": {
      "text/plain": [
       "industry                     0.031548\n",
       "company_profile_available    0.030207\n",
       "function                     0.013993\n",
       "required_education           0.008147\n",
       "required_experience          0.003952\n",
       "employment_type              0.002678\n",
       "salary_range_available       0.001571\n",
       "description_available        0.000169\n",
       "requirements_available       0.000140\n",
       "department_available         0.000117\n",
       "benefits_available           0.000031\n",
       "location_available           0.000009\n",
       "dtype: float64"
      ]
     },
     "execution_count": 285,
     "metadata": {},
     "output_type": "execute_result"
    }
   ],
   "source": [
    "from sklearn.metrics import mutual_info_score\n",
    "\n",
    "def mutual_info_fraudulent_score(series):\n",
    "    return mutual_info_score(df['fraudulent'], series)\n",
    "\n",
    "mi = df[categorical].apply(mutual_info_fraudulent_score)\n",
    "mi.sort_values(ascending=False)"
   ]
  },
  {
   "cell_type": "markdown",
   "id": "7b9dfedf",
   "metadata": {},
   "source": [
    "<h2>Dataset Preparation</h2>"
   ]
  },
  {
   "cell_type": "code",
   "execution_count": 286,
   "id": "f5f3c71f",
   "metadata": {},
   "outputs": [],
   "source": [
    "from sklearn.model_selection import train_test_split\n",
    "from sklearn.feature_extraction import DictVectorizer"
   ]
  },
  {
   "cell_type": "code",
   "execution_count": 287,
   "id": "4d048885",
   "metadata": {},
   "outputs": [],
   "source": [
    "numerical = ['telecommuting', 'has_company_logo', 'has_questions', 'company_profile_lenght', 'description_lenght',\n",
    "            'requirements_lenght', 'benefits_lenght', 'title_lenght']\n",
    "categorical = ['location_available', 'department_available', 'salary_range_available', 'company_profile_available',\n",
    "               'description_available', 'requirements_available', 'benefits_available', 'employment_type',\n",
    "               'required_experience', 'required_education', 'industry', 'function']         \n",
    "target = ['fraudulent']"
   ]
  },
  {
   "cell_type": "code",
   "execution_count": 288,
   "id": "d2808285",
   "metadata": {},
   "outputs": [],
   "source": [
    "df_full_train, df_test = train_test_split(df, test_size=0.2, random_state=42)\n",
    "df_train, df_val = train_test_split(df_full_train, test_size=0.25, random_state=42)"
   ]
  },
  {
   "cell_type": "code",
   "execution_count": 289,
   "id": "358ae2fe",
   "metadata": {},
   "outputs": [
    {
     "data": {
      "text/plain": [
       "(10728, 21)"
      ]
     },
     "execution_count": 289,
     "metadata": {},
     "output_type": "execute_result"
    }
   ],
   "source": [
    "df_train.shape"
   ]
  },
  {
   "cell_type": "code",
   "execution_count": 290,
   "id": "8d2d5cab",
   "metadata": {},
   "outputs": [
    {
     "data": {
      "text/plain": [
       "(3576, 21)"
      ]
     },
     "execution_count": 290,
     "metadata": {},
     "output_type": "execute_result"
    }
   ],
   "source": [
    "df_val.shape"
   ]
  },
  {
   "cell_type": "code",
   "execution_count": 291,
   "id": "1179ea25",
   "metadata": {},
   "outputs": [
    {
     "data": {
      "text/plain": [
       "(3576, 21)"
      ]
     },
     "execution_count": 291,
     "metadata": {},
     "output_type": "execute_result"
    }
   ],
   "source": [
    "df_test.shape"
   ]
  },
  {
   "cell_type": "code",
   "execution_count": 292,
   "id": "aeb4290d",
   "metadata": {},
   "outputs": [
    {
     "data": {
      "text/plain": [
       "(14304, 21)"
      ]
     },
     "execution_count": 292,
     "metadata": {},
     "output_type": "execute_result"
    }
   ],
   "source": [
    "df_full_train.shape"
   ]
  },
  {
   "cell_type": "code",
   "execution_count": null,
   "id": "5f4ef119",
   "metadata": {},
   "outputs": [],
   "source": []
  },
  {
   "cell_type": "code",
   "execution_count": 293,
   "id": "a54b3b2e",
   "metadata": {},
   "outputs": [],
   "source": [
    "df_train = df_train.reset_index(drop=True)\n",
    "df_full_train = df_full_train.reset_index(drop=True)\n",
    "df_val = df_val.reset_index(drop=True)\n",
    "df_test = df_test.reset_index(drop=True)\n",
    "\n",
    "y_train = df_train.fraudulent.values\n",
    "y_full_train = df_full_train.fraudulent.values\n",
    "y_val = df_val.fraudulent.values\n",
    "y_test = df_test.fraudulent.values\n",
    "\n",
    "del df_train['fraudulent']\n",
    "del df_val['fraudulent']\n",
    "#del df_full_train['fraudulent']\n",
    "del df_test['fraudulent']"
   ]
  },
  {
   "cell_type": "markdown",
   "id": "d27052e4",
   "metadata": {},
   "source": [
    "<h3>One-Hot Encoding</h3>"
   ]
  },
  {
   "cell_type": "code",
   "execution_count": 294,
   "id": "dcc7585d",
   "metadata": {},
   "outputs": [],
   "source": [
    "train_dicts = df_train[categorical + numerical].to_dict(orient='records')\n",
    "full_train_dicts = df_full_train[categorical + numerical].to_dict(orient='records')\n",
    "val_dicts = df_val[categorical + numerical].to_dict(orient='records')\n",
    "test_dicts = df_test[categorical + numerical].to_dict(orient='records')\n",
    "\n",
    "dv = DictVectorizer(sparse=False)\n",
    "\n",
    "X_train = dv.fit_transform(train_dicts)\n",
    "X_full_train = dv.transform(full_train_dicts)\n",
    "X_val = dv.transform(val_dicts)\n",
    "X_test = dv.transform(test_dicts)"
   ]
  },
  {
   "cell_type": "code",
   "execution_count": 295,
   "id": "c9830456",
   "metadata": {},
   "outputs": [
    {
     "data": {
      "text/plain": [
       "array([[  0.,   1.,   0., ...,   1.,   0.,  17.],\n",
       "       [  0.,   1.,   0., ...,   1.,   0.,  17.],\n",
       "       [  1.,   0.,  19., ...,   1.,   0.,  41.],\n",
       "       ...,\n",
       "       [  1.,   0., 525., ...,   1.,   0.,  31.],\n",
       "       [  1.,   0., 130., ...,   1.,   1.,  23.],\n",
       "       [  0.,   1.,   0., ...,   1.,   0.,  13.]])"
      ]
     },
     "execution_count": 295,
     "metadata": {},
     "output_type": "execute_result"
    }
   ],
   "source": [
    "X_train"
   ]
  },
  {
   "cell_type": "code",
   "execution_count": null,
   "id": "f132a653",
   "metadata": {},
   "outputs": [],
   "source": []
  },
  {
   "cell_type": "markdown",
   "id": "2615fe68",
   "metadata": {},
   "source": [
    "<h2>First test with LogisticRegression Model</h2>"
   ]
  },
  {
   "cell_type": "code",
   "execution_count": 296,
   "id": "85a4c7b0",
   "metadata": {},
   "outputs": [],
   "source": [
    "from sklearn.linear_model import LogisticRegression"
   ]
  },
  {
   "cell_type": "code",
   "execution_count": 297,
   "id": "5a4d2f9d",
   "metadata": {},
   "outputs": [
    {
     "name": "stderr",
     "output_type": "stream",
     "text": [
      "/home/germano/anaconda3/envs/ml-zoomcamp_3.7/lib/python3.7/site-packages/sklearn/linear_model/_logistic.py:818: ConvergenceWarning: lbfgs failed to converge (status=1):\n",
      "STOP: TOTAL NO. of ITERATIONS REACHED LIMIT.\n",
      "\n",
      "Increase the number of iterations (max_iter) or scale the data as shown in:\n",
      "    https://scikit-learn.org/stable/modules/preprocessing.html\n",
      "Please also refer to the documentation for alternative solver options:\n",
      "    https://scikit-learn.org/stable/modules/linear_model.html#logistic-regression\n",
      "  extra_warning_msg=_LOGISTIC_SOLVER_CONVERGENCE_MSG,\n"
     ]
    },
    {
     "data": {
      "text/plain": [
       "LogisticRegression()"
      ]
     },
     "execution_count": 297,
     "metadata": {},
     "output_type": "execute_result"
    }
   ],
   "source": [
    "model = LogisticRegression()\n",
    "model.fit(X_train, y_train)"
   ]
  },
  {
   "cell_type": "code",
   "execution_count": 298,
   "id": "2ca01907",
   "metadata": {},
   "outputs": [
    {
     "data": {
      "text/plain": [
       "0.9546979865771812"
      ]
     },
     "execution_count": 298,
     "metadata": {},
     "output_type": "execute_result"
    }
   ],
   "source": [
    "y_pred = model.predict_proba(X_val)[:, 1]\n",
    "isFraudulent = (y_pred >= 0.5)\n",
    "accuracy = (y_val == isFraudulent).mean()\n",
    "accuracy"
   ]
  },
  {
   "cell_type": "markdown",
   "id": "83def604",
   "metadata": {},
   "source": [
    "<h3>Check Accuracy Threshold</h3>"
   ]
  },
  {
   "cell_type": "code",
   "execution_count": 299,
   "id": "fd356212",
   "metadata": {},
   "outputs": [],
   "source": [
    "from sklearn.metrics import accuracy_score"
   ]
  },
  {
   "cell_type": "code",
   "execution_count": 300,
   "id": "fd33a2a9",
   "metadata": {},
   "outputs": [],
   "source": [
    "thresholds = np.linspace(0, 1 , 21)"
   ]
  },
  {
   "cell_type": "code",
   "execution_count": 301,
   "id": "9dc369a4",
   "metadata": {},
   "outputs": [
    {
     "name": "stdout",
     "output_type": "stream",
     "text": [
      "0.00 0.052\n",
      "0.05 0.824\n",
      "0.10 0.881\n",
      "0.15 0.912\n",
      "0.20 0.930\n",
      "0.25 0.937\n",
      "0.30 0.947\n",
      "0.35 0.949\n",
      "0.40 0.952\n",
      "0.45 0.953\n",
      "0.50 0.955\n",
      "0.55 0.955\n",
      "0.60 0.953\n",
      "0.65 0.952\n",
      "0.70 0.951\n",
      "0.75 0.951\n",
      "0.80 0.949\n",
      "0.85 0.948\n",
      "0.90 0.948\n",
      "0.95 0.948\n",
      "1.00 0.948\n"
     ]
    }
   ],
   "source": [
    "scores = []\n",
    "\n",
    "for t in thresholds:\n",
    "    score = accuracy_score(y_val, y_pred >= t)\n",
    "    print('%.2f %.3f' % (t, score))\n",
    "    scores.append(score)"
   ]
  },
  {
   "cell_type": "code",
   "execution_count": 302,
   "id": "ba91d158",
   "metadata": {},
   "outputs": [
    {
     "data": {
      "text/plain": [
       "[<matplotlib.lines.Line2D at 0x7f79cfb29110>]"
      ]
     },
     "execution_count": 302,
     "metadata": {},
     "output_type": "execute_result"
    },
    {
     "data": {
      "image/png": "[encoded data removed]",
      "text/plain": [
       "<Figure size 432x288 with 1 Axes>"
      ]
     },
     "metadata": {
      "needs_background": "light"
     },
     "output_type": "display_data"
    }
   ],
   "source": [
    "plt.plot(thresholds, scores)"
   ]
  },
  {
   "cell_type": "markdown",
   "id": "a9347887",
   "metadata": {},
   "source": [
    "<h3>Confusion Table</h3>"
   ]
  },
  {
   "cell_type": "code",
   "execution_count": 303,
   "id": "29a75dc3",
   "metadata": {},
   "outputs": [],
   "source": [
    "actual_positive = (y_val == 1)\n",
    "actual_negative = (y_val == 0)"
   ]
  },
  {
   "cell_type": "code",
   "execution_count": 304,
   "id": "ed450991",
   "metadata": {},
   "outputs": [],
   "source": [
    "t = 0.5\n",
    "predict_positive = (y_pred >= t)\n",
    "predict_negative = (y_pred < t)"
   ]
  },
  {
   "cell_type": "code",
   "execution_count": 305,
   "id": "07439133",
   "metadata": {},
   "outputs": [],
   "source": [
    "tp = (predict_positive & actual_positive).sum()\n",
    "tn = (predict_negative & actual_negative).sum()\n",
    "\n",
    "fp = (predict_positive & actual_negative).sum()\n",
    "fn = (predict_negative & actual_positive).sum()"
   ]
  },
  {
   "cell_type": "code",
   "execution_count": 306,
   "id": "f4597035",
   "metadata": {},
   "outputs": [
    {
     "data": {
      "text/plain": [
       "array([[0.95, 0.  ],\n",
       "       [0.04, 0.01]])"
      ]
     },
     "execution_count": 306,
     "metadata": {},
     "output_type": "execute_result"
    }
   ],
   "source": [
    "confusion_matrix = np.array([\n",
    "    [tn, fp], \n",
    "    [fn, tp]\n",
    "])\n",
    "\n",
    "(confusion_matrix / confusion_matrix.sum()).round(2)"
   ]
  },
  {
   "cell_type": "code",
   "execution_count": 307,
   "id": "1332fd5c",
   "metadata": {},
   "outputs": [
    {
     "data": {
      "text/plain": [
       "0.9546979865771812"
      ]
     },
     "execution_count": 307,
     "metadata": {},
     "output_type": "execute_result"
    }
   ],
   "source": [
    "(tp + tn) / (tp + tn + fp + fn)"
   ]
  },
  {
   "cell_type": "markdown",
   "id": "816b6621",
   "metadata": {},
   "source": [
    "<h3>Precision and Recall</h3>"
   ]
  },
  {
   "cell_type": "code",
   "execution_count": 308,
   "id": "28c6e5e3",
   "metadata": {},
   "outputs": [
    {
     "data": {
      "text/plain": [
       "0.7804878048780488"
      ]
     },
     "execution_count": 308,
     "metadata": {},
     "output_type": "execute_result"
    }
   ],
   "source": [
    "p = tp / (tp + fp)\n",
    "p"
   ]
  },
  {
   "cell_type": "code",
   "execution_count": null,
   "id": "a7ca8062",
   "metadata": {},
   "outputs": [],
   "source": []
  },
  {
   "cell_type": "code",
   "execution_count": 309,
   "id": "edd78853",
   "metadata": {},
   "outputs": [
    {
     "data": {
      "text/plain": [
       "0.17297297297297298"
      ]
     },
     "execution_count": 309,
     "metadata": {},
     "output_type": "execute_result"
    }
   ],
   "source": [
    "r = tp / (tp + fn)\n",
    "r"
   ]
  },
  {
   "cell_type": "code",
   "execution_count": null,
   "id": "1ce5c35a",
   "metadata": {},
   "outputs": [],
   "source": []
  },
  {
   "cell_type": "markdown",
   "id": "baba7b82",
   "metadata": {},
   "source": [
    "<h3>Ideal Prediction VS ROC AUC</h3>"
   ]
  },
  {
   "cell_type": "code",
   "execution_count": 310,
   "id": "689ac14e",
   "metadata": {},
   "outputs": [],
   "source": [
    "t = 0.5"
   ]
  },
  {
   "cell_type": "code",
   "execution_count": 311,
   "id": "e68a7c56",
   "metadata": {},
   "outputs": [],
   "source": [
    "def tpr_fpr_dataframe(y_val, y_pred):\n",
    "    scores = []\n",
    "\n",
    "    for t in thresholds:\n",
    "        actual_positive = (y_val == 1)\n",
    "        actual_negative = (y_val == 0)\n",
    "\n",
    "        predict_positive = (y_pred >= t)\n",
    "        predict_negative = (y_pred < t)\n",
    "\n",
    "        tp = (predict_positive & actual_positive).sum()\n",
    "        tn = (predict_negative & actual_negative).sum()\n",
    "\n",
    "        fp = (predict_positive & actual_negative).sum()\n",
    "        fn = (predict_negative & actual_positive).sum()\n",
    "\n",
    "        scores.append((t, tp, fp, fn, tn))\n",
    "    \n",
    "    columns = ['threshold', 'tp', 'fp', 'fn', 'tn']\n",
    "    df_scores = pd.DataFrame(scores, columns=columns)\n",
    "\n",
    "    df_scores['tpr'] = df_scores.tp / (df_scores.tp + df_scores.fn)\n",
    "    df_scores['fpr'] = df_scores.fp / (df_scores.fp + df_scores.tn)\n",
    "    return df_scores"
   ]
  },
  {
   "cell_type": "code",
   "execution_count": null,
   "id": "051ecf73",
   "metadata": {},
   "outputs": [],
   "source": []
  },
  {
   "cell_type": "code",
   "execution_count": 312,
   "id": "2a5505d0",
   "metadata": {},
   "outputs": [
    {
     "data": {
      "text/plain": [
       "(3391, 185)"
      ]
     },
     "execution_count": 312,
     "metadata": {},
     "output_type": "execute_result"
    }
   ],
   "source": [
    "num_neg = (y_val == 0).sum()\n",
    "num_pos = (y_val == 1).sum()\n",
    "num_neg, num_pos"
   ]
  },
  {
   "cell_type": "code",
   "execution_count": 313,
   "id": "c4672cac",
   "metadata": {},
   "outputs": [
    {
     "data": {
      "text/plain": [
       "array([0, 0, 0, ..., 1, 1, 1])"
      ]
     },
     "execution_count": 313,
     "metadata": {},
     "output_type": "execute_result"
    }
   ],
   "source": [
    "y_ideal = np.repeat([0, 1], [num_neg, num_pos])\n",
    "y_ideal"
   ]
  },
  {
   "cell_type": "code",
   "execution_count": 314,
   "id": "7593dc21",
   "metadata": {},
   "outputs": [
    {
     "data": {
      "text/plain": [
       "array([0.00000000e+00, 2.79720280e-04, 5.59440559e-04, ...,\n",
       "       9.99440559e-01, 9.99720280e-01, 1.00000000e+00])"
      ]
     },
     "execution_count": 314,
     "metadata": {},
     "output_type": "execute_result"
    }
   ],
   "source": [
    "y_ideal_pred = np.linspace(0, 1, len(y_val))\n",
    "y_ideal_pred"
   ]
  },
  {
   "cell_type": "code",
   "execution_count": 315,
   "id": "ecae9c0a",
   "metadata": {},
   "outputs": [
    {
     "data": {
      "text/html": [
       "<div>\n",
       "<style scoped>\n",
       "    .dataframe tbody tr th:only-of-type {\n",
       "        vertical-align: middle;\n",
       "    }\n",
       "\n",
       "    .dataframe tbody tr th {\n",
       "        vertical-align: top;\n",
       "    }\n",
       "\n",
       "    .dataframe thead th {\n",
       "        text-align: right;\n",
       "    }\n",
       "</style>\n",
       "<table border=\"1\" class=\"dataframe\">\n",
       "  <thead>\n",
       "    <tr style=\"text-align: right;\">\n",
       "      <th></th>\n",
       "      <th>threshold</th>\n",
       "      <th>tp</th>\n",
       "      <th>fp</th>\n",
       "      <th>fn</th>\n",
       "      <th>tn</th>\n",
       "      <th>tpr</th>\n",
       "      <th>fpr</th>\n",
       "    </tr>\n",
       "  </thead>\n",
       "  <tbody>\n",
       "    <tr>\n",
       "      <th>0</th>\n",
       "      <td>0.00</td>\n",
       "      <td>185</td>\n",
       "      <td>3391</td>\n",
       "      <td>0</td>\n",
       "      <td>0</td>\n",
       "      <td>1.000000</td>\n",
       "      <td>1.000000</td>\n",
       "    </tr>\n",
       "    <tr>\n",
       "      <th>1</th>\n",
       "      <td>0.05</td>\n",
       "      <td>185</td>\n",
       "      <td>3212</td>\n",
       "      <td>0</td>\n",
       "      <td>179</td>\n",
       "      <td>1.000000</td>\n",
       "      <td>0.947213</td>\n",
       "    </tr>\n",
       "    <tr>\n",
       "      <th>2</th>\n",
       "      <td>0.10</td>\n",
       "      <td>185</td>\n",
       "      <td>3033</td>\n",
       "      <td>0</td>\n",
       "      <td>358</td>\n",
       "      <td>1.000000</td>\n",
       "      <td>0.894426</td>\n",
       "    </tr>\n",
       "    <tr>\n",
       "      <th>3</th>\n",
       "      <td>0.15</td>\n",
       "      <td>185</td>\n",
       "      <td>2854</td>\n",
       "      <td>0</td>\n",
       "      <td>537</td>\n",
       "      <td>1.000000</td>\n",
       "      <td>0.841640</td>\n",
       "    </tr>\n",
       "    <tr>\n",
       "      <th>4</th>\n",
       "      <td>0.20</td>\n",
       "      <td>185</td>\n",
       "      <td>2676</td>\n",
       "      <td>0</td>\n",
       "      <td>715</td>\n",
       "      <td>1.000000</td>\n",
       "      <td>0.789148</td>\n",
       "    </tr>\n",
       "    <tr>\n",
       "      <th>5</th>\n",
       "      <td>0.25</td>\n",
       "      <td>185</td>\n",
       "      <td>2497</td>\n",
       "      <td>0</td>\n",
       "      <td>894</td>\n",
       "      <td>1.000000</td>\n",
       "      <td>0.736361</td>\n",
       "    </tr>\n",
       "    <tr>\n",
       "      <th>6</th>\n",
       "      <td>0.30</td>\n",
       "      <td>185</td>\n",
       "      <td>2318</td>\n",
       "      <td>0</td>\n",
       "      <td>1073</td>\n",
       "      <td>1.000000</td>\n",
       "      <td>0.683574</td>\n",
       "    </tr>\n",
       "    <tr>\n",
       "      <th>7</th>\n",
       "      <td>0.35</td>\n",
       "      <td>185</td>\n",
       "      <td>2139</td>\n",
       "      <td>0</td>\n",
       "      <td>1252</td>\n",
       "      <td>1.000000</td>\n",
       "      <td>0.630787</td>\n",
       "    </tr>\n",
       "    <tr>\n",
       "      <th>8</th>\n",
       "      <td>0.40</td>\n",
       "      <td>185</td>\n",
       "      <td>1961</td>\n",
       "      <td>0</td>\n",
       "      <td>1430</td>\n",
       "      <td>1.000000</td>\n",
       "      <td>0.578295</td>\n",
       "    </tr>\n",
       "    <tr>\n",
       "      <th>9</th>\n",
       "      <td>0.45</td>\n",
       "      <td>185</td>\n",
       "      <td>1782</td>\n",
       "      <td>0</td>\n",
       "      <td>1609</td>\n",
       "      <td>1.000000</td>\n",
       "      <td>0.525509</td>\n",
       "    </tr>\n",
       "    <tr>\n",
       "      <th>10</th>\n",
       "      <td>0.50</td>\n",
       "      <td>185</td>\n",
       "      <td>1603</td>\n",
       "      <td>0</td>\n",
       "      <td>1788</td>\n",
       "      <td>1.000000</td>\n",
       "      <td>0.472722</td>\n",
       "    </tr>\n",
       "    <tr>\n",
       "      <th>11</th>\n",
       "      <td>0.55</td>\n",
       "      <td>185</td>\n",
       "      <td>1424</td>\n",
       "      <td>0</td>\n",
       "      <td>1967</td>\n",
       "      <td>1.000000</td>\n",
       "      <td>0.419935</td>\n",
       "    </tr>\n",
       "    <tr>\n",
       "      <th>12</th>\n",
       "      <td>0.60</td>\n",
       "      <td>185</td>\n",
       "      <td>1245</td>\n",
       "      <td>0</td>\n",
       "      <td>2146</td>\n",
       "      <td>1.000000</td>\n",
       "      <td>0.367148</td>\n",
       "    </tr>\n",
       "    <tr>\n",
       "      <th>13</th>\n",
       "      <td>0.65</td>\n",
       "      <td>185</td>\n",
       "      <td>1067</td>\n",
       "      <td>0</td>\n",
       "      <td>2324</td>\n",
       "      <td>1.000000</td>\n",
       "      <td>0.314656</td>\n",
       "    </tr>\n",
       "    <tr>\n",
       "      <th>14</th>\n",
       "      <td>0.70</td>\n",
       "      <td>185</td>\n",
       "      <td>888</td>\n",
       "      <td>0</td>\n",
       "      <td>2503</td>\n",
       "      <td>1.000000</td>\n",
       "      <td>0.261870</td>\n",
       "    </tr>\n",
       "    <tr>\n",
       "      <th>15</th>\n",
       "      <td>0.75</td>\n",
       "      <td>185</td>\n",
       "      <td>709</td>\n",
       "      <td>0</td>\n",
       "      <td>2682</td>\n",
       "      <td>1.000000</td>\n",
       "      <td>0.209083</td>\n",
       "    </tr>\n",
       "    <tr>\n",
       "      <th>16</th>\n",
       "      <td>0.80</td>\n",
       "      <td>185</td>\n",
       "      <td>531</td>\n",
       "      <td>0</td>\n",
       "      <td>2860</td>\n",
       "      <td>1.000000</td>\n",
       "      <td>0.156591</td>\n",
       "    </tr>\n",
       "    <tr>\n",
       "      <th>17</th>\n",
       "      <td>0.85</td>\n",
       "      <td>185</td>\n",
       "      <td>352</td>\n",
       "      <td>0</td>\n",
       "      <td>3039</td>\n",
       "      <td>1.000000</td>\n",
       "      <td>0.103804</td>\n",
       "    </tr>\n",
       "    <tr>\n",
       "      <th>18</th>\n",
       "      <td>0.90</td>\n",
       "      <td>185</td>\n",
       "      <td>173</td>\n",
       "      <td>0</td>\n",
       "      <td>3218</td>\n",
       "      <td>1.000000</td>\n",
       "      <td>0.051017</td>\n",
       "    </tr>\n",
       "    <tr>\n",
       "      <th>19</th>\n",
       "      <td>0.95</td>\n",
       "      <td>179</td>\n",
       "      <td>0</td>\n",
       "      <td>6</td>\n",
       "      <td>3391</td>\n",
       "      <td>0.967568</td>\n",
       "      <td>0.000000</td>\n",
       "    </tr>\n",
       "    <tr>\n",
       "      <th>20</th>\n",
       "      <td>1.00</td>\n",
       "      <td>1</td>\n",
       "      <td>0</td>\n",
       "      <td>184</td>\n",
       "      <td>3391</td>\n",
       "      <td>0.005405</td>\n",
       "      <td>0.000000</td>\n",
       "    </tr>\n",
       "  </tbody>\n",
       "</table>\n",
       "</div>"
      ],
      "text/plain": [
       "    threshold   tp    fp   fn    tn       tpr       fpr\n",
       "0        0.00  185  3391    0     0  1.000000  1.000000\n",
       "1        0.05  185  3212    0   179  1.000000  0.947213\n",
       "2        0.10  185  3033    0   358  1.000000  0.894426\n",
       "3        0.15  185  2854    0   537  1.000000  0.841640\n",
       "4        0.20  185  2676    0   715  1.000000  0.789148\n",
       "5        0.25  185  2497    0   894  1.000000  0.736361\n",
       "6        0.30  185  2318    0  1073  1.000000  0.683574\n",
       "7        0.35  185  2139    0  1252  1.000000  0.630787\n",
       "8        0.40  185  1961    0  1430  1.000000  0.578295\n",
       "9        0.45  185  1782    0  1609  1.000000  0.525509\n",
       "10       0.50  185  1603    0  1788  1.000000  0.472722\n",
       "11       0.55  185  1424    0  1967  1.000000  0.419935\n",
       "12       0.60  185  1245    0  2146  1.000000  0.367148\n",
       "13       0.65  185  1067    0  2324  1.000000  0.314656\n",
       "14       0.70  185   888    0  2503  1.000000  0.261870\n",
       "15       0.75  185   709    0  2682  1.000000  0.209083\n",
       "16       0.80  185   531    0  2860  1.000000  0.156591\n",
       "17       0.85  185   352    0  3039  1.000000  0.103804\n",
       "18       0.90  185   173    0  3218  1.000000  0.051017\n",
       "19       0.95  179     0    6  3391  0.967568  0.000000\n",
       "20       1.00    1     0  184  3391  0.005405  0.000000"
      ]
     },
     "execution_count": 315,
     "metadata": {},
     "output_type": "execute_result"
    }
   ],
   "source": [
    "df_ideal = tpr_fpr_dataframe(y_ideal, y_ideal_pred)\n",
    "#df_ideal[::10]\n",
    "df_ideal"
   ]
  },
  {
   "cell_type": "code",
   "execution_count": 316,
   "id": "d4e2ca1e",
   "metadata": {},
   "outputs": [
    {
     "data": {
      "text/plain": [
       "<matplotlib.legend.Legend at 0x7f79d0aea610>"
      ]
     },
     "execution_count": 316,
     "metadata": {},
     "output_type": "execute_result"
    },
    {
     "data": {
      "image/png": "[encoded data removed]",
      "text/plain": [
       "<Figure size 432x288 with 1 Axes>"
      ]
     },
     "metadata": {
      "needs_background": "light"
     },
     "output_type": "display_data"
    }
   ],
   "source": [
    "plt.plot(df_ideal.threshold, df_ideal['tpr'], label='TPR')\n",
    "plt.plot(df_ideal.threshold, df_ideal['fpr'], label='FPR')\n",
    "plt.legend()"
   ]
  },
  {
   "cell_type": "code",
   "execution_count": null,
   "id": "e2f7b021",
   "metadata": {},
   "outputs": [],
   "source": []
  },
  {
   "cell_type": "code",
   "execution_count": 317,
   "id": "974f1cb4",
   "metadata": {},
   "outputs": [
    {
     "data": {
      "text/plain": [
       "0.9994407158836689"
      ]
     },
     "execution_count": 317,
     "metadata": {},
     "output_type": "execute_result"
    }
   ],
   "source": [
    "((y_ideal_pred > 0.949) == y_ideal).mean()"
   ]
  },
  {
   "cell_type": "code",
   "execution_count": null,
   "id": "2730c52f",
   "metadata": {},
   "outputs": [],
   "source": []
  },
  {
   "cell_type": "code",
   "execution_count": 318,
   "id": "730bf9e8",
   "metadata": {},
   "outputs": [],
   "source": [
    "from sklearn.metrics import roc_curve"
   ]
  },
  {
   "cell_type": "code",
   "execution_count": 319,
   "id": "6f8e7120",
   "metadata": {},
   "outputs": [],
   "source": [
    "fpr, tpr, thresholds = roc_curve(y_val, y_pred)"
   ]
  },
  {
   "cell_type": "code",
   "execution_count": 320,
   "id": "8a2c3000",
   "metadata": {},
   "outputs": [
    {
     "data": {
      "text/plain": [
       "<matplotlib.legend.Legend at 0x7f79cfcb5210>"
      ]
     },
     "execution_count": 320,
     "metadata": {},
     "output_type": "execute_result"
    },
    {
     "data": {
      "image/png": "[encoded data removed]",
      "text/plain": [
       "<Figure size 360x360 with 1 Axes>"
      ]
     },
     "metadata": {
      "needs_background": "light"
     },
     "output_type": "display_data"
    }
   ],
   "source": [
    "plt.figure(figsize=(5, 5))\n",
    "plt.plot(fpr, tpr, label='Model')\n",
    "plt.plot([0, 1], [0, 1], label='Random', linestyle='--')\n",
    "\n",
    "plt.xlabel('FPR')\n",
    "plt.ylabel('TPR')\n",
    "\n",
    "plt.legend()"
   ]
  },
  {
   "cell_type": "code",
   "execution_count": null,
   "id": "6b3bb625",
   "metadata": {},
   "outputs": [],
   "source": []
  },
  {
   "cell_type": "markdown",
   "id": "1fde72f5",
   "metadata": {},
   "source": [
    "<h3>ROC AUC of The LogisticRegression Model</h3>"
   ]
  },
  {
   "cell_type": "code",
   "execution_count": 321,
   "id": "f7263c66",
   "metadata": {},
   "outputs": [],
   "source": [
    "from sklearn.metrics import roc_auc_score"
   ]
  },
  {
   "cell_type": "code",
   "execution_count": 322,
   "id": "f1f0b194",
   "metadata": {},
   "outputs": [
    {
     "data": {
      "text/plain": [
       "0.8541544788669532"
      ]
     },
     "execution_count": 322,
     "metadata": {},
     "output_type": "execute_result"
    }
   ],
   "source": [
    "auc = roc_auc_score(y_val, y_pred)\n",
    "auc"
   ]
  },
  {
   "cell_type": "code",
   "execution_count": null,
   "id": "d7959aaf",
   "metadata": {},
   "outputs": [],
   "source": []
  },
  {
   "cell_type": "markdown",
   "id": "0ffe0174",
   "metadata": {},
   "source": [
    "<h3>Some Test with LogisticRegression Model</h3>"
   ]
  },
  {
   "cell_type": "code",
   "execution_count": 323,
   "id": "7c2dce36",
   "metadata": {},
   "outputs": [
    {
     "data": {
      "text/plain": [
       "{'location_available': 'available',\n",
       " 'department_available': 'available',\n",
       " 'salary_range_available': 'not_available',\n",
       " 'company_profile_available': 'available',\n",
       " 'description_available': 'available',\n",
       " 'requirements_available': 'available',\n",
       " 'benefits_available': 'available',\n",
       " 'employment_type': 'full-time',\n",
       " 'required_experience': 'mid-senior_level',\n",
       " 'required_education': \"bachelor's_degree\",\n",
       " 'industry': 'telecommunications',\n",
       " 'function': 'product_management',\n",
       " 'telecommuting': 0,\n",
       " 'has_company_logo': 1,\n",
       " 'has_questions': 0,\n",
       " 'company_profile_lenght': 2676,\n",
       " 'description_lenght': 5652,\n",
       " 'requirements_lenght': 2290,\n",
       " 'benefits_lenght': 225,\n",
       " 'title_lenght': 32}"
      ]
     },
     "execution_count": 323,
     "metadata": {},
     "output_type": "execute_result"
    }
   ],
   "source": [
    "job = val_dicts[51]\n",
    "job"
   ]
  },
  {
   "cell_type": "code",
   "execution_count": 324,
   "id": "7752b538",
   "metadata": {},
   "outputs": [
    {
     "data": {
      "text/plain": [
       "0.004"
      ]
     },
     "execution_count": 324,
     "metadata": {},
     "output_type": "execute_result"
    }
   ],
   "source": [
    "X_small = dv.transform([job])\n",
    "model.predict_proba(X_small)[0, 1].round(3)"
   ]
  },
  {
   "cell_type": "code",
   "execution_count": 325,
   "id": "92c7c2ed",
   "metadata": {},
   "outputs": [
    {
     "data": {
      "text/plain": [
       "0"
      ]
     },
     "execution_count": 325,
     "metadata": {},
     "output_type": "execute_result"
    }
   ],
   "source": [
    "y_val[51]"
   ]
  },
  {
   "cell_type": "code",
   "execution_count": 326,
   "id": "2db0f8ec",
   "metadata": {},
   "outputs": [
    {
     "data": {
      "text/plain": [
       "{'location_available': 'available',\n",
       " 'department_available': 'not_available',\n",
       " 'salary_range_available': 'available',\n",
       " 'company_profile_available': 'not_available',\n",
       " 'description_available': 'available',\n",
       " 'requirements_available': 'available',\n",
       " 'benefits_available': 'available',\n",
       " 'employment_type': 'full-time',\n",
       " 'required_experience': 'entry_level',\n",
       " 'required_education': 'high_school_or_equivalent',\n",
       " 'industry': 'telecommunications',\n",
       " 'function': 'customer_service',\n",
       " 'telecommuting': 0,\n",
       " 'has_company_logo': 0,\n",
       " 'has_questions': 0,\n",
       " 'company_profile_lenght': 0,\n",
       " 'description_lenght': 564,\n",
       " 'requirements_lenght': 202,\n",
       " 'benefits_lenght': 153,\n",
       " 'title_lenght': 26}"
      ]
     },
     "execution_count": 326,
     "metadata": {},
     "output_type": "execute_result"
    }
   ],
   "source": [
    "job1 = val_dicts[32]\n",
    "job1"
   ]
  },
  {
   "cell_type": "code",
   "execution_count": 327,
   "id": "f64c4c84",
   "metadata": {},
   "outputs": [
    {
     "data": {
      "text/plain": [
       "0.708"
      ]
     },
     "execution_count": 327,
     "metadata": {},
     "output_type": "execute_result"
    }
   ],
   "source": [
    "X_small = dv.transform([job1])\n",
    "model.predict_proba(X_small)[0, 1].round(3)"
   ]
  },
  {
   "cell_type": "code",
   "execution_count": 328,
   "id": "a9c82a6e",
   "metadata": {},
   "outputs": [
    {
     "data": {
      "text/plain": [
       "1"
      ]
     },
     "execution_count": 328,
     "metadata": {},
     "output_type": "execute_result"
    }
   ],
   "source": [
    "y_val[32]"
   ]
  },
  {
   "cell_type": "code",
   "execution_count": 329,
   "id": "98133925",
   "metadata": {},
   "outputs": [],
   "source": [
    "# np.where(y_val == 1)"
   ]
  },
  {
   "cell_type": "markdown",
   "id": "dd1ac4fd",
   "metadata": {},
   "source": [
    "<h3>Kfold Cross Validation Model</h3>"
   ]
  },
  {
   "cell_type": "code",
   "execution_count": 334,
   "id": "d8230c9f",
   "metadata": {},
   "outputs": [],
   "source": [
    "#!pip install tqdm"
   ]
  },
  {
   "cell_type": "code",
   "execution_count": 335,
   "id": "cdcc5529",
   "metadata": {},
   "outputs": [],
   "source": [
    "from sklearn.model_selection import KFold\n",
    "from tqdm.auto import tqdm"
   ]
  },
  {
   "cell_type": "code",
   "execution_count": null,
   "id": "c7c1d82a",
   "metadata": {},
   "outputs": [],
   "source": []
  },
  {
   "cell_type": "code",
   "execution_count": 336,
   "id": "1da76f5e",
   "metadata": {},
   "outputs": [],
   "source": [
    "def train(df_train, y_train, C=1.0):\n",
    "    dicts = df_train[categorical + numerical].to_dict(orient='records')\n",
    "    \n",
    "    dv = DictVectorizer(sparse=False)\n",
    "    X_train = dv.fit_transform(dicts)\n",
    "    \n",
    "    model = LogisticRegression(C=C, max_iter=1000)\n",
    "    model.fit(X_train, y_train)\n",
    "    \n",
    "    return dv, model"
   ]
  },
  {
   "cell_type": "code",
   "execution_count": 337,
   "id": "9bc60cc4",
   "metadata": {},
   "outputs": [],
   "source": [
    "def predict(df, dv, model):\n",
    "    dicts = df[categorical + numerical].to_dict(orient='records')\n",
    "    \n",
    "    X = dv.transform(dicts)\n",
    "    \n",
    "    y_pred = model.predict_proba(X)[:, 1]\n",
    "    \n",
    "    return y_pred"
   ]
  },
  {
   "cell_type": "code",
   "execution_count": null,
   "id": "a70cd865",
   "metadata": {},
   "outputs": [],
   "source": []
  },
  {
   "cell_type": "code",
   "execution_count": 338,
   "id": "44bc0133",
   "metadata": {},
   "outputs": [],
   "source": [
    "kfold = KFold(n_splits=10, shuffle=True, random_state=1)"
   ]
  },
  {
   "cell_type": "code",
   "execution_count": 339,
   "id": "318275fe",
   "metadata": {},
   "outputs": [],
   "source": [
    "train_idx, val_idx = next(kfold.split(df_full_train))"
   ]
  },
  {
   "cell_type": "code",
   "execution_count": 340,
   "id": "69f2e340",
   "metadata": {},
   "outputs": [],
   "source": [
    "df_trainK = df_full_train.iloc[train_idx]\n",
    "df_valK = df_full_train.iloc[val_idx]"
   ]
  },
  {
   "cell_type": "code",
   "execution_count": 341,
   "id": "cd31da7b",
   "metadata": {},
   "outputs": [
    {
     "data": {
      "application/vnd.jupyter.widget-view+json": {
       "model_id": "3a0f358ae0a04145be1acf9170e6dff7",
       "version_major": 2,
       "version_minor": 0
      },
      "text/plain": [
       "  0%|          | 0/7 [00:00<?, ?it/s]"
      ]
     },
     "metadata": {},
     "output_type": "display_data"
    },
    {
     "name": "stdout",
     "output_type": "stream",
     "text": [
      "C=0.001 0.788 +- 0.020\n"
     ]
    },
    {
     "name": "stderr",
     "output_type": "stream",
     "text": [
      "/home/germano/anaconda3/envs/ml-zoomcamp_3.7/lib/python3.7/site-packages/sklearn/linear_model/_logistic.py:818: ConvergenceWarning: lbfgs failed to converge (status=1):\n",
      "STOP: TOTAL NO. of ITERATIONS REACHED LIMIT.\n",
      "\n",
      "Increase the number of iterations (max_iter) or scale the data as shown in:\n",
      "    https://scikit-learn.org/stable/modules/preprocessing.html\n",
      "Please also refer to the documentation for alternative solver options:\n",
      "    https://scikit-learn.org/stable/modules/linear_model.html#logistic-regression\n",
      "  extra_warning_msg=_LOGISTIC_SOLVER_CONVERGENCE_MSG,\n"
     ]
    },
    {
     "name": "stdout",
     "output_type": "stream",
     "text": [
      "C=0.01 0.852 +- 0.018\n"
     ]
    },
    {
     "name": "stderr",
     "output_type": "stream",
     "text": [
      "/home/germano/anaconda3/envs/ml-zoomcamp_3.7/lib/python3.7/site-packages/sklearn/linear_model/_logistic.py:818: ConvergenceWarning: lbfgs failed to converge (status=1):\n",
      "STOP: TOTAL NO. of ITERATIONS REACHED LIMIT.\n",
      "\n",
      "Increase the number of iterations (max_iter) or scale the data as shown in:\n",
      "    https://scikit-learn.org/stable/modules/preprocessing.html\n",
      "Please also refer to the documentation for alternative solver options:\n",
      "    https://scikit-learn.org/stable/modules/linear_model.html#logistic-regression\n",
      "  extra_warning_msg=_LOGISTIC_SOLVER_CONVERGENCE_MSG,\n",
      "/home/germano/anaconda3/envs/ml-zoomcamp_3.7/lib/python3.7/site-packages/sklearn/linear_model/_logistic.py:818: ConvergenceWarning: lbfgs failed to converge (status=1):\n",
      "STOP: TOTAL NO. of ITERATIONS REACHED LIMIT.\n",
      "\n",
      "Increase the number of iterations (max_iter) or scale the data as shown in:\n",
      "    https://scikit-learn.org/stable/modules/preprocessing.html\n",
      "Please also refer to the documentation for alternative solver options:\n",
      "    https://scikit-learn.org/stable/modules/linear_model.html#logistic-regression\n",
      "  extra_warning_msg=_LOGISTIC_SOLVER_CONVERGENCE_MSG,\n",
      "/home/germano/anaconda3/envs/ml-zoomcamp_3.7/lib/python3.7/site-packages/sklearn/linear_model/_logistic.py:818: ConvergenceWarning: lbfgs failed to converge (status=1):\n",
      "STOP: TOTAL NO. of ITERATIONS REACHED LIMIT.\n",
      "\n",
      "Increase the number of iterations (max_iter) or scale the data as shown in:\n",
      "    https://scikit-learn.org/stable/modules/preprocessing.html\n",
      "Please also refer to the documentation for alternative solver options:\n",
      "    https://scikit-learn.org/stable/modules/linear_model.html#logistic-regression\n",
      "  extra_warning_msg=_LOGISTIC_SOLVER_CONVERGENCE_MSG,\n",
      "/home/germano/anaconda3/envs/ml-zoomcamp_3.7/lib/python3.7/site-packages/sklearn/linear_model/_logistic.py:818: ConvergenceWarning: lbfgs failed to converge (status=1):\n",
      "STOP: TOTAL NO. of ITERATIONS REACHED LIMIT.\n",
      "\n",
      "Increase the number of iterations (max_iter) or scale the data as shown in:\n",
      "    https://scikit-learn.org/stable/modules/preprocessing.html\n",
      "Please also refer to the documentation for alternative solver options:\n",
      "    https://scikit-learn.org/stable/modules/linear_model.html#logistic-regression\n",
      "  extra_warning_msg=_LOGISTIC_SOLVER_CONVERGENCE_MSG,\n"
     ]
    },
    {
     "name": "stdout",
     "output_type": "stream",
     "text": [
      "C=0.1 0.889 +- 0.013\n"
     ]
    },
    {
     "name": "stderr",
     "output_type": "stream",
     "text": [
      "/home/germano/anaconda3/envs/ml-zoomcamp_3.7/lib/python3.7/site-packages/sklearn/linear_model/_logistic.py:818: ConvergenceWarning: lbfgs failed to converge (status=1):\n",
      "STOP: TOTAL NO. of ITERATIONS REACHED LIMIT.\n",
      "\n",
      "Increase the number of iterations (max_iter) or scale the data as shown in:\n",
      "    https://scikit-learn.org/stable/modules/preprocessing.html\n",
      "Please also refer to the documentation for alternative solver options:\n",
      "    https://scikit-learn.org/stable/modules/linear_model.html#logistic-regression\n",
      "  extra_warning_msg=_LOGISTIC_SOLVER_CONVERGENCE_MSG,\n",
      "/home/germano/anaconda3/envs/ml-zoomcamp_3.7/lib/python3.7/site-packages/sklearn/linear_model/_logistic.py:818: ConvergenceWarning: lbfgs failed to converge (status=1):\n",
      "STOP: TOTAL NO. of ITERATIONS REACHED LIMIT.\n",
      "\n",
      "Increase the number of iterations (max_iter) or scale the data as shown in:\n",
      "    https://scikit-learn.org/stable/modules/preprocessing.html\n",
      "Please also refer to the documentation for alternative solver options:\n",
      "    https://scikit-learn.org/stable/modules/linear_model.html#logistic-regression\n",
      "  extra_warning_msg=_LOGISTIC_SOLVER_CONVERGENCE_MSG,\n",
      "/home/germano/anaconda3/envs/ml-zoomcamp_3.7/lib/python3.7/site-packages/sklearn/linear_model/_logistic.py:818: ConvergenceWarning: lbfgs failed to converge (status=1):\n",
      "STOP: TOTAL NO. of ITERATIONS REACHED LIMIT.\n",
      "\n",
      "Increase the number of iterations (max_iter) or scale the data as shown in:\n",
      "    https://scikit-learn.org/stable/modules/preprocessing.html\n",
      "Please also refer to the documentation for alternative solver options:\n",
      "    https://scikit-learn.org/stable/modules/linear_model.html#logistic-regression\n",
      "  extra_warning_msg=_LOGISTIC_SOLVER_CONVERGENCE_MSG,\n",
      "/home/germano/anaconda3/envs/ml-zoomcamp_3.7/lib/python3.7/site-packages/sklearn/linear_model/_logistic.py:818: ConvergenceWarning: lbfgs failed to converge (status=1):\n",
      "STOP: TOTAL NO. of ITERATIONS REACHED LIMIT.\n",
      "\n",
      "Increase the number of iterations (max_iter) or scale the data as shown in:\n",
      "    https://scikit-learn.org/stable/modules/preprocessing.html\n",
      "Please also refer to the documentation for alternative solver options:\n",
      "    https://scikit-learn.org/stable/modules/linear_model.html#logistic-regression\n",
      "  extra_warning_msg=_LOGISTIC_SOLVER_CONVERGENCE_MSG,\n",
      "/home/germano/anaconda3/envs/ml-zoomcamp_3.7/lib/python3.7/site-packages/sklearn/linear_model/_logistic.py:818: ConvergenceWarning: lbfgs failed to converge (status=1):\n",
      "STOP: TOTAL NO. of ITERATIONS REACHED LIMIT.\n",
      "\n",
      "Increase the number of iterations (max_iter) or scale the data as shown in:\n",
      "    https://scikit-learn.org/stable/modules/preprocessing.html\n",
      "Please also refer to the documentation for alternative solver options:\n",
      "    https://scikit-learn.org/stable/modules/linear_model.html#logistic-regression\n",
      "  extra_warning_msg=_LOGISTIC_SOLVER_CONVERGENCE_MSG,\n"
     ]
    },
    {
     "name": "stdout",
     "output_type": "stream",
     "text": [
      "C=0.5 0.894 +- 0.013\n"
     ]
    },
    {
     "name": "stderr",
     "output_type": "stream",
     "text": [
      "/home/germano/anaconda3/envs/ml-zoomcamp_3.7/lib/python3.7/site-packages/sklearn/linear_model/_logistic.py:818: ConvergenceWarning: lbfgs failed to converge (status=1):\n",
      "STOP: TOTAL NO. of ITERATIONS REACHED LIMIT.\n",
      "\n",
      "Increase the number of iterations (max_iter) or scale the data as shown in:\n",
      "    https://scikit-learn.org/stable/modules/preprocessing.html\n",
      "Please also refer to the documentation for alternative solver options:\n",
      "    https://scikit-learn.org/stable/modules/linear_model.html#logistic-regression\n",
      "  extra_warning_msg=_LOGISTIC_SOLVER_CONVERGENCE_MSG,\n",
      "/home/germano/anaconda3/envs/ml-zoomcamp_3.7/lib/python3.7/site-packages/sklearn/linear_model/_logistic.py:818: ConvergenceWarning: lbfgs failed to converge (status=1):\n",
      "STOP: TOTAL NO. of ITERATIONS REACHED LIMIT.\n",
      "\n",
      "Increase the number of iterations (max_iter) or scale the data as shown in:\n",
      "    https://scikit-learn.org/stable/modules/preprocessing.html\n",
      "Please also refer to the documentation for alternative solver options:\n",
      "    https://scikit-learn.org/stable/modules/linear_model.html#logistic-regression\n",
      "  extra_warning_msg=_LOGISTIC_SOLVER_CONVERGENCE_MSG,\n",
      "/home/germano/anaconda3/envs/ml-zoomcamp_3.7/lib/python3.7/site-packages/sklearn/linear_model/_logistic.py:818: ConvergenceWarning: lbfgs failed to converge (status=1):\n",
      "STOP: TOTAL NO. of ITERATIONS REACHED LIMIT.\n",
      "\n",
      "Increase the number of iterations (max_iter) or scale the data as shown in:\n",
      "    https://scikit-learn.org/stable/modules/preprocessing.html\n",
      "Please also refer to the documentation for alternative solver options:\n",
      "    https://scikit-learn.org/stable/modules/linear_model.html#logistic-regression\n",
      "  extra_warning_msg=_LOGISTIC_SOLVER_CONVERGENCE_MSG,\n",
      "/home/germano/anaconda3/envs/ml-zoomcamp_3.7/lib/python3.7/site-packages/sklearn/linear_model/_logistic.py:818: ConvergenceWarning: lbfgs failed to converge (status=1):\n",
      "STOP: TOTAL NO. of ITERATIONS REACHED LIMIT.\n",
      "\n",
      "Increase the number of iterations (max_iter) or scale the data as shown in:\n",
      "    https://scikit-learn.org/stable/modules/preprocessing.html\n",
      "Please also refer to the documentation for alternative solver options:\n",
      "    https://scikit-learn.org/stable/modules/linear_model.html#logistic-regression\n",
      "  extra_warning_msg=_LOGISTIC_SOLVER_CONVERGENCE_MSG,\n",
      "/home/germano/anaconda3/envs/ml-zoomcamp_3.7/lib/python3.7/site-packages/sklearn/linear_model/_logistic.py:818: ConvergenceWarning: lbfgs failed to converge (status=1):\n",
      "STOP: TOTAL NO. of ITERATIONS REACHED LIMIT.\n",
      "\n",
      "Increase the number of iterations (max_iter) or scale the data as shown in:\n",
      "    https://scikit-learn.org/stable/modules/preprocessing.html\n",
      "Please also refer to the documentation for alternative solver options:\n",
      "    https://scikit-learn.org/stable/modules/linear_model.html#logistic-regression\n",
      "  extra_warning_msg=_LOGISTIC_SOLVER_CONVERGENCE_MSG,\n"
     ]
    },
    {
     "name": "stdout",
     "output_type": "stream",
     "text": [
      "C=1 0.893 +- 0.013\n"
     ]
    },
    {
     "name": "stderr",
     "output_type": "stream",
     "text": [
      "/home/germano/anaconda3/envs/ml-zoomcamp_3.7/lib/python3.7/site-packages/sklearn/linear_model/_logistic.py:818: ConvergenceWarning: lbfgs failed to converge (status=1):\n",
      "STOP: TOTAL NO. of ITERATIONS REACHED LIMIT.\n",
      "\n",
      "Increase the number of iterations (max_iter) or scale the data as shown in:\n",
      "    https://scikit-learn.org/stable/modules/preprocessing.html\n",
      "Please also refer to the documentation for alternative solver options:\n",
      "    https://scikit-learn.org/stable/modules/linear_model.html#logistic-regression\n",
      "  extra_warning_msg=_LOGISTIC_SOLVER_CONVERGENCE_MSG,\n",
      "/home/germano/anaconda3/envs/ml-zoomcamp_3.7/lib/python3.7/site-packages/sklearn/linear_model/_logistic.py:818: ConvergenceWarning: lbfgs failed to converge (status=1):\n",
      "STOP: TOTAL NO. of ITERATIONS REACHED LIMIT.\n",
      "\n",
      "Increase the number of iterations (max_iter) or scale the data as shown in:\n",
      "    https://scikit-learn.org/stable/modules/preprocessing.html\n",
      "Please also refer to the documentation for alternative solver options:\n",
      "    https://scikit-learn.org/stable/modules/linear_model.html#logistic-regression\n",
      "  extra_warning_msg=_LOGISTIC_SOLVER_CONVERGENCE_MSG,\n",
      "/home/germano/anaconda3/envs/ml-zoomcamp_3.7/lib/python3.7/site-packages/sklearn/linear_model/_logistic.py:818: ConvergenceWarning: lbfgs failed to converge (status=1):\n",
      "STOP: TOTAL NO. of ITERATIONS REACHED LIMIT.\n",
      "\n",
      "Increase the number of iterations (max_iter) or scale the data as shown in:\n",
      "    https://scikit-learn.org/stable/modules/preprocessing.html\n",
      "Please also refer to the documentation for alternative solver options:\n",
      "    https://scikit-learn.org/stable/modules/linear_model.html#logistic-regression\n",
      "  extra_warning_msg=_LOGISTIC_SOLVER_CONVERGENCE_MSG,\n",
      "/home/germano/anaconda3/envs/ml-zoomcamp_3.7/lib/python3.7/site-packages/sklearn/linear_model/_logistic.py:818: ConvergenceWarning: lbfgs failed to converge (status=1):\n",
      "STOP: TOTAL NO. of ITERATIONS REACHED LIMIT.\n",
      "\n",
      "Increase the number of iterations (max_iter) or scale the data as shown in:\n",
      "    https://scikit-learn.org/stable/modules/preprocessing.html\n",
      "Please also refer to the documentation for alternative solver options:\n",
      "    https://scikit-learn.org/stable/modules/linear_model.html#logistic-regression\n",
      "  extra_warning_msg=_LOGISTIC_SOLVER_CONVERGENCE_MSG,\n",
      "/home/germano/anaconda3/envs/ml-zoomcamp_3.7/lib/python3.7/site-packages/sklearn/linear_model/_logistic.py:818: ConvergenceWarning: lbfgs failed to converge (status=1):\n",
      "STOP: TOTAL NO. of ITERATIONS REACHED LIMIT.\n",
      "\n",
      "Increase the number of iterations (max_iter) or scale the data as shown in:\n",
      "    https://scikit-learn.org/stable/modules/preprocessing.html\n",
      "Please also refer to the documentation for alternative solver options:\n",
      "    https://scikit-learn.org/stable/modules/linear_model.html#logistic-regression\n",
      "  extra_warning_msg=_LOGISTIC_SOLVER_CONVERGENCE_MSG,\n"
     ]
    },
    {
     "name": "stdout",
     "output_type": "stream",
     "text": [
      "C=5 0.895 +- 0.013\n"
     ]
    },
    {
     "name": "stderr",
     "output_type": "stream",
     "text": [
      "/home/germano/anaconda3/envs/ml-zoomcamp_3.7/lib/python3.7/site-packages/sklearn/linear_model/_logistic.py:818: ConvergenceWarning: lbfgs failed to converge (status=1):\n",
      "STOP: TOTAL NO. of ITERATIONS REACHED LIMIT.\n",
      "\n",
      "Increase the number of iterations (max_iter) or scale the data as shown in:\n",
      "    https://scikit-learn.org/stable/modules/preprocessing.html\n",
      "Please also refer to the documentation for alternative solver options:\n",
      "    https://scikit-learn.org/stable/modules/linear_model.html#logistic-regression\n",
      "  extra_warning_msg=_LOGISTIC_SOLVER_CONVERGENCE_MSG,\n",
      "/home/germano/anaconda3/envs/ml-zoomcamp_3.7/lib/python3.7/site-packages/sklearn/linear_model/_logistic.py:818: ConvergenceWarning: lbfgs failed to converge (status=1):\n",
      "STOP: TOTAL NO. of ITERATIONS REACHED LIMIT.\n",
      "\n",
      "Increase the number of iterations (max_iter) or scale the data as shown in:\n",
      "    https://scikit-learn.org/stable/modules/preprocessing.html\n",
      "Please also refer to the documentation for alternative solver options:\n",
      "    https://scikit-learn.org/stable/modules/linear_model.html#logistic-regression\n",
      "  extra_warning_msg=_LOGISTIC_SOLVER_CONVERGENCE_MSG,\n",
      "/home/germano/anaconda3/envs/ml-zoomcamp_3.7/lib/python3.7/site-packages/sklearn/linear_model/_logistic.py:818: ConvergenceWarning: lbfgs failed to converge (status=1):\n",
      "STOP: TOTAL NO. of ITERATIONS REACHED LIMIT.\n",
      "\n",
      "Increase the number of iterations (max_iter) or scale the data as shown in:\n",
      "    https://scikit-learn.org/stable/modules/preprocessing.html\n",
      "Please also refer to the documentation for alternative solver options:\n",
      "    https://scikit-learn.org/stable/modules/linear_model.html#logistic-regression\n",
      "  extra_warning_msg=_LOGISTIC_SOLVER_CONVERGENCE_MSG,\n",
      "/home/germano/anaconda3/envs/ml-zoomcamp_3.7/lib/python3.7/site-packages/sklearn/linear_model/_logistic.py:818: ConvergenceWarning: lbfgs failed to converge (status=1):\n",
      "STOP: TOTAL NO. of ITERATIONS REACHED LIMIT.\n",
      "\n",
      "Increase the number of iterations (max_iter) or scale the data as shown in:\n",
      "    https://scikit-learn.org/stable/modules/preprocessing.html\n",
      "Please also refer to the documentation for alternative solver options:\n",
      "    https://scikit-learn.org/stable/modules/linear_model.html#logistic-regression\n",
      "  extra_warning_msg=_LOGISTIC_SOLVER_CONVERGENCE_MSG,\n",
      "/home/germano/anaconda3/envs/ml-zoomcamp_3.7/lib/python3.7/site-packages/sklearn/linear_model/_logistic.py:818: ConvergenceWarning: lbfgs failed to converge (status=1):\n",
      "STOP: TOTAL NO. of ITERATIONS REACHED LIMIT.\n",
      "\n",
      "Increase the number of iterations (max_iter) or scale the data as shown in:\n",
      "    https://scikit-learn.org/stable/modules/preprocessing.html\n",
      "Please also refer to the documentation for alternative solver options:\n",
      "    https://scikit-learn.org/stable/modules/linear_model.html#logistic-regression\n",
      "  extra_warning_msg=_LOGISTIC_SOLVER_CONVERGENCE_MSG,\n"
     ]
    },
    {
     "name": "stdout",
     "output_type": "stream",
     "text": [
      "C=10 0.891 +- 0.011\n"
     ]
    }
   ],
   "source": [
    "n_splits = 5\n",
    "\n",
    "for C in tqdm([0.001, 0.01, 0.1, 0.5, 1, 5, 10]):\n",
    "    kfold = KFold(n_splits=n_splits, shuffle=True, random_state=1)\n",
    "    \n",
    "    scores = []\n",
    "\n",
    "    for train_idx, val_idx in kfold.split(df_full_train):\n",
    "        df_train = df_full_train.iloc[train_idx]\n",
    "        df_val = df_full_train.iloc[val_idx]\n",
    "\n",
    "        y_train = df_train.fraudulent.values\n",
    "        y_val = df_val.fraudulent.values\n",
    "\n",
    "        dv, model = train(df_train, y_train, C=C)\n",
    "        y_pred = predict(df_val, dv, model)\n",
    "\n",
    "        auc = roc_auc_score(y_val, y_pred)\n",
    "        scores.append(auc)\n",
    "    \n",
    "    print('C=%s %.3f +- %.3f' % (C, np.mean(scores), np.std(scores)))"
   ]
  },
  {
   "cell_type": "code",
   "execution_count": null,
   "id": "b2a7addc",
   "metadata": {},
   "outputs": [],
   "source": []
  },
  {
   "cell_type": "code",
   "execution_count": 346,
   "id": "6f06fc2c",
   "metadata": {},
   "outputs": [
    {
     "name": "stderr",
     "output_type": "stream",
     "text": [
      "/home/germano/anaconda3/envs/ml-zoomcamp_3.7/lib/python3.7/site-packages/sklearn/linear_model/_logistic.py:818: ConvergenceWarning: lbfgs failed to converge (status=1):\n",
      "STOP: TOTAL NO. of ITERATIONS REACHED LIMIT.\n",
      "\n",
      "Increase the number of iterations (max_iter) or scale the data as shown in:\n",
      "    https://scikit-learn.org/stable/modules/preprocessing.html\n",
      "Please also refer to the documentation for alternative solver options:\n",
      "    https://scikit-learn.org/stable/modules/linear_model.html#logistic-regression\n",
      "  extra_warning_msg=_LOGISTIC_SOLVER_CONVERGENCE_MSG,\n",
      "/home/germano/anaconda3/envs/ml-zoomcamp_3.7/lib/python3.7/site-packages/sklearn/linear_model/_logistic.py:818: ConvergenceWarning: lbfgs failed to converge (status=1):\n",
      "STOP: TOTAL NO. of ITERATIONS REACHED LIMIT.\n",
      "\n",
      "Increase the number of iterations (max_iter) or scale the data as shown in:\n",
      "    https://scikit-learn.org/stable/modules/preprocessing.html\n",
      "Please also refer to the documentation for alternative solver options:\n",
      "    https://scikit-learn.org/stable/modules/linear_model.html#logistic-regression\n",
      "  extra_warning_msg=_LOGISTIC_SOLVER_CONVERGENCE_MSG,\n",
      "/home/germano/anaconda3/envs/ml-zoomcamp_3.7/lib/python3.7/site-packages/sklearn/linear_model/_logistic.py:818: ConvergenceWarning: lbfgs failed to converge (status=1):\n",
      "STOP: TOTAL NO. of ITERATIONS REACHED LIMIT.\n",
      "\n",
      "Increase the number of iterations (max_iter) or scale the data as shown in:\n",
      "    https://scikit-learn.org/stable/modules/preprocessing.html\n",
      "Please also refer to the documentation for alternative solver options:\n",
      "    https://scikit-learn.org/stable/modules/linear_model.html#logistic-regression\n",
      "  extra_warning_msg=_LOGISTIC_SOLVER_CONVERGENCE_MSG,\n",
      "/home/germano/anaconda3/envs/ml-zoomcamp_3.7/lib/python3.7/site-packages/sklearn/linear_model/_logistic.py:818: ConvergenceWarning: lbfgs failed to converge (status=1):\n",
      "STOP: TOTAL NO. of ITERATIONS REACHED LIMIT.\n",
      "\n",
      "Increase the number of iterations (max_iter) or scale the data as shown in:\n",
      "    https://scikit-learn.org/stable/modules/preprocessing.html\n",
      "Please also refer to the documentation for alternative solver options:\n",
      "    https://scikit-learn.org/stable/modules/linear_model.html#logistic-regression\n",
      "  extra_warning_msg=_LOGISTIC_SOLVER_CONVERGENCE_MSG,\n",
      "/home/germano/anaconda3/envs/ml-zoomcamp_3.7/lib/python3.7/site-packages/sklearn/linear_model/_logistic.py:818: ConvergenceWarning: lbfgs failed to converge (status=1):\n",
      "STOP: TOTAL NO. of ITERATIONS REACHED LIMIT.\n",
      "\n",
      "Increase the number of iterations (max_iter) or scale the data as shown in:\n",
      "    https://scikit-learn.org/stable/modules/preprocessing.html\n",
      "Please also refer to the documentation for alternative solver options:\n",
      "    https://scikit-learn.org/stable/modules/linear_model.html#logistic-regression\n",
      "  extra_warning_msg=_LOGISTIC_SOLVER_CONVERGENCE_MSG,\n"
     ]
    },
    {
     "name": "stdout",
     "output_type": "stream",
     "text": [
      "C=10 0.894 +- 0.013\n"
     ]
    }
   ],
   "source": [
    "kfold = KFold(n_splits=n_splits, shuffle=True, random_state=1)\n",
    "scores = []\n",
    "\n",
    "for train_idx, val_idx in kfold.split(df_full_train):\n",
    "    df_train = df_full_train.iloc[train_idx]\n",
    "    df_val = df_full_train.iloc[val_idx]\n",
    "\n",
    "    y_train = df_train.fraudulent.values\n",
    "    y_val = df_val.fraudulent.values\n",
    "\n",
    "    dv, model = train(df_train, y_train, C=0.5)\n",
    "    y_pred = predict(df_val, dv, model)\n",
    "\n",
    "    auc = roc_auc_score(y_val, y_pred)\n",
    "    scores.append(auc)\n",
    "    \n",
    "print('C=%s %.3f +- %.3f' % (C, np.mean(scores), np.std(scores)))\n",
    "\n"
   ]
  },
  {
   "cell_type": "markdown",
   "id": "5e1bfb72",
   "metadata": {},
   "source": [
    "<h2>Clean and definition of utility scripts</h2>"
   ]
  },
  {
   "cell_type": "code",
   "execution_count": null,
   "id": "56f94e9d",
   "metadata": {},
   "outputs": [],
   "source": []
  },
  {
   "cell_type": "code",
   "execution_count": 12,
   "id": "1fabcd9d",
   "metadata": {},
   "outputs": [],
   "source": [
    "def dataset_loading(file):\n",
    "    df = pd.read_csv(file)\n",
    "    return df"
   ]
  },
  {
   "cell_type": "code",
   "execution_count": 13,
   "id": "1b2b0b75",
   "metadata": {},
   "outputs": [],
   "source": [
    "def dataset_cleaning(df):\n",
    "    df = df.drop(['job_id'], axis = 'columns')\n",
    "    \n",
    "    df['title_lenght'] = (np.where(df['title'].isnull(), 0, df['title'].str.len())).astype('int64')\n",
    "    df['location_available'] = np.where(df['location'].isnull(), 'not_available', 'available')\n",
    "    df['department_available'] = np.where(df['department'].isnull(), 'not_available', 'available')\n",
    "    df['salary_range_available'] = np.where(df['salary_range'].isnull(), 'not_available', 'available')\n",
    "    df['company_profile_available'] = np.where(df['company_profile'].isnull(), 'not_available', 'available')\n",
    "    df['company_profile_lenght'] = (np.where(df['company_profile'].isnull(), 0, df['company_profile'].str.len())).astype('int64')\n",
    "    df['description_available'] = np.where(df['description'].isnull(), 'not_available', 'available')\n",
    "    df['description_lenght'] = (np.where(df['description'].isnull(), 0, df['description'].str.len())).astype('int64')\n",
    "    df['requirements_available'] = np.where(df['requirements'].isnull(), 'not_available', 'available')\n",
    "    df['requirements_lenght'] = (np.where(df['requirements'].isnull(), 0, df['requirements'].str.len())).astype('int64')\n",
    "    df['benefits_available'] = np.where(df['benefits'].isnull(), 'not_available', 'available')\n",
    "    df['benefits_lenght'] = (np.where(df['benefits'].isnull(), 0, df['benefits'].str.len())).astype('int64')\n",
    "    df = df.drop(['title', 'location', 'department', 'salary_range', 'company_profile', 'description', 'requirements', 'benefits'], axis = 'columns')\n",
    "\n",
    "    df.fillna(\"not_available\",inplace=True)\n",
    "\n",
    "    cols = list(df.dtypes[df.dtypes == 'object'].index)\n",
    "    for c in cols:\n",
    "        df[c] = df[c].str.lower().str.replace(' ', '_')\n",
    "    \n",
    "    return df"
   ]
  },
  {
   "cell_type": "code",
   "execution_count": 14,
   "id": "9513509a",
   "metadata": {},
   "outputs": [],
   "source": [
    "def confusionMap(y_val):\n",
    "    actual_positive = (y_val == 1)\n",
    "    actual_negative = (y_val == 0)\n",
    "\n",
    "    t = 0.5\n",
    "    predict_positive = (y_pred >= t)\n",
    "    predict_negative = (y_pred < t)\n",
    "\n",
    "    tp = (predict_positive & actual_positive).sum()\n",
    "    tn = (predict_negative & actual_negative).sum()\n",
    "\n",
    "    fp = (predict_positive & actual_negative).sum()\n",
    "    fn = (predict_negative & actual_positive).sum()\n",
    "\n",
    "    confusion_matrix = np.array([\n",
    "        [tn, fp], \n",
    "        [fn, tp]\n",
    "    ])\n",
    "\n",
    "    print((confusion_matrix / confusion_matrix.sum()).round(2))"
   ]
  },
  {
   "cell_type": "code",
   "execution_count": 15,
   "id": "b829f6db",
   "metadata": {},
   "outputs": [],
   "source": [
    "def Precision_Recall(y_val):\n",
    "    actual_positive = (y_val == 1)\n",
    "    actual_negative = (y_val == 0)\n",
    "\n",
    "    t = 0.5\n",
    "    predict_positive = (y_pred >= t)\n",
    "    predict_negative = (y_pred < t)\n",
    "\n",
    "    tp = (predict_positive & actual_positive).sum()\n",
    "    tn = (predict_negative & actual_negative).sum()\n",
    "\n",
    "    fp = (predict_positive & actual_negative).sum()\n",
    "    fn = (predict_negative & actual_positive).sum()\n",
    "    p = tp / (tp + fp)\n",
    "    print('Precision: %.3f' % p)\n",
    "\n",
    "    r = tp / (tp + fn)\n",
    "    print('Recall: %.3f' % r)"
   ]
  },
  {
   "cell_type": "code",
   "execution_count": null,
   "id": "17b9c571",
   "metadata": {},
   "outputs": [],
   "source": []
  },
  {
   "cell_type": "code",
   "execution_count": 16,
   "id": "bbfa2960",
   "metadata": {},
   "outputs": [],
   "source": [
    "import pandas as pd\n",
    "import numpy as np\n",
    "import matplotlib.pyplot as plt\n",
    "import seaborn as sns\n",
    "from sklearn.tree import DecisionTreeClassifier\n",
    "from sklearn.model_selection import train_test_split\n",
    "from sklearn.feature_extraction import DictVectorizer\n",
    "from sklearn.metrics import roc_auc_score"
   ]
  },
  {
   "cell_type": "code",
   "execution_count": 17,
   "id": "58400cca",
   "metadata": {},
   "outputs": [],
   "source": [
    "df = dataset_loading('fake_job_postings.csv')\n",
    "\n",
    "df = dataset_cleaning(df)\n",
    "\n",
    "numerical = ['telecommuting', 'has_company_logo', 'has_questions', 'company_profile_lenght', 'description_lenght',\n",
    "            'requirements_lenght', 'benefits_lenght', 'title_lenght']\n",
    "categorical = ['location_available', 'department_available', 'salary_range_available', 'company_profile_available',\n",
    "               'description_available', 'requirements_available', 'benefits_available', 'employment_type',\n",
    "               'required_experience', 'required_education', 'industry', 'function']         \n",
    "target = ['fraudulent']\n",
    "\n",
    "df_full_train, df_test = train_test_split(df, test_size=0.2, random_state=42)\n",
    "df_train, df_val = train_test_split(df_full_train, test_size=0.25, random_state=42)\n",
    "df_train = df_train.reset_index(drop=True)\n",
    "df_full_train = df_full_train.reset_index(drop=True)\n",
    "df_val = df_val.reset_index(drop=True)\n",
    "df_test = df_test.reset_index(drop=True)\n",
    "\n",
    "y_train = df_train.fraudulent.values\n",
    "y_full_train = df_full_train.fraudulent.values\n",
    "y_val = df_val.fraudulent.values\n",
    "y_test = df_test.fraudulent.values\n",
    "\n",
    "del df_train['fraudulent']\n",
    "del df_val['fraudulent']\n",
    "del df_full_train['fraudulent']\n",
    "del df_test['fraudulent']\n",
    "\n",
    "train_dicts = df_train[categorical + numerical].to_dict(orient='records')\n",
    "full_train_dicts = df_full_train[categorical + numerical].to_dict(orient='records')\n",
    "val_dicts = df_val[categorical + numerical].to_dict(orient='records')\n",
    "test_dicts = df_test[categorical + numerical].to_dict(orient='records')\n",
    "\n",
    "dv = DictVectorizer(sparse=False)\n",
    "\n",
    "X_train = dv.fit_transform(train_dicts)\n",
    "X_full_train = dv.transform(full_train_dicts)\n",
    "X_val = dv.transform(val_dicts)\n",
    "X_test = dv.transform(test_dicts)"
   ]
  },
  {
   "cell_type": "code",
   "execution_count": null,
   "id": "7ddb7618",
   "metadata": {},
   "outputs": [],
   "source": []
  },
  {
   "cell_type": "markdown",
   "id": "8c862f4e",
   "metadata": {},
   "source": [
    "<h3>Test Decision Tree Classifier</h3>"
   ]
  },
  {
   "cell_type": "markdown",
   "id": "0e2d17d7",
   "metadata": {},
   "source": [
    "Tuning parameters"
   ]
  },
  {
   "cell_type": "code",
   "execution_count": 376,
   "id": "fb160729",
   "metadata": {},
   "outputs": [
    {
     "data": {
      "text/plain": [
       "DecisionTreeClassifier()"
      ]
     },
     "execution_count": 376,
     "metadata": {},
     "output_type": "execute_result"
    }
   ],
   "source": [
    "dt = DecisionTreeClassifier()\n",
    "dt.fit(X_train, y_train)"
   ]
  },
  {
   "cell_type": "code",
   "execution_count": 377,
   "id": "2097a03a",
   "metadata": {},
   "outputs": [],
   "source": [
    "y_pred = dt.predict_proba(X_val)[:, 1]"
   ]
  },
  {
   "cell_type": "code",
   "execution_count": 378,
   "id": "868820e5",
   "metadata": {},
   "outputs": [
    {
     "data": {
      "text/plain": [
       "0.820145536276471"
      ]
     },
     "execution_count": 378,
     "metadata": {},
     "output_type": "execute_result"
    }
   ],
   "source": [
    "roc_auc_score(y_val, y_pred)"
   ]
  },
  {
   "cell_type": "code",
   "execution_count": 372,
   "id": "73877c5e",
   "metadata": {},
   "outputs": [
    {
     "name": "stdout",
     "output_type": "stream",
     "text": [
      "[[0.93 0.02]\n",
      " [0.02 0.03]]\n"
     ]
    }
   ],
   "source": [
    "confusionMap(y_val)"
   ]
  },
  {
   "cell_type": "code",
   "execution_count": 373,
   "id": "ec1ce606",
   "metadata": {},
   "outputs": [
    {
     "name": "stdout",
     "output_type": "stream",
     "text": [
      "Precision: 0.646\n",
      "Recall: 0.659\n"
     ]
    }
   ],
   "source": [
    "Precision_Recall(y_val)"
   ]
  },
  {
   "cell_type": "code",
   "execution_count": null,
   "id": "3bf31a08",
   "metadata": {},
   "outputs": [],
   "source": []
  },
  {
   "cell_type": "code",
   "execution_count": 33,
   "id": "6b9c6467",
   "metadata": {},
   "outputs": [
    {
     "name": "stdout",
     "output_type": "stream",
     "text": [
      "   1 -> 0.761\n",
      "   2 -> 0.807\n",
      "   3 -> 0.843\n",
      "   4 -> 0.864\n",
      "   5 -> 0.872\n",
      "   6 -> 0.872\n",
      "  10 -> 0.862\n",
      "  15 -> 0.822\n",
      "  20 -> 0.846\n",
      "None -> 0.821\n"
     ]
    }
   ],
   "source": [
    "for d in [1, 2, 3, 4, 5, 6, 10, 15, 20, None]:\n",
    "    dt = DecisionTreeClassifier(max_depth=d)\n",
    "    dt.fit(X_train, y_train)\n",
    "    \n",
    "    y_pred = dt.predict_proba(X_val)[:, 1]\n",
    "    auc = roc_auc_score(y_val, y_pred)\n",
    "    \n",
    "    print('%4s -> %.3f' % (d, auc))"
   ]
  },
  {
   "cell_type": "code",
   "execution_count": 34,
   "id": "2858e39d",
   "metadata": {},
   "outputs": [
    {
     "name": "stdout",
     "output_type": "stream",
     "text": [
      "(   6,   1) -> 0.883\n",
      "(   6,   2) -> 0.876\n",
      "(   6,   5) -> 0.884\n",
      "(   6,  10) -> 0.911\n",
      "(   6,  15) -> 0.911\n",
      "(   6,  20) -> 0.907\n",
      "(   6, 100) -> 0.908\n",
      "(   6, 200) -> 0.885\n",
      "(   6, 500) -> 0.856\n"
     ]
    }
   ],
   "source": [
    "scores = []\n",
    "d = 6\n",
    "for s in [1, 2, 5, 10, 15, 20, 100, 200, 500]:\n",
    "    dt = DecisionTreeClassifier(max_depth=d, min_samples_leaf=s)\n",
    "    dt.fit(X_train, y_train)\n",
    "    \n",
    "    y_pred = dt.predict_proba(X_val)[:, 1]\n",
    "    auc = roc_auc_score(y_val, y_pred)\n",
    "    \n",
    "    scores.append((d, s, auc))\n",
    "    print('(%4s, %3d) -> %.3f' % (d, s, auc))"
   ]
  },
  {
   "cell_type": "code",
   "execution_count": 35,
   "id": "94a6bcce",
   "metadata": {},
   "outputs": [
    {
     "data": {
      "text/plain": [
       "0.9108976862441919"
      ]
     },
     "execution_count": 35,
     "metadata": {},
     "output_type": "execute_result"
    }
   ],
   "source": [
    "dt = DecisionTreeClassifier(max_depth=6, min_samples_leaf=10)\n",
    "dt.fit(X_train, y_train)\n",
    "    \n",
    "y_pred = dt.predict_proba(X_val)[:, 1]\n",
    "auc = roc_auc_score(y_val, y_pred)\n",
    "auc"
   ]
  },
  {
   "cell_type": "code",
   "execution_count": 36,
   "id": "343759a6",
   "metadata": {},
   "outputs": [
    {
     "name": "stdout",
     "output_type": "stream",
     "text": [
      "[[0.94 0.  ]\n",
      " [0.03 0.02]]\n"
     ]
    }
   ],
   "source": [
    "confusionMap(y_val)"
   ]
  },
  {
   "cell_type": "code",
   "execution_count": 37,
   "id": "f017a96e",
   "metadata": {},
   "outputs": [
    {
     "name": "stdout",
     "output_type": "stream",
     "text": [
      "Precision: 0.824\n",
      "Recall: 0.330\n"
     ]
    }
   ],
   "source": [
    "Precision_Recall(y_val)"
   ]
  },
  {
   "cell_type": "code",
   "execution_count": null,
   "id": "edef31da",
   "metadata": {},
   "outputs": [],
   "source": []
  },
  {
   "cell_type": "markdown",
   "id": "d910fed9",
   "metadata": {},
   "source": [
    "<h3>Test Random Forest Model</h3>"
   ]
  },
  {
   "cell_type": "markdown",
   "id": "42cdceb6",
   "metadata": {},
   "source": [
    "Tuning rounds, max_depth, min_samples_leaf"
   ]
  },
  {
   "cell_type": "code",
   "execution_count": 38,
   "id": "a1036953",
   "metadata": {},
   "outputs": [],
   "source": [
    "from sklearn.ensemble import RandomForestClassifier"
   ]
  },
  {
   "cell_type": "code",
   "execution_count": 39,
   "id": "93742ea7",
   "metadata": {},
   "outputs": [
    {
     "data": {
      "text/plain": [
       "RandomForestClassifier(n_estimators=10, random_state=1)"
      ]
     },
     "execution_count": 39,
     "metadata": {},
     "output_type": "execute_result"
    }
   ],
   "source": [
    "rf = RandomForestClassifier(n_estimators=10, random_state=1)\n",
    "rf.fit(X_train, y_train)"
   ]
  },
  {
   "cell_type": "code",
   "execution_count": 40,
   "id": "3908e21a",
   "metadata": {},
   "outputs": [],
   "source": [
    "y_pred = rf.predict_proba(X_val)[:, 1]"
   ]
  },
  {
   "cell_type": "code",
   "execution_count": 41,
   "id": "15f5c36b",
   "metadata": {},
   "outputs": [
    {
     "data": {
      "text/plain": [
       "0.939314720205313"
      ]
     },
     "execution_count": 41,
     "metadata": {},
     "output_type": "execute_result"
    }
   ],
   "source": [
    "roc_auc_score(y_val, y_pred)"
   ]
  },
  {
   "cell_type": "code",
   "execution_count": 42,
   "id": "53877e56",
   "metadata": {},
   "outputs": [
    {
     "name": "stdout",
     "output_type": "stream",
     "text": [
      "[[0.94 0.01]\n",
      " [0.02 0.03]]\n"
     ]
    }
   ],
   "source": [
    "confusionMap(y_val)"
   ]
  },
  {
   "cell_type": "code",
   "execution_count": 43,
   "id": "ed8b5643",
   "metadata": {},
   "outputs": [
    {
     "name": "stdout",
     "output_type": "stream",
     "text": [
      "Precision: 0.859\n",
      "Recall: 0.627\n"
     ]
    }
   ],
   "source": [
    "Precision_Recall(y_val)"
   ]
  },
  {
   "cell_type": "code",
   "execution_count": 44,
   "id": "41e0da53",
   "metadata": {},
   "outputs": [],
   "source": [
    "scores = []\n",
    "\n",
    "for n in range(10, 201, 10):\n",
    "    rf = RandomForestClassifier(n_estimators=n, random_state=1)\n",
    "    rf.fit(X_train, y_train)\n",
    "    \n",
    "    y_pred = rf.predict_proba(X_val)[:, 1]\n",
    "    auc = roc_auc_score(y_val, y_pred)\n",
    "    scores.append((n, auc))\n",
    "    #print('%4s -> %.3f' % (n, auc))"
   ]
  },
  {
   "cell_type": "code",
   "execution_count": null,
   "id": "2575622b",
   "metadata": {},
   "outputs": [],
   "source": []
  },
  {
   "cell_type": "code",
   "execution_count": 45,
   "id": "e520d671",
   "metadata": {},
   "outputs": [
    {
     "data": {
      "text/plain": [
       "[<matplotlib.lines.Line2D at 0x7f79d17d5c90>]"
      ]
     },
     "execution_count": 45,
     "metadata": {},
     "output_type": "execute_result"
    },
    {
     "data": {
      "image/png": "[encoded data removed]",
      "text/plain": [
       "<Figure size 432x288 with 1 Axes>"
      ]
     },
     "metadata": {
      "needs_background": "light"
     },
     "output_type": "display_data"
    }
   ],
   "source": [
    "df_scores = pd.DataFrame(scores, columns=['n_estimators', 'auc'])\n",
    "plt.plot(df_scores.n_estimators, df_scores.auc)\n"
   ]
  },
  {
   "cell_type": "code",
   "execution_count": 46,
   "id": "2fcf1c67",
   "metadata": {},
   "outputs": [
    {
     "data": {
      "text/html": [
       "<div>\n",
       "<style scoped>\n",
       "    .dataframe tbody tr th:only-of-type {\n",
       "        vertical-align: middle;\n",
       "    }\n",
       "\n",
       "    .dataframe tbody tr th {\n",
       "        vertical-align: top;\n",
       "    }\n",
       "\n",
       "    .dataframe thead th {\n",
       "        text-align: right;\n",
       "    }\n",
       "</style>\n",
       "<table border=\"1\" class=\"dataframe\">\n",
       "  <thead>\n",
       "    <tr style=\"text-align: right;\">\n",
       "      <th></th>\n",
       "      <th>max_depth</th>\n",
       "      <th>n_estimators</th>\n",
       "      <th>auc</th>\n",
       "    </tr>\n",
       "  </thead>\n",
       "  <tbody>\n",
       "    <tr>\n",
       "      <th>0</th>\n",
       "      <td>5</td>\n",
       "      <td>10</td>\n",
       "      <td>0.902770</td>\n",
       "    </tr>\n",
       "    <tr>\n",
       "      <th>1</th>\n",
       "      <td>5</td>\n",
       "      <td>20</td>\n",
       "      <td>0.909902</td>\n",
       "    </tr>\n",
       "    <tr>\n",
       "      <th>2</th>\n",
       "      <td>5</td>\n",
       "      <td>30</td>\n",
       "      <td>0.912716</td>\n",
       "    </tr>\n",
       "    <tr>\n",
       "      <th>3</th>\n",
       "      <td>5</td>\n",
       "      <td>40</td>\n",
       "      <td>0.913854</td>\n",
       "    </tr>\n",
       "    <tr>\n",
       "      <th>4</th>\n",
       "      <td>5</td>\n",
       "      <td>50</td>\n",
       "      <td>0.918964</td>\n",
       "    </tr>\n",
       "  </tbody>\n",
       "</table>\n",
       "</div>"
      ],
      "text/plain": [
       "   max_depth  n_estimators       auc\n",
       "0          5            10  0.902770\n",
       "1          5            20  0.909902\n",
       "2          5            30  0.912716\n",
       "3          5            40  0.913854\n",
       "4          5            50  0.918964"
      ]
     },
     "execution_count": 46,
     "metadata": {},
     "output_type": "execute_result"
    }
   ],
   "source": [
    "scores = []\n",
    "\n",
    "for d in [5, 10, 15]:\n",
    "    for n in range(10, 201, 10):\n",
    "        rf = RandomForestClassifier(n_estimators=n, max_depth=d, random_state=1)\n",
    "        rf.fit(X_train, y_train)\n",
    "\n",
    "        y_pred = rf.predict_proba(X_val)[:, 1]\n",
    "        auc = roc_auc_score(y_val, y_pred)\n",
    "        scores.append((d, n, auc))\n",
    "\n",
    "df_scores = pd.DataFrame(scores, columns=['max_depth', 'n_estimators', 'auc'])\n",
    "df_scores.head()\n"
   ]
  },
  {
   "cell_type": "code",
   "execution_count": 47,
   "id": "fdcc7b30",
   "metadata": {},
   "outputs": [
    {
     "data": {
      "text/plain": [
       "<matplotlib.legend.Legend at 0x7f79cc9d12d0>"
      ]
     },
     "execution_count": 47,
     "metadata": {},
     "output_type": "execute_result"
    },
    {
     "data": {
      "image/png": "[encoded data removed]",
      "text/plain": [
       "<Figure size 432x288 with 1 Axes>"
      ]
     },
     "metadata": {
      "needs_background": "light"
     },
     "output_type": "display_data"
    }
   ],
   "source": [
    "for d in [5, 10, 15]:\n",
    "    df_subset = df_scores[df_scores.max_depth == d]\n",
    "    plt.plot(df_subset.n_estimators, df_subset.auc, label='max_depth=%d' % d)\n",
    "    \n",
    "plt.legend()"
   ]
  },
  {
   "cell_type": "code",
   "execution_count": 48,
   "id": "41d1b7aa",
   "metadata": {},
   "outputs": [],
   "source": [
    "max_depth=15"
   ]
  },
  {
   "cell_type": "code",
   "execution_count": 49,
   "id": "a55b18fe",
   "metadata": {},
   "outputs": [
    {
     "data": {
      "text/html": [
       "<div>\n",
       "<style scoped>\n",
       "    .dataframe tbody tr th:only-of-type {\n",
       "        vertical-align: middle;\n",
       "    }\n",
       "\n",
       "    .dataframe tbody tr th {\n",
       "        vertical-align: top;\n",
       "    }\n",
       "\n",
       "    .dataframe thead th {\n",
       "        text-align: right;\n",
       "    }\n",
       "</style>\n",
       "<table border=\"1\" class=\"dataframe\">\n",
       "  <thead>\n",
       "    <tr style=\"text-align: right;\">\n",
       "      <th></th>\n",
       "      <th>min_samples_leaf</th>\n",
       "      <th>n_estimators</th>\n",
       "      <th>auc</th>\n",
       "    </tr>\n",
       "  </thead>\n",
       "  <tbody>\n",
       "    <tr>\n",
       "      <th>0</th>\n",
       "      <td>1</td>\n",
       "      <td>10</td>\n",
       "      <td>0.958376</td>\n",
       "    </tr>\n",
       "    <tr>\n",
       "      <th>1</th>\n",
       "      <td>1</td>\n",
       "      <td>20</td>\n",
       "      <td>0.968558</td>\n",
       "    </tr>\n",
       "    <tr>\n",
       "      <th>2</th>\n",
       "      <td>1</td>\n",
       "      <td>30</td>\n",
       "      <td>0.968538</td>\n",
       "    </tr>\n",
       "    <tr>\n",
       "      <th>3</th>\n",
       "      <td>1</td>\n",
       "      <td>40</td>\n",
       "      <td>0.968530</td>\n",
       "    </tr>\n",
       "    <tr>\n",
       "      <th>4</th>\n",
       "      <td>1</td>\n",
       "      <td>50</td>\n",
       "      <td>0.969500</td>\n",
       "    </tr>\n",
       "  </tbody>\n",
       "</table>\n",
       "</div>"
      ],
      "text/plain": [
       "   min_samples_leaf  n_estimators       auc\n",
       "0                 1            10  0.958376\n",
       "1                 1            20  0.968558\n",
       "2                 1            30  0.968538\n",
       "3                 1            40  0.968530\n",
       "4                 1            50  0.969500"
      ]
     },
     "execution_count": 49,
     "metadata": {},
     "output_type": "execute_result"
    }
   ],
   "source": [
    "scores = []\n",
    "\n",
    "for s in [1, 3, 5, 10, 50]:\n",
    "    for n in range(10, 201, 10):\n",
    "        rf = RandomForestClassifier(n_estimators=n, \n",
    "                                    max_depth=max_depth, \n",
    "                                    min_samples_leaf=s, \n",
    "                                    random_state=1)\n",
    "        rf.fit(X_train, y_train)\n",
    "\n",
    "        y_pred = rf.predict_proba(X_val)[:, 1]\n",
    "        auc = roc_auc_score(y_val, y_pred)\n",
    "        scores.append((s, n, auc))\n",
    "\n",
    "df_scores = pd.DataFrame(scores, columns=['min_samples_leaf', 'n_estimators', 'auc'])\n",
    "df_scores.head()"
   ]
  },
  {
   "cell_type": "code",
   "execution_count": 50,
   "id": "3da3edd4",
   "metadata": {},
   "outputs": [
    {
     "data": {
      "text/plain": [
       "<matplotlib.legend.Legend at 0x7f79d184d210>"
      ]
     },
     "execution_count": 50,
     "metadata": {},
     "output_type": "execute_result"
    },
    {
     "data": {
      "image/png": "[encoded data removed]",
      "text/plain": [
       "<Figure size 432x288 with 1 Axes>"
      ]
     },
     "metadata": {
      "needs_background": "light"
     },
     "output_type": "display_data"
    }
   ],
   "source": [
    "colors = ['red', 'green', 'blue', 'yellow', 'black']\n",
    "min_samples_leaf_values = [1, 3, 5, 10, 50]\n",
    "\n",
    "for s, col in zip(min_samples_leaf_values, colors):\n",
    "    df_subset = df_scores[df_scores.min_samples_leaf == s]\n",
    "    plt.plot(df_subset.n_estimators,\n",
    "             df_subset.auc,\n",
    "             color=col,\n",
    "             label='min_samples_leaf=%d' % s)\n",
    "    \n",
    "plt.legend() "
   ]
  },
  {
   "cell_type": "code",
   "execution_count": 51,
   "id": "b5753c01",
   "metadata": {},
   "outputs": [],
   "source": [
    "rf = RandomForestClassifier(n_estimators=170, \n",
    "                                    max_depth=15, \n",
    "                                    min_samples_leaf=1, \n",
    "                                    random_state=1)\n",
    "rf.fit(X_train, y_train)\n",
    "y_pred = rf.predict_proba(X_val)[:, 1]"
   ]
  },
  {
   "cell_type": "code",
   "execution_count": 53,
   "id": "e9f4de62",
   "metadata": {},
   "outputs": [
    {
     "data": {
      "text/plain": [
       "0.9748714801501591"
      ]
     },
     "execution_count": 53,
     "metadata": {},
     "output_type": "execute_result"
    }
   ],
   "source": [
    "roc_auc_score(y_val, y_pred)"
   ]
  },
  {
   "cell_type": "code",
   "execution_count": 54,
   "id": "05522ee9",
   "metadata": {},
   "outputs": [
    {
     "name": "stdout",
     "output_type": "stream",
     "text": [
      "[[0.95 0.  ]\n",
      " [0.03 0.02]]\n"
     ]
    }
   ],
   "source": [
    "confusionMap(y_val)"
   ]
  },
  {
   "cell_type": "code",
   "execution_count": 55,
   "id": "baf22e90",
   "metadata": {},
   "outputs": [
    {
     "name": "stdout",
     "output_type": "stream",
     "text": [
      "Precision: 1.000\n",
      "Recall: 0.465\n"
     ]
    }
   ],
   "source": [
    "Precision_Recall(y_val)"
   ]
  },
  {
   "cell_type": "code",
   "execution_count": null,
   "id": "309f7355",
   "metadata": {},
   "outputs": [],
   "source": []
  },
  {
   "cell_type": "code",
   "execution_count": null,
   "id": "9ca3c280",
   "metadata": {},
   "outputs": [],
   "source": []
  },
  {
   "cell_type": "markdown",
   "id": "120af7df",
   "metadata": {},
   "source": [
    "<h3>Test XgBoost Model</h3>"
   ]
  },
  {
   "cell_type": "markdown",
   "id": "b53ecf11",
   "metadata": {},
   "source": [
    "Tuning Parameters"
   ]
  },
  {
   "cell_type": "code",
   "execution_count": 56,
   "id": "1b58cb95",
   "metadata": {},
   "outputs": [],
   "source": [
    "import xgboost as xgb"
   ]
  },
  {
   "cell_type": "code",
   "execution_count": 57,
   "id": "ac325c7d",
   "metadata": {},
   "outputs": [],
   "source": [
    "features = dv.get_feature_names_out()"
   ]
  },
  {
   "cell_type": "code",
   "execution_count": 58,
   "id": "0fee76dc",
   "metadata": {},
   "outputs": [],
   "source": [
    "dtrain = xgb.DMatrix(X_train, label=y_train, feature_names=features)\n",
    "dfulltrain = xgb.DMatrix(X_full_train, label=y_full_train, feature_names=features)\n",
    "dval = xgb.DMatrix(X_val, label=y_val, feature_names=features)\n",
    "dtest = xgb.DMatrix(X_test, label=y_test, feature_names=features)"
   ]
  },
  {
   "cell_type": "code",
   "execution_count": 59,
   "id": "1e57884f",
   "metadata": {},
   "outputs": [],
   "source": [
    "watchlist = [(dtrain, 'train'), (dval, 'val')]"
   ]
  },
  {
   "cell_type": "code",
   "execution_count": 60,
   "id": "b74e4ca3",
   "metadata": {},
   "outputs": [
    {
     "name": "stdout",
     "output_type": "stream",
     "text": [
      "[11:41:46] WARNING: /tmp/build/80754af9/xgboost-split_1619724447847/work/src/learner.cc:1061: Starting in XGBoost 1.3.0, the default evaluation metric used with the objective 'binary:logistic' was changed from 'error' to 'logloss'. Explicitly set eval_metric if you'd like to restore the old behavior.\n",
      "[0]\ttrain-logloss:0.46699\tval-logloss:0.46922\n",
      "[5]\ttrain-logloss:0.14627\tval-logloss:0.15610\n",
      "[10]\ttrain-logloss:0.08428\tval-logloss:0.09911\n",
      "[15]\ttrain-logloss:0.06600\tval-logloss:0.08416\n",
      "[20]\ttrain-logloss:0.05675\tval-logloss:0.07710\n",
      "[25]\ttrain-logloss:0.05133\tval-logloss:0.07362\n",
      "[30]\ttrain-logloss:0.04804\tval-logloss:0.07097\n",
      "[35]\ttrain-logloss:0.04372\tval-logloss:0.06817\n",
      "[40]\ttrain-logloss:0.04019\tval-logloss:0.06664\n",
      "[45]\ttrain-logloss:0.03735\tval-logloss:0.06517\n",
      "[50]\ttrain-logloss:0.03473\tval-logloss:0.06494\n",
      "[55]\ttrain-logloss:0.03057\tval-logloss:0.06361\n",
      "[60]\ttrain-logloss:0.02770\tval-logloss:0.06260\n",
      "[65]\ttrain-logloss:0.02679\tval-logloss:0.06218\n",
      "[70]\ttrain-logloss:0.02463\tval-logloss:0.06184\n",
      "[75]\ttrain-logloss:0.02203\tval-logloss:0.06102\n",
      "[80]\ttrain-logloss:0.01993\tval-logloss:0.05967\n",
      "[85]\ttrain-logloss:0.01889\tval-logloss:0.05974\n",
      "[90]\ttrain-logloss:0.01745\tval-logloss:0.06008\n",
      "[95]\ttrain-logloss:0.01665\tval-logloss:0.05945\n",
      "[100]\ttrain-logloss:0.01571\tval-logloss:0.05903\n",
      "[105]\ttrain-logloss:0.01525\tval-logloss:0.05852\n",
      "[110]\ttrain-logloss:0.01409\tval-logloss:0.05857\n",
      "[115]\ttrain-logloss:0.01346\tval-logloss:0.05871\n",
      "[120]\ttrain-logloss:0.01298\tval-logloss:0.05902\n",
      "[125]\ttrain-logloss:0.01249\tval-logloss:0.05909\n",
      "[130]\ttrain-logloss:0.01171\tval-logloss:0.05910\n",
      "[135]\ttrain-logloss:0.01125\tval-logloss:0.05932\n",
      "[140]\ttrain-logloss:0.01068\tval-logloss:0.05965\n",
      "[145]\ttrain-logloss:0.01024\tval-logloss:0.05944\n",
      "[150]\ttrain-logloss:0.00967\tval-logloss:0.05976\n",
      "[155]\ttrain-logloss:0.00905\tval-logloss:0.05992\n",
      "[160]\ttrain-logloss:0.00880\tval-logloss:0.06000\n",
      "[165]\ttrain-logloss:0.00852\tval-logloss:0.06029\n",
      "[170]\ttrain-logloss:0.00812\tval-logloss:0.06064\n",
      "[175]\ttrain-logloss:0.00779\tval-logloss:0.06067\n",
      "[180]\ttrain-logloss:0.00748\tval-logloss:0.06096\n",
      "[185]\ttrain-logloss:0.00722\tval-logloss:0.06138\n",
      "[190]\ttrain-logloss:0.00690\tval-logloss:0.06155\n",
      "[195]\ttrain-logloss:0.00665\tval-logloss:0.06142\n",
      "[199]\ttrain-logloss:0.00643\tval-logloss:0.06157\n"
     ]
    }
   ],
   "source": [
    "xgb_params = {\n",
    "    'eta': 0.3,\n",
    "    'max_depth': 6,\n",
    "    'min_child_weight': 1,\n",
    "    'objective': 'binary:logistic',\n",
    "    'nthread': 8,\n",
    "    'seed': 1,\n",
    "    'verbosity': 1,\n",
    "}\n",
    "\n",
    "model = xgb.train(xgb_params, dtrain, num_boost_round=200, evals=watchlist, verbose_eval=5)"
   ]
  },
  {
   "cell_type": "code",
   "execution_count": 61,
   "id": "84ca9eb4",
   "metadata": {},
   "outputs": [],
   "source": [
    "y_pred = model.predict(dval)"
   ]
  },
  {
   "cell_type": "code",
   "execution_count": 62,
   "id": "edc31cbe",
   "metadata": {},
   "outputs": [
    {
     "data": {
      "text/plain": [
       "0.9815879872795237"
      ]
     },
     "execution_count": 62,
     "metadata": {},
     "output_type": "execute_result"
    }
   ],
   "source": [
    "auc = roc_auc_score(y_val, y_pred)\n",
    "auc"
   ]
  },
  {
   "cell_type": "code",
   "execution_count": 63,
   "id": "5d75dc6d",
   "metadata": {},
   "outputs": [
    {
     "name": "stdout",
     "output_type": "stream",
     "text": [
      "[[0.95 0.  ]\n",
      " [0.02 0.04]]\n"
     ]
    }
   ],
   "source": [
    "confusionMap(y_val)"
   ]
  },
  {
   "cell_type": "code",
   "execution_count": 64,
   "id": "1d9819f5",
   "metadata": {},
   "outputs": [
    {
     "name": "stdout",
     "output_type": "stream",
     "text": [
      "Precision: 0.933\n",
      "Recall: 0.681\n"
     ]
    }
   ],
   "source": [
    "Precision_Recall(y_val)"
   ]
  },
  {
   "cell_type": "code",
   "execution_count": null,
   "id": "8cb1025b",
   "metadata": {},
   "outputs": [],
   "source": []
  },
  {
   "cell_type": "code",
   "execution_count": 65,
   "id": "4ce8eef1",
   "metadata": {},
   "outputs": [],
   "source": [
    "def parse_xgb_output(output):\n",
    "    results = []\n",
    "    \n",
    "    for line in output.stdout.strip().split('\\n'):\n",
    "        it_line, train_line, val_line = line.split('\\t')\n",
    "        \n",
    "        it = int(it_line.strip('[]'))\n",
    "        train = float(train_line.split(':')[1])\n",
    "        val = float(val_line.split(':')[1])\n",
    "        \n",
    "        results.append((it, train, val))\n",
    "    \n",
    "    columns = ['num_iter', 'train_auc', 'val_auc']\n",
    "    df_results = pd.DataFrame(results, columns=columns)\n",
    "    return df_results"
   ]
  },
  {
   "cell_type": "markdown",
   "id": "5ff418bc",
   "metadata": {},
   "source": [
    "Tuning Best Eta"
   ]
  },
  {
   "cell_type": "code",
   "execution_count": 67,
   "id": "d8ebd40e",
   "metadata": {},
   "outputs": [],
   "source": [
    "scores = {}"
   ]
  },
  {
   "cell_type": "code",
   "execution_count": 76,
   "id": "9d0294da",
   "metadata": {},
   "outputs": [],
   "source": [
    "%%capture output\n",
    "\n",
    "xgb_params = {\n",
    "    'eta': 1,\n",
    "    'max_depth': 6,\n",
    "    'min_child_weight': 1,\n",
    "    'objective': 'binary:logistic',\n",
    "    'eval_metric': 'auc',\n",
    "    'nthread': 8,\n",
    "    'seed': 1,\n",
    "    'verbosity': 1,\n",
    "}\n",
    "\n",
    "model = xgb.train(xgb_params,\n",
    "                  dtrain,\n",
    "                  num_boost_round=200,\n",
    "                  verbose_eval=5,\n",
    "                  evals=watchlist)"
   ]
  },
  {
   "cell_type": "code",
   "execution_count": null,
   "id": "3f77c0f5",
   "metadata": {},
   "outputs": [],
   "source": []
  },
  {
   "cell_type": "code",
   "execution_count": 77,
   "id": "7665bd15",
   "metadata": {},
   "outputs": [
    {
     "data": {
      "text/plain": [
       "dict_keys(['eta=0.01', 'eta=0.05', 'eta=0.1', 'eta=0.3', 'eta=1'])"
      ]
     },
     "execution_count": 77,
     "metadata": {},
     "output_type": "execute_result"
    }
   ],
   "source": [
    "# dict_keys(['eta=0.3', 'eta=0.1', 'eta=0.01', 'eta=0.05', 'eta=1'])\n",
    "\n",
    "key = 'eta=%s' % (xgb_params['eta'])\n",
    "scores[key] = parse_xgb_output(output)\n",
    "scores.keys()"
   ]
  },
  {
   "cell_type": "code",
   "execution_count": 78,
   "id": "0b3b28d4",
   "metadata": {},
   "outputs": [
    {
     "data": {
      "text/plain": [
       "<matplotlib.legend.Legend at 0x7f79d18f7d10>"
      ]
     },
     "execution_count": 78,
     "metadata": {},
     "output_type": "execute_result"
    },
    {
     "data": {
      "image/png": "[encoded data removed]",
      "text/plain": [
       "<Figure size 432x288 with 1 Axes>"
      ]
     },
     "metadata": {
      "needs_background": "light"
     },
     "output_type": "display_data"
    }
   ],
   "source": [
    "etas = ['eta=1', 'eta=0.3', 'eta=0.1', 'eta=0.01', 'eta=0.05']\n",
    "for eta in etas:\n",
    "    df_score = scores[eta]\n",
    "    plt.plot(df_score.num_iter, df_score.val_auc, label=eta)\n",
    "\n",
    "plt.legend()"
   ]
  },
  {
   "cell_type": "markdown",
   "id": "d5b426b0",
   "metadata": {},
   "source": [
    "Best eta = 0.3"
   ]
  },
  {
   "cell_type": "markdown",
   "id": "498288c2",
   "metadata": {},
   "source": [
    "Tuning best max_depth"
   ]
  },
  {
   "cell_type": "code",
   "execution_count": 79,
   "id": "fe95f3e9",
   "metadata": {},
   "outputs": [],
   "source": [
    "scores = {}"
   ]
  },
  {
   "cell_type": "code",
   "execution_count": 86,
   "id": "beca652e",
   "metadata": {},
   "outputs": [],
   "source": [
    "%%capture output\n",
    "\n",
    "xgb_params = {\n",
    "    'eta': 0.3,\n",
    "    'max_depth': 10,\n",
    "    'min_child_weight': 1,\n",
    "    'objective': 'binary:logistic',\n",
    "    'eval_metric': 'auc',\n",
    "    'nthread': 8,\n",
    "    'seed': 1,\n",
    "    'verbosity': 1,\n",
    "}\n",
    "\n",
    "model = xgb.train(xgb_params,\n",
    "                  dtrain,\n",
    "                  num_boost_round=200,\n",
    "                  verbose_eval=5,\n",
    "                  evals=watchlist)"
   ]
  },
  {
   "cell_type": "code",
   "execution_count": 87,
   "id": "0334d1d0",
   "metadata": {},
   "outputs": [
    {
     "data": {
      "text/plain": [
       "dict_keys(['max_depth=3', 'max_depth=4', 'max_depth=6', 'max_depth=10'])"
      ]
     },
     "execution_count": 87,
     "metadata": {},
     "output_type": "execute_result"
    }
   ],
   "source": [
    "# dict_keys(['max_depth=3', 'max_depth=4', 'max_depth=6', 'max_depth=10'])\n",
    "\n",
    "key = 'max_depth=%s' % (xgb_params['max_depth'])\n",
    "scores[key] = parse_xgb_output(output)\n",
    "scores.keys()"
   ]
  },
  {
   "cell_type": "code",
   "execution_count": 88,
   "id": "eb10e3aa",
   "metadata": {},
   "outputs": [
    {
     "data": {
      "text/plain": [
       "<matplotlib.legend.Legend at 0x7f79cc605550>"
      ]
     },
     "execution_count": 88,
     "metadata": {},
     "output_type": "execute_result"
    },
    {
     "data": {
      "image/png": "[encoded data removed]",
      "text/plain": [
       "<Figure size 432x288 with 1 Axes>"
      ]
     },
     "metadata": {
      "needs_background": "light"
     },
     "output_type": "display_data"
    }
   ],
   "source": [
    "for max_depth, df_score in scores.items():\n",
    "    plt.plot(df_score.num_iter, df_score.val_auc, label=max_depth)\n",
    "\n",
    "plt.legend()"
   ]
  },
  {
   "cell_type": "markdown",
   "id": "738f34e0",
   "metadata": {},
   "source": [
    "Best depth = 10"
   ]
  },
  {
   "cell_type": "markdown",
   "id": "dedff7cd",
   "metadata": {},
   "source": [
    "Tuning best min_child_weight"
   ]
  },
  {
   "cell_type": "code",
   "execution_count": 89,
   "id": "bfce5531",
   "metadata": {},
   "outputs": [],
   "source": [
    "scores = {}"
   ]
  },
  {
   "cell_type": "code",
   "execution_count": 94,
   "id": "3a778035",
   "metadata": {},
   "outputs": [],
   "source": [
    "%%capture output\n",
    "\n",
    "xgb_params = {\n",
    "    'eta': 0.3,\n",
    "    'max_depth': 10,\n",
    "    'min_child_weight': 30,\n",
    "    'objective': 'binary:logistic',\n",
    "    'eval_metric': 'auc',\n",
    "    'nthread': 8,\n",
    "    'seed': 1,\n",
    "    'verbosity': 1,\n",
    "}\n",
    "\n",
    "model = xgb.train(xgb_params,\n",
    "                  dtrain,\n",
    "                  num_boost_round=200,\n",
    "                  verbose_eval=5,\n",
    "                  evals=watchlist)"
   ]
  },
  {
   "cell_type": "code",
   "execution_count": 95,
   "id": "de97c003",
   "metadata": {},
   "outputs": [
    {
     "data": {
      "text/plain": [
       "dict_keys(['min_child_weight=1', 'min_child_weight=10', 'min_child_weight=30'])"
      ]
     },
     "execution_count": 95,
     "metadata": {},
     "output_type": "execute_result"
    }
   ],
   "source": [
    "# dict_keys(['min_child_weight=1', 'min_child_weight=10', 'min_child_weight=30'])\n",
    "\n",
    "key = 'min_child_weight=%s' % (xgb_params['min_child_weight'])\n",
    "scores[key] = parse_xgb_output(output)\n",
    "scores.keys()"
   ]
  },
  {
   "cell_type": "code",
   "execution_count": 96,
   "id": "2136b37f",
   "metadata": {},
   "outputs": [
    {
     "data": {
      "text/plain": [
       "<matplotlib.legend.Legend at 0x7f79cce80a50>"
      ]
     },
     "execution_count": 96,
     "metadata": {},
     "output_type": "execute_result"
    },
    {
     "data": {
      "image/png": "[encoded data removed]",
      "text/plain": [
       "<Figure size 432x288 with 1 Axes>"
      ]
     },
     "metadata": {
      "needs_background": "light"
     },
     "output_type": "display_data"
    }
   ],
   "source": [
    "for min_child_weight, df_score in scores.items():\n",
    "    plt.plot(df_score.num_iter, df_score.val_auc, label=min_child_weight)\n",
    "\n",
    "plt.legend()"
   ]
  },
  {
   "cell_type": "markdown",
   "id": "0d09b331",
   "metadata": {},
   "source": [
    "Best min_child_weight = 1"
   ]
  },
  {
   "cell_type": "code",
   "execution_count": 18,
   "id": "7ec0260f",
   "metadata": {},
   "outputs": [],
   "source": [
    "xgb_params = {\n",
    "    'eta': 0.3,\n",
    "    'max_depth': 10,\n",
    "    'min_child_weight': 1,\n",
    "    'objective': 'binary:logistic',\n",
    "    'eval_metric': 'auc',\n",
    "    'nthread': 8,\n",
    "    'seed': 1,\n",
    "    'verbosity': 1,\n",
    "}\n",
    "\n",
    "model = xgb.train(xgb_params,\n",
    "                  dtrain,\n",
    "                  num_boost_round=175)"
   ]
  },
  {
   "cell_type": "code",
   "execution_count": 19,
   "id": "b53dd60e",
   "metadata": {},
   "outputs": [
    {
     "data": {
      "text/plain": [
       "0.9830337857763396"
      ]
     },
     "execution_count": 19,
     "metadata": {},
     "output_type": "execute_result"
    }
   ],
   "source": [
    "y_pred = model.predict(dval)\n",
    "roc_auc_score(y_val, y_pred)"
   ]
  },
  {
   "cell_type": "code",
   "execution_count": 20,
   "id": "66cc1d5a",
   "metadata": {},
   "outputs": [
    {
     "name": "stdout",
     "output_type": "stream",
     "text": [
      "[[0.95 0.  ]\n",
      " [0.02 0.03]]\n"
     ]
    }
   ],
   "source": [
    "confusionMap(y_val)"
   ]
  },
  {
   "cell_type": "code",
   "execution_count": 21,
   "id": "cdfadf92",
   "metadata": {},
   "outputs": [
    {
     "name": "stdout",
     "output_type": "stream",
     "text": [
      "Precision: 0.932\n",
      "Recall: 0.665\n"
     ]
    }
   ],
   "source": [
    "Precision_Recall(y_val)"
   ]
  },
  {
   "cell_type": "code",
   "execution_count": null,
   "id": "489cac22",
   "metadata": {},
   "outputs": [],
   "source": []
  },
  {
   "cell_type": "code",
   "execution_count": 29,
   "id": "fd92d2f3",
   "metadata": {},
   "outputs": [],
   "source": [
    "thresholds = np.linspace(0, 1 , 21)"
   ]
  },
  {
   "cell_type": "code",
   "execution_count": 30,
   "id": "05cd642d",
   "metadata": {},
   "outputs": [],
   "source": [
    "t = 0.5"
   ]
  },
  {
   "cell_type": "code",
   "execution_count": 31,
   "id": "73bdd486",
   "metadata": {},
   "outputs": [],
   "source": [
    "def tpr_fpr_dataframe(y_val, y_pred):\n",
    "    scores = []\n",
    "\n",
    "    for t in thresholds:\n",
    "        actual_positive = (y_val == 1)\n",
    "        actual_negative = (y_val == 0)\n",
    "\n",
    "        predict_positive = (y_pred >= t)\n",
    "        predict_negative = (y_pred < t)\n",
    "\n",
    "        tp = (predict_positive & actual_positive).sum()\n",
    "        tn = (predict_negative & actual_negative).sum()\n",
    "\n",
    "        fp = (predict_positive & actual_negative).sum()\n",
    "        fn = (predict_negative & actual_positive).sum()\n",
    "\n",
    "        scores.append((t, tp, fp, fn, tn))\n",
    "    \n",
    "    columns = ['threshold', 'tp', 'fp', 'fn', 'tn']\n",
    "    df_scores = pd.DataFrame(scores, columns=columns)\n",
    "\n",
    "    df_scores['tpr'] = df_scores.tp / (df_scores.tp + df_scores.fn)\n",
    "    df_scores['fpr'] = df_scores.fp / (df_scores.fp + df_scores.tn)\n",
    "    return df_scores"
   ]
  },
  {
   "cell_type": "code",
   "execution_count": 32,
   "id": "308bb1c1",
   "metadata": {},
   "outputs": [
    {
     "data": {
      "text/plain": [
       "(3391, 185)"
      ]
     },
     "execution_count": 32,
     "metadata": {},
     "output_type": "execute_result"
    }
   ],
   "source": [
    "num_neg = (y_val == 0).sum()\n",
    "num_pos = (y_val == 1).sum()\n",
    "num_neg, num_pos"
   ]
  },
  {
   "cell_type": "code",
   "execution_count": 33,
   "id": "9dde08ea",
   "metadata": {},
   "outputs": [],
   "source": [
    "y_ideal = np.repeat([0, 1], [num_neg, num_pos])\n",
    "y_ideal_pred = np.linspace(0, 1, len(y_val))\n",
    "df_ideal = tpr_fpr_dataframe(y_ideal, y_ideal_pred)"
   ]
  },
  {
   "cell_type": "code",
   "execution_count": 34,
   "id": "1bb55bac",
   "metadata": {},
   "outputs": [
    {
     "data": {
      "text/plain": [
       "<matplotlib.legend.Legend at 0x7fefa81f0be0>"
      ]
     },
     "execution_count": 34,
     "metadata": {},
     "output_type": "execute_result"
    },
    {
     "data": {
      "image/png": "[encoded data removed]",
      "text/plain": [
       "<Figure size 432x288 with 1 Axes>"
      ]
     },
     "metadata": {
      "needs_background": "light"
     },
     "output_type": "display_data"
    }
   ],
   "source": [
    "plt.plot(df_ideal.threshold, df_ideal['tpr'], label='TPR')\n",
    "plt.plot(df_ideal.threshold, df_ideal['fpr'], label='FPR')\n",
    "plt.legend()"
   ]
  },
  {
   "cell_type": "code",
   "execution_count": 42,
   "id": "ea1544e6",
   "metadata": {},
   "outputs": [
    {
     "data": {
      "text/plain": [
       "0.9217002237136466"
      ]
     },
     "execution_count": 42,
     "metadata": {},
     "output_type": "execute_result"
    }
   ],
   "source": [
    "((y_ideal_pred > 0.87) == y_ideal).mean()"
   ]
  },
  {
   "cell_type": "markdown",
   "id": "a6426479",
   "metadata": {},
   "source": [
    "<h3>Training the model with full dataset</h3>"
   ]
  },
  {
   "cell_type": "markdown",
   "id": "a3e88bc5",
   "metadata": {},
   "source": [
    "Best Result with Xgboost, then train the model with the full dataset"
   ]
  },
  {
   "cell_type": "code",
   "execution_count": 1,
   "id": "39cc75c8",
   "metadata": {},
   "outputs": [],
   "source": [
    "import pandas as pd\n",
    "import numpy as np\n",
    "from sklearn.model_selection import train_test_split\n",
    "from sklearn.feature_extraction import DictVectorizer\n",
    "from sklearn.metrics import roc_auc_score\n",
    "import xgboost as xgb"
   ]
  },
  {
   "cell_type": "code",
   "execution_count": null,
   "id": "39fa9b0f",
   "metadata": {},
   "outputs": [],
   "source": []
  },
  {
   "cell_type": "code",
   "execution_count": 2,
   "id": "6f7833d6",
   "metadata": {},
   "outputs": [],
   "source": [
    "def dataset_loading(file):\n",
    "    df = pd.read_csv(file)\n",
    "    return df\n",
    "\n",
    "\n",
    "def dataset_cleaning(df):\n",
    "    df = df.drop(['job_id'], axis = 'columns')\n",
    "    \n",
    "    df['title_lenght'] = (np.where(df['title'].isnull(), 0, df['title'].str.len())).astype('int64')\n",
    "    df['location_available'] = np.where(df['location'].isnull(), 'not_available', 'available')\n",
    "    df['department_available'] = np.where(df['department'].isnull(), 'not_available', 'available')\n",
    "    df['salary_range_available'] = np.where(df['salary_range'].isnull(), 'not_available', 'available')\n",
    "    df['company_profile_available'] = np.where(df['company_profile'].isnull(), 'not_available', 'available')\n",
    "    df['company_profile_lenght'] = (np.where(df['company_profile'].isnull(), 0, df['company_profile'].str.len())).astype('int64')\n",
    "    df['description_available'] = np.where(df['description'].isnull(), 'not_available', 'available')\n",
    "    df['description_lenght'] = (np.where(df['description'].isnull(), 0, df['description'].str.len())).astype('int64')\n",
    "    df['requirements_available'] = np.where(df['requirements'].isnull(), 'not_available', 'available')\n",
    "    df['requirements_lenght'] = (np.where(df['requirements'].isnull(), 0, df['requirements'].str.len())).astype('int64')\n",
    "    df['benefits_available'] = np.where(df['benefits'].isnull(), 'not_available', 'available')\n",
    "    df['benefits_lenght'] = (np.where(df['benefits'].isnull(), 0, df['benefits'].str.len())).astype('int64')\n",
    "    df = df.drop(['title', 'location', 'department', 'salary_range', 'company_profile', 'description', 'requirements', 'benefits'], axis = 'columns')\n",
    "\n",
    "    df.fillna(\"not_available\",inplace=True)\n",
    "\n",
    "    cols = list(df.dtypes[df.dtypes == 'object'].index)\n",
    "    for c in cols:\n",
    "        df[c] = df[c].str.lower().str.replace(' ', '_')\n",
    "    \n",
    "    return df\n",
    "\n",
    "\n",
    "def confusionMap(y_val):\n",
    "    actual_positive = (y_val == 1)\n",
    "    actual_negative = (y_val == 0)\n",
    "\n",
    "    t = 0.5\n",
    "    predict_positive = (y_pred >= t)\n",
    "    predict_negative = (y_pred < t)\n",
    "\n",
    "    tp = (predict_positive & actual_positive).sum()\n",
    "    tn = (predict_negative & actual_negative).sum()\n",
    "\n",
    "    fp = (predict_positive & actual_negative).sum()\n",
    "    fn = (predict_negative & actual_positive).sum()\n",
    "\n",
    "    confusion_matrix = np.array([\n",
    "        [tn, fp], \n",
    "        [fn, tp]\n",
    "    ])\n",
    "\n",
    "    print((confusion_matrix / confusion_matrix.sum()).round(2))\n",
    "\n",
    "\n",
    "def Precision_Recall(y_val):\n",
    "    actual_positive = (y_val == 1)\n",
    "    actual_negative = (y_val == 0)\n",
    "\n",
    "    t = 0.5\n",
    "    predict_positive = (y_pred >= t)\n",
    "    predict_negative = (y_pred < t)\n",
    "\n",
    "    tp = (predict_positive & actual_positive).sum()\n",
    "    tn = (predict_negative & actual_negative).sum()\n",
    "\n",
    "    fp = (predict_positive & actual_negative).sum()\n",
    "    fn = (predict_negative & actual_positive).sum()\n",
    "    p = tp / (tp + fp)\n",
    "    print('Precision: %.3f' % p)\n",
    "\n",
    "    r = tp / (tp + fn)\n",
    "    print('Recall: %.3f' % r)"
   ]
  },
  {
   "cell_type": "code",
   "execution_count": null,
   "id": "52d0e49b",
   "metadata": {},
   "outputs": [],
   "source": []
  },
  {
   "cell_type": "code",
   "execution_count": 3,
   "id": "4d63cbb7",
   "metadata": {},
   "outputs": [],
   "source": [
    "df = dataset_loading('fake_job_postings.csv')\n",
    "\n",
    "df = dataset_cleaning(df)\n",
    "\n",
    "numerical = ['telecommuting', 'has_company_logo', 'has_questions', 'company_profile_lenght', 'description_lenght',\n",
    "            'requirements_lenght', 'benefits_lenght', 'title_lenght']\n",
    "categorical = ['location_available', 'department_available', 'salary_range_available', 'company_profile_available',\n",
    "               'description_available', 'requirements_available', 'benefits_available', 'employment_type',\n",
    "               'required_experience', 'required_education', 'industry', 'function']         \n",
    "target = ['fraudulent']\n",
    "\n",
    "df_full_train, df_test = train_test_split(df, test_size=0.2, random_state=42)\n",
    "df_train, df_val = train_test_split(df_full_train, test_size=0.25, random_state=42)\n",
    "df_train = df_train.reset_index(drop=True)\n",
    "df_full_train = df_full_train.reset_index(drop=True)\n",
    "df_val = df_val.reset_index(drop=True)\n",
    "df_test = df_test.reset_index(drop=True)\n",
    "\n",
    "y_train = df_train.fraudulent.values\n",
    "y_full_train = df_full_train.fraudulent.values\n",
    "y_val = df_val.fraudulent.values\n",
    "y_test = df_test.fraudulent.values\n",
    "\n",
    "del df_train['fraudulent']\n",
    "del df_val['fraudulent']\n",
    "del df_full_train['fraudulent']\n",
    "del df_test['fraudulent']\n",
    "\n",
    "train_dicts = df_train[categorical + numerical].to_dict(orient='records')\n",
    "full_train_dicts = df_full_train[categorical + numerical].to_dict(orient='records')\n",
    "val_dicts = df_val[categorical + numerical].to_dict(orient='records')\n",
    "test_dicts = df_test[categorical + numerical].to_dict(orient='records')\n",
    "\n",
    "dv = DictVectorizer(sparse=False)\n",
    "\n",
    "X_train = dv.fit_transform(train_dicts)\n",
    "X_full_train = dv.transform(full_train_dicts)\n",
    "X_val = dv.transform(val_dicts)\n",
    "X_test = dv.transform(test_dicts)"
   ]
  },
  {
   "cell_type": "code",
   "execution_count": null,
   "id": "be185990",
   "metadata": {},
   "outputs": [],
   "source": []
  },
  {
   "cell_type": "code",
   "execution_count": 6,
   "id": "011b74a2",
   "metadata": {},
   "outputs": [],
   "source": [
    "features = dv.get_feature_names()"
   ]
  },
  {
   "cell_type": "code",
   "execution_count": 7,
   "id": "c1b5d2ca",
   "metadata": {},
   "outputs": [],
   "source": [
    "dtrain = xgb.DMatrix(X_train, label=y_train, feature_names=features)\n",
    "dfulltrain = xgb.DMatrix(X_full_train, label=y_full_train, feature_names=features)\n",
    "dval = xgb.DMatrix(X_val, label=y_val, feature_names=features)\n",
    "dtest = xgb.DMatrix(X_test, label=y_test, feature_names=features)"
   ]
  },
  {
   "cell_type": "code",
   "execution_count": 8,
   "id": "c2870be9",
   "metadata": {},
   "outputs": [],
   "source": [
    "xgb_params = {\n",
    "    'eta': 0.3,\n",
    "    'max_depth': 10,\n",
    "    'min_child_weight': 1,\n",
    "    'objective': 'binary:logistic',\n",
    "    'eval_metric': 'auc',\n",
    "    'nthread': 8,\n",
    "    'seed': 1,\n",
    "    'verbosity': 1,\n",
    "}\n",
    "\n",
    "model = xgb.train(xgb_params,\n",
    "                  dfulltrain,\n",
    "                  num_boost_round=175)"
   ]
  },
  {
   "cell_type": "code",
   "execution_count": 9,
   "id": "b12a8cb3",
   "metadata": {},
   "outputs": [
    {
     "data": {
      "text/plain": [
       "0.9834742349408865"
      ]
     },
     "execution_count": 9,
     "metadata": {},
     "output_type": "execute_result"
    }
   ],
   "source": [
    "y_pred = model.predict(dtest)\n",
    "roc_auc_score(y_test, y_pred)"
   ]
  },
  {
   "cell_type": "code",
   "execution_count": 10,
   "id": "03e3d427",
   "metadata": {},
   "outputs": [
    {
     "name": "stdout",
     "output_type": "stream",
     "text": [
      "[[0.95 0.  ]\n",
      " [0.01 0.04]]\n"
     ]
    }
   ],
   "source": [
    "confusionMap(y_test)"
   ]
  },
  {
   "cell_type": "code",
   "execution_count": 11,
   "id": "7c18605d",
   "metadata": {},
   "outputs": [
    {
     "name": "stdout",
     "output_type": "stream",
     "text": [
      "Precision: 0.938\n",
      "Recall: 0.746\n"
     ]
    }
   ],
   "source": [
    "Precision_Recall(y_test)"
   ]
  },
  {
   "cell_type": "markdown",
   "id": "a22f1894",
   "metadata": {},
   "source": [
    "<h3>Exporting model to file</h3>"
   ]
  },
  {
   "cell_type": "code",
   "execution_count": 26,
   "id": "125cb281",
   "metadata": {},
   "outputs": [],
   "source": [
    "import pickle"
   ]
  },
  {
   "cell_type": "code",
   "execution_count": 27,
   "id": "eaceb446",
   "metadata": {},
   "outputs": [],
   "source": [
    "output_file = f'model.bin'"
   ]
  },
  {
   "cell_type": "code",
   "execution_count": 28,
   "id": "5886a094",
   "metadata": {},
   "outputs": [
    {
     "name": "stdout",
     "output_type": "stream",
     "text": [
      "The Model is saved to model.bin\n"
     ]
    }
   ],
   "source": [
    "with open(output_file, 'wb') as f_out:\n",
    "    pickle.dump((dv,model), f_out)\n",
    "\n",
    "print(f'The Model is saved to {output_file}')"
   ]
  },
  {
   "cell_type": "code",
   "execution_count": null,
   "id": "a16b720d",
   "metadata": {},
   "outputs": [],
   "source": []
  }
 ],
 "metadata": {
  "kernelspec": {
   "display_name": "Python 3 (ipykernel)",
   "language": "python",
   "name": "python3"
  },
  "language_info": {
   "codemirror_mode": {
    "name": "ipython",
    "version": 3
   },
   "file_extension": ".py",
   "mimetype": "text/x-python",
   "name": "python",
   "nbconvert_exporter": "python",
   "pygments_lexer": "ipython3",
   "version": "3.8.11"
  }
 },
 "nbformat": 4,
 "nbformat_minor": 5
}
